{
 "cells": [
  {
   "cell_type": "code",
   "execution_count": 1,
   "id": "cfbc88cd-9385-4f06-9049-c809ae16f73a",
   "metadata": {},
   "outputs": [],
   "source": [
    "import numpy as np\n",
    "import pandas as pd\n",
    "import plotly.graph_objects as go\n",
    "import plotly.express as px\n"
   ]
  },
  {
   "cell_type": "code",
   "execution_count": 3,
   "id": "eee6aece-6478-44df-a7ae-b4633758b33d",
   "metadata": {},
   "outputs": [
    {
     "name": "stdout",
     "output_type": "stream",
     "text": [
      "Requirement already satisfied: jupyter-dash in c:\\users\\win10\\anaconda3\\lib\\site-packages (0.4.2)\n",
      "Requirement already satisfied: requests in c:\\users\\win10\\anaconda3\\lib\\site-packages (from jupyter-dash) (2.27.1)\n",
      "Requirement already satisfied: ansi2html in c:\\users\\win10\\anaconda3\\lib\\site-packages (from jupyter-dash) (1.8.0)\n",
      "Requirement already satisfied: dash in c:\\users\\win10\\anaconda3\\lib\\site-packages (from jupyter-dash) (2.0.0)\n",
      "Requirement already satisfied: nest-asyncio in c:\\users\\win10\\anaconda3\\lib\\site-packages (from jupyter-dash) (1.5.5)\n",
      "Requirement already satisfied: ipython in c:\\users\\win10\\anaconda3\\lib\\site-packages (from jupyter-dash) (8.2.0)\n",
      "Requirement already satisfied: ipykernel in c:\\users\\win10\\anaconda3\\lib\\site-packages (from jupyter-dash) (6.9.1)\n",
      "Requirement already satisfied: flask in c:\\users\\win10\\anaconda3\\lib\\site-packages (from jupyter-dash) (1.1.2)\n",
      "Requirement already satisfied: retrying in c:\\users\\win10\\anaconda3\\lib\\site-packages (from jupyter-dash) (1.3.4)\n",
      "Requirement already satisfied: plotly>=5.0.0 in c:\\users\\win10\\anaconda3\\lib\\site-packages (from dash->jupyter-dash) (5.6.0)\n",
      "Requirement already satisfied: dash-table==5.0.0 in c:\\users\\win10\\anaconda3\\lib\\site-packages (from dash->jupyter-dash) (5.0.0)\n",
      "Requirement already satisfied: flask-compress in c:\\users\\win10\\anaconda3\\lib\\site-packages (from dash->jupyter-dash) (1.13)\n",
      "Requirement already satisfied: dash-core-components==2.0.0 in c:\\users\\win10\\anaconda3\\lib\\site-packages (from dash->jupyter-dash) (2.0.0)\n",
      "Requirement already satisfied: dash-html-components==2.0.0 in c:\\users\\win10\\anaconda3\\lib\\site-packages (from dash->jupyter-dash) (2.0.0)\n",
      "Requirement already satisfied: Werkzeug>=0.15 in c:\\users\\win10\\anaconda3\\lib\\site-packages (from flask->jupyter-dash) (2.0.3)\n",
      "Requirement already satisfied: itsdangerous>=0.24 in c:\\users\\win10\\anaconda3\\lib\\site-packages (from flask->jupyter-dash) (2.0.1)\n",
      "Requirement already satisfied: Jinja2>=2.10.1 in c:\\users\\win10\\anaconda3\\lib\\site-packages (from flask->jupyter-dash) (2.11.3)\n",
      "Requirement already satisfied: click>=5.1 in c:\\users\\win10\\anaconda3\\lib\\site-packages (from flask->jupyter-dash) (8.0.4)\n",
      "Requirement already satisfied: colorama in c:\\users\\win10\\anaconda3\\lib\\site-packages (from click>=5.1->flask->jupyter-dash) (0.4.4)\n",
      "Requirement already satisfied: MarkupSafe>=0.23 in c:\\users\\win10\\anaconda3\\lib\\site-packages (from Jinja2>=2.10.1->flask->jupyter-dash) (2.0.1)\n",
      "Requirement already satisfied: six in c:\\users\\win10\\anaconda3\\lib\\site-packages (from plotly>=5.0.0->dash->jupyter-dash) (1.16.0)\n",
      "Requirement already satisfied: tenacity>=6.2.0 in c:\\users\\win10\\anaconda3\\lib\\site-packages (from plotly>=5.0.0->dash->jupyter-dash) (8.0.1)\n",
      "Requirement already satisfied: brotli in c:\\users\\win10\\anaconda3\\lib\\site-packages (from flask-compress->dash->jupyter-dash) (1.0.9)\n",
      "Requirement already satisfied: jupyter-client<8.0 in c:\\users\\win10\\anaconda3\\lib\\site-packages (from ipykernel->jupyter-dash) (6.1.12)\n",
      "Requirement already satisfied: traitlets<6.0,>=5.1.0 in c:\\users\\win10\\anaconda3\\lib\\site-packages (from ipykernel->jupyter-dash) (5.1.1)\n",
      "Requirement already satisfied: tornado<7.0,>=4.2 in c:\\users\\win10\\anaconda3\\lib\\site-packages (from ipykernel->jupyter-dash) (6.1)\n",
      "Requirement already satisfied: matplotlib-inline<0.2.0,>=0.1.0 in c:\\users\\win10\\anaconda3\\lib\\site-packages (from ipykernel->jupyter-dash) (0.1.2)\n",
      "Requirement already satisfied: debugpy<2.0,>=1.0.0 in c:\\users\\win10\\anaconda3\\lib\\site-packages (from ipykernel->jupyter-dash) (1.5.1)\n",
      "Requirement already satisfied: backcall in c:\\users\\win10\\anaconda3\\lib\\site-packages (from ipython->jupyter-dash) (0.2.0)\n",
      "Requirement already satisfied: prompt-toolkit!=3.0.0,!=3.0.1,<3.1.0,>=2.0.0 in c:\\users\\win10\\anaconda3\\lib\\site-packages (from ipython->jupyter-dash) (3.0.20)\n",
      "Requirement already satisfied: jedi>=0.16 in c:\\users\\win10\\anaconda3\\lib\\site-packages (from ipython->jupyter-dash) (0.18.1)\n",
      "Requirement already satisfied: pickleshare in c:\\users\\win10\\anaconda3\\lib\\site-packages (from ipython->jupyter-dash) (0.7.5)\n",
      "Requirement already satisfied: stack-data in c:\\users\\win10\\anaconda3\\lib\\site-packages (from ipython->jupyter-dash) (0.2.0)\n",
      "Requirement already satisfied: decorator in c:\\users\\win10\\anaconda3\\lib\\site-packages (from ipython->jupyter-dash) (5.1.1)\n",
      "Requirement already satisfied: setuptools>=18.5 in c:\\users\\win10\\anaconda3\\lib\\site-packages (from ipython->jupyter-dash) (61.2.0)\n",
      "Requirement already satisfied: pygments>=2.4.0 in c:\\users\\win10\\anaconda3\\lib\\site-packages (from ipython->jupyter-dash) (2.11.2)\n",
      "Requirement already satisfied: parso<0.9.0,>=0.8.0 in c:\\users\\win10\\anaconda3\\lib\\site-packages (from jedi>=0.16->ipython->jupyter-dash) (0.8.3)\n",
      "Requirement already satisfied: python-dateutil>=2.1 in c:\\users\\win10\\anaconda3\\lib\\site-packages (from jupyter-client<8.0->ipykernel->jupyter-dash) (2.8.2)\n",
      "Requirement already satisfied: pyzmq>=13 in c:\\users\\win10\\anaconda3\\lib\\site-packages (from jupyter-client<8.0->ipykernel->jupyter-dash) (22.3.0)\n",
      "Requirement already satisfied: jupyter-core>=4.6.0 in c:\\users\\win10\\anaconda3\\lib\\site-packages (from jupyter-client<8.0->ipykernel->jupyter-dash) (4.9.2)\n",
      "Requirement already satisfied: pywin32>=1.0 in c:\\users\\win10\\anaconda3\\lib\\site-packages (from jupyter-core>=4.6.0->jupyter-client<8.0->ipykernel->jupyter-dash) (302)\n",
      "Requirement already satisfied: wcwidth in c:\\users\\win10\\anaconda3\\lib\\site-packages (from prompt-toolkit!=3.0.0,!=3.0.1,<3.1.0,>=2.0.0->ipython->jupyter-dash) (0.2.5)\n",
      "Requirement already satisfied: idna<4,>=2.5 in c:\\users\\win10\\anaconda3\\lib\\site-packages (from requests->jupyter-dash) (3.3)\n",
      "Requirement already satisfied: certifi>=2017.4.17 in c:\\users\\win10\\anaconda3\\lib\\site-packages (from requests->jupyter-dash) (2021.10.8)\n",
      "Requirement already satisfied: urllib3<1.27,>=1.21.1 in c:\\users\\win10\\anaconda3\\lib\\site-packages (from requests->jupyter-dash) (1.26.9)\n",
      "Requirement already satisfied: charset-normalizer~=2.0.0 in c:\\users\\win10\\anaconda3\\lib\\site-packages (from requests->jupyter-dash) (2.0.4)\n",
      "Requirement already satisfied: executing in c:\\users\\win10\\anaconda3\\lib\\site-packages (from stack-data->ipython->jupyter-dash) (0.8.3)\n",
      "Requirement already satisfied: asttokens in c:\\users\\win10\\anaconda3\\lib\\site-packages (from stack-data->ipython->jupyter-dash) (2.0.5)\n",
      "Requirement already satisfied: pure-eval in c:\\users\\win10\\anaconda3\\lib\\site-packages (from stack-data->ipython->jupyter-dash) (0.2.2)\n"
     ]
    }
   ],
   "source": [
    "!pip install jupyter-dash"
   ]
  },
  {
   "cell_type": "code",
   "execution_count": 4,
   "id": "f9b80526-5a99-4366-9ef3-11baa4b4c248",
   "metadata": {},
   "outputs": [
    {
     "name": "stdout",
     "output_type": "stream",
     "text": [
      "Requirement already satisfied: dash-bootstrap-components in c:\\users\\win10\\anaconda3\\lib\\site-packages (1.4.0)\n",
      "Requirement already satisfied: dash>=2.0.0 in c:\\users\\win10\\anaconda3\\lib\\site-packages (from dash-bootstrap-components) (2.0.0)\n",
      "Requirement already satisfied: dash-html-components==2.0.0 in c:\\users\\win10\\anaconda3\\lib\\site-packages (from dash>=2.0.0->dash-bootstrap-components) (2.0.0)\n",
      "Requirement already satisfied: dash-table==5.0.0 in c:\\users\\win10\\anaconda3\\lib\\site-packages (from dash>=2.0.0->dash-bootstrap-components) (5.0.0)\n",
      "Requirement already satisfied: plotly>=5.0.0 in c:\\users\\win10\\anaconda3\\lib\\site-packages (from dash>=2.0.0->dash-bootstrap-components) (5.6.0)\n",
      "Requirement already satisfied: dash-core-components==2.0.0 in c:\\users\\win10\\anaconda3\\lib\\site-packages (from dash>=2.0.0->dash-bootstrap-components) (2.0.0)\n",
      "Requirement already satisfied: Flask>=1.0.4 in c:\\users\\win10\\anaconda3\\lib\\site-packages (from dash>=2.0.0->dash-bootstrap-components) (1.1.2)\n",
      "Requirement already satisfied: flask-compress in c:\\users\\win10\\anaconda3\\lib\\site-packages (from dash>=2.0.0->dash-bootstrap-components) (1.13)\n",
      "Requirement already satisfied: click>=5.1 in c:\\users\\win10\\anaconda3\\lib\\site-packages (from Flask>=1.0.4->dash>=2.0.0->dash-bootstrap-components) (8.0.4)\n",
      "Requirement already satisfied: Jinja2>=2.10.1 in c:\\users\\win10\\anaconda3\\lib\\site-packages (from Flask>=1.0.4->dash>=2.0.0->dash-bootstrap-components) (2.11.3)\n",
      "Requirement already satisfied: Werkzeug>=0.15 in c:\\users\\win10\\anaconda3\\lib\\site-packages (from Flask>=1.0.4->dash>=2.0.0->dash-bootstrap-components) (2.0.3)\n",
      "Requirement already satisfied: itsdangerous>=0.24 in c:\\users\\win10\\anaconda3\\lib\\site-packages (from Flask>=1.0.4->dash>=2.0.0->dash-bootstrap-components) (2.0.1)\n",
      "Requirement already satisfied: colorama in c:\\users\\win10\\anaconda3\\lib\\site-packages (from click>=5.1->Flask>=1.0.4->dash>=2.0.0->dash-bootstrap-components) (0.4.4)\n",
      "Requirement already satisfied: MarkupSafe>=0.23 in c:\\users\\win10\\anaconda3\\lib\\site-packages (from Jinja2>=2.10.1->Flask>=1.0.4->dash>=2.0.0->dash-bootstrap-components) (2.0.1)\n",
      "Requirement already satisfied: six in c:\\users\\win10\\anaconda3\\lib\\site-packages (from plotly>=5.0.0->dash>=2.0.0->dash-bootstrap-components) (1.16.0)\n",
      "Requirement already satisfied: tenacity>=6.2.0 in c:\\users\\win10\\anaconda3\\lib\\site-packages (from plotly>=5.0.0->dash>=2.0.0->dash-bootstrap-components) (8.0.1)\n",
      "Requirement already satisfied: brotli in c:\\users\\win10\\anaconda3\\lib\\site-packages (from flask-compress->dash>=2.0.0->dash-bootstrap-components) (1.0.9)\n"
     ]
    }
   ],
   "source": [
    "!pip install dash-bootstrap-components"
   ]
  },
  {
   "cell_type": "code",
   "execution_count": 2,
   "id": "cdf9354d-8c84-455d-b90e-27d8fdbeaa0a",
   "metadata": {},
   "outputs": [],
   "source": [
    "from jupyter_dash import JupyterDash\n",
    "from dash import Dash, dcc, html, Input, Output\n",
    "import dash_bootstrap_components as dbc\n",
    "import pandas as pd\n",
    "from datetime import date"
   ]
  },
  {
   "cell_type": "code",
   "execution_count": 3,
   "id": "83b59ff1-10cc-41bc-9f4f-234d0f3ccacd",
   "metadata": {},
   "outputs": [
    {
     "name": "stdout",
     "output_type": "stream",
     "text": [
      "Dash app running on http://127.0.0.1:8002/\n"
     ]
    }
   ],
   "source": [
    "# Creating the app\n",
    "home = JupyterDash(__name__, external_stylesheets=[dbc.themes.BOOTSTRAP])\n",
    "home.layout = dbc.Container([\n",
    "\n",
    "  \n",
    "  # Line Breaks\n",
    "\n",
    "     html.Div([\n",
    "          html.Br(), html.Br()\n",
    "     ]),\n",
    "    \n",
    "\n",
    "    #Title\n",
    "    \n",
    "    html.Section([\n",
    "        html.H2(\"Dashboard Guide on Key Employment Indicators in the Philippines\", className=\"text-center mb-3\"),\n",
    "        html.H5(\"Highlighting the intersectionality of poverty and unemployment, this website seeks to aid policymakers in identifying untapped opportunities and challenges of Filipino workers through spatial, demographic, and financial data. This dashboard was created to be a reliable source for data-driven decisions in the creation of upskilling and technical education programs to ensure that resources and opportunities arrive to those who need them the most.\", className=\"home-subheader text-center mb-5\"),\n",
    "\n",
    "        html.Div(className=\"row\", children=[\n",
    "            html.Div(className=\"card-link col-md-4 col-sm-6 mb-4\", children=[\n",
    "                html.Div(className=\"card text-center\", children=[\n",
    "                    html.Div(className=\"card-body\", children=[\n",
    "                        html.H6(\"Understanding Poverty\", className=\"card-title\"),\n",
    "                        html.P(\"How does income inequality look like across the country? Let data from the Family Income and Expenditures Survey tell us more.\", className=\"card-text\"),\n",
    "                    ])\n",
    "                ])\n",
    "            ]),\n",
    "            html.Div(className=\"card-link col-md-4 col-sm-6 mb-4\", children=[\n",
    "                html.Div(className=\"card text-center\", children=[\n",
    "                    html.Div(className=\"card-body\", children=[\n",
    "                        html.H5(\"Zooming in on Employment\", className=\"card-title\"),\n",
    "                        html.P(\"The annual Labor Force Survey gives us a glimpse of the state of our workforce and what we can find common about its subset of unemployed Filipinos\", className=\"card-text\"),\n",
    "                    ])\n",
    "                ])\n",
    "            ]),\n",
    "            html.Div(className=\"card-link col-md-4 col-sm-6 mb-4\", children=[\n",
    "                html.Div(className=\"card text-center\", children=[\n",
    "                    html.Div(className=\"card-body\", children=[\n",
    "                        html.H5(\"Finding Opportunities\", className=\"card-title\"),\n",
    "                        html.P(\"Bridging these two sets of data, we'll synthesize our findings and discover trends to be aware of so we can better capacitate our labor force.\", className=\"card-text\"),\n",
    "                    ])\n",
    "                ])\n",
    "            ])\n",
    "        ]),\n",
    "    \n",
    "       # html.Button(\"\", className=\"btn btn-primary btn-lg mt-5 mx-auto d-block\"),\n",
    "    ])\n",
    "    \n",
    "])\n",
    "\n",
    "if __name__ == '__main__':\n",
    "  home.run_server(debug=True, port = 8002)"
   ]
  },
  {
   "cell_type": "markdown",
   "source": [
    "# Nikko's Trial"
   ],
   "metadata": {
    "collapsed": false
   }
  },
  {
   "cell_type": "code",
   "execution_count": 13,
   "outputs": [
    {
     "name": "stdout",
     "output_type": "stream",
     "text": [
      "Dash app running on http://127.0.0.1:8003/\n"
     ]
    }
   ],
   "source": [
    "# Creating the app\n",
    "home = JupyterDash(__name__, external_stylesheets=[dbc.themes.BOOTSTRAP])\n",
    "home.layout = dbc.Container([\n",
    "\n",
    "    # Line Breaks\n",
    "    html.Div([\n",
    "        html.Br(), html.Br()\n",
    "    ]),\n",
    "\n",
    "    # Title\n",
    "    html.Section([\n",
    "        html.H2(\"Dashboard Guide on Key Employment Indicators in the Philippines\", className=\"text-center mb-3\"),\n",
    "        html.H5(\"Highlighting the intersectionality of poverty and unemployment, this website seeks to aid policymakers in identifying untapped opportunities and challenges of Filipino workers through spatial, demographic, and financial data. This dashboard was created to be a reliable source for data-driven decisions in the creation of upskilling and technical education programs to ensure that resources and opportunities arrive to those who need them the most.\", className=\"home-subheader text-center mb-5\"),\n",
    "\n",
    "        html.Div(className=\"row\", children=[\n",
    "            html.Div(className=\"card-link col-md-4 col-sm-6 mb-4\", children=[\n",
    "                dcc.Link(href=\"#section-1\", children=[\n",
    "                    html.Div(className=\"card text-center\", children=[\n",
    "                        html.Div(className=\"card-body\", children=[\n",
    "                            html.H6(\"Understanding Poverty\", className=\"card-title\"),\n",
    "                            html.P(\"How does income inequality look like across the country? Let data from the Family Income and Expenditures Survey tell us more.\", className=\"card-text\"),\n",
    "                        ])\n",
    "                    ])\n",
    "                ]),\n",
    "            ]),\n",
    "            html.Div(className=\"card-link col-md-4 col-sm-6 mb-4\", children=[\n",
    "                dcc.Link(href=\"#section-2\", children=[\n",
    "                    html.Div(className=\"card text-center\", children=[\n",
    "                        html.Div(className=\"card-body\", children=[\n",
    "                            html.H5(\"Zooming in on Employment\", className=\"card-title\"),\n",
    "                            html.P(\"The annual Labor Force Survey gives us a glimpse of the state of our workforce and what we can find common about its subset of unemployed Filipinos\", className=\"card-text\"),\n",
    "                        ])\n",
    "                    ])\n",
    "                ]),\n",
    "            ]),\n",
    "            html.Div(className=\"card-link col-md-4 col-sm-6 mb-4\", children=[\n",
    "                dcc.Link(href=\"#section-3\", children=[\n",
    "                    html.Div(className=\"card text-center\", children=[\n",
    "                        html.Div(className=\"card-body\", children=[\n",
    "                            html.H5(\"Finding Opportunities\", className=\"card-title\"),\n",
    "                            html.P(\"Bridging these two sets of data, we'll synthesize our findings and discover trends to be aware of so we can better capacitate our labor force.\", className=\"card-text\"),\n",
    "                        ])\n",
    "                    ])\n",
    "                ]),\n",
    "            ])\n",
    "        ]),\n",
    "\n",
    "    ]),\n",
    "\n",
    "    # Section 1\n",
    "    html.Section(id=\"section-1\", children=[\n",
    "        # Add content for section 1\n",
    "    ]),\n",
    "\n",
    "    # Section 2\n",
    "    html.Section(id=\"section-2\", children=[\n",
    "        # Add content for section 2\n",
    "    ]),\n",
    "\n",
    "    # Section 3\n",
    "    html.Section(id=\"section-3\", children=[\n",
    "        # Add content for section 3\n",
    "    ]),\n",
    "])\n",
    "\n",
    "if __name__ == '__main__':\n",
    "    home.run_server(debug=True, port=8003)"
   ],
   "metadata": {
    "collapsed": false
   }
  },
  {
   "cell_type": "code",
   "execution_count": 4,
   "id": "ffbec572-a2c6-4fbc-8569-ee245253e9bb",
   "metadata": {},
   "outputs": [
    {
     "name": "stdout",
     "output_type": "stream",
     "text": [
      "Dash app running on http://127.0.0.1:8045/\n"
     ]
    }
   ],
   "source": [
    "# Creating the app\n",
    "page = JupyterDash(__name__, external_stylesheets=[dbc.themes.BOOTSTRAP])\n",
    "\n",
    "\n",
    "page.layout = dbc.Container([\n",
    "\n",
    "    \n",
    "    # Header\n",
    "\n",
    "\n",
    "    html.Nav(\n",
    "    html.Ul([\n",
    "        html.Li([\n",
    "            html.A('Home', href='#', className='nav-link', style={'border': '1px solid grey'})\n",
    "        ], className='nav-item'),\n",
    "        html.Li([\n",
    "            html.A('Understanding Poverty', href='#', className='nav-link', style={'border': '1px solid grey'})\n",
    "        ], className='nav-item'),\n",
    "        html.Li([\n",
    "            html.A('Zooming in on Employment', href='#', className='nav-link', style={'border': '1px solid grey'})\n",
    "        ], className='nav-item'),\n",
    "        html.Li([\n",
    "            html.A('Finding Opportunities', href='#', className='nav-link', style={'border': '1px solid grey'})\n",
    "        ], className='nav-item')\n",
    "    ], className='nav'),\n",
    "\n",
    "),\n",
    "  \n",
    "  # Line Breaks\n",
    "\n",
    "     html.Div([\n",
    "          html.Br(), html.Br(), html.Br(), html.Br(), \n",
    "     ]),\n",
    "    \n",
    "    # Section \n",
    "    html.Section([\n",
    "        html.H2(\"Section Title\", className=\"text-center mb-3\"),\n",
    "        html.H5(\"Section Subheading\", className=\"text-center mb-5\"),\n",
    "        \n",
    "        html.H6(\"Main insight from the graph\", className=\"mb-5\"),\n",
    "        \n",
    "        html.P(\"Lorem Ipsum is simply dummy text of the printing and typesetting industry. Lorem Ipsum has been the industry's standard dummy text ever since the 1500s, when an unknown printer took a galley of type and scrambled it to make a type specimen book. It has survived not only five centuries, but also the leap into electronic typesetting, remaining essentially unchanged. It was popularised in the 1960s with the release of Letraset sheets containing Lorem Ipsum passages, and more recently with desktop publishing software like Aldus PageMaker including versions of Lorem Ipsum.\", className=\"mb-5\"),\n",
    "       \n",
    "        html.P(\"Lorem Ipsum is simply dummy text of the printing and typesetting industry. Lorem Ipsum has been the industry's standard dummy text ever since the 1500s, when an unknown printer took a galley of type and scrambled it to make a type specimen book. It has survived not only five centuries, but also the leap into electronic typesetting, remaining essentially unchanged. It was popularised in the 1960s with the release of Letraset sheets containing Lorem Ipsum passages, and more recently with desktop publishing software like Aldus PageMaker including versions of Lorem Ipsum.\", className=\"mb-5\"),\n",
    "        html.P(\"Lorem Ipsum is simply dummy text of the printing and typesetting industry. Lorem Ipsum has been the industry's standard dummy text ever since the 1500s, when an unknown printer took a galley of type and scrambled it to make a type specimen book. It has survived not only five centuries, but also the leap into electronic typesetting, remaining essentially unchanged. It was popularised in the 1960s with the release of Letraset sheets containing Lorem Ipsum passages, and more recently with desktop publishing software like Aldus PageMaker including versions of Lorem Ipsum.\", className=\"mb-5\"),\n",
    "        html.P(\"Lorem Ipsum is simply dummy text of the printing and typesetting industry. Lorem Ipsum has been the industry's standard dummy text ever since the 1500s, when an unknown printer took a galley of type and scrambled it to make a type specimen book. It has survived not only five centuries, but also the leap into electronic typesetting, remaining essentially unchanged. It was popularised in the 1960s with the release of Letraset sheets containing Lorem Ipsum passages, and more recently with desktop publishing software like Aldus PageMaker including versions of Lorem Ipsum.\", className=\"mb-5\"),\n",
    "\n",
    "    ])\n",
    "    \n",
    "       \n",
    "])\n",
    "\n",
    "\n",
    "\n",
    "if __name__ == '__main__':\n",
    "  page.run_server(debug=True, port = 8045)"
   ]
  },
  {
   "cell_type": "raw",
   "id": "284ba318-40de-4865-b7b2-07ccdc8a5be3",
   "metadata": {},
   "source": []
  },
  {
   "cell_type": "code",
   "execution_count": null,
   "id": "e332352f-dced-475a-8e88-9301a80fc563",
   "metadata": {},
   "outputs": [],
   "source": []
  }
 ],
 "metadata": {
  "kernelspec": {
   "display_name": "Python 3 (ipykernel)",
   "language": "python",
   "name": "python3"
  },
  "language_info": {
   "codemirror_mode": {
    "name": "ipython",
    "version": 3
   },
   "file_extension": ".py",
   "mimetype": "text/x-python",
   "name": "python",
   "nbconvert_exporter": "python",
   "pygments_lexer": "ipython3",
   "version": "3.9.12"
  }
 },
 "nbformat": 4,
 "nbformat_minor": 5
}
