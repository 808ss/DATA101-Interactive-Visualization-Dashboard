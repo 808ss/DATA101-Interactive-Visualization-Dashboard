{
 "cells": [
  {
   "cell_type": "markdown",
   "id": "9cf670f8-ea3f-4e64-ac3d-b93af8449701",
   "metadata": {
    "tags": []
   },
   "source": [
    "# Setup"
   ]
  },
  {
   "cell_type": "code",
   "execution_count": 1,
   "id": "cfbc88cd-9385-4f06-9049-c809ae16f73a",
   "metadata": {},
   "outputs": [],
   "source": [
    "import numpy as np\n",
    "import pandas as pd\n",
    "import plotly.graph_objects as go\n",
    "import plotly.express as px\n"
   ]
  },
  {
   "cell_type": "code",
   "execution_count": 14,
   "id": "eee6aece-6478-44df-a7ae-b4633758b33d",
   "metadata": {},
   "outputs": [
    {
     "name": "stdout",
     "output_type": "stream",
     "text": [
      "Requirement already satisfied: jupyter-dash in c:\\users\\win10\\anaconda3\\lib\\site-packages (0.4.2)\n",
      "Requirement already satisfied: nest-asyncio in c:\\users\\win10\\anaconda3\\lib\\site-packages (from jupyter-dash) (1.5.5)\n",
      "Requirement already satisfied: retrying in c:\\users\\win10\\anaconda3\\lib\\site-packages (from jupyter-dash) (1.3.4)\n",
      "Requirement already satisfied: flask in c:\\users\\win10\\anaconda3\\lib\\site-packages (from jupyter-dash) (1.1.2)\n",
      "Requirement already satisfied: requests in c:\\users\\win10\\anaconda3\\lib\\site-packages (from jupyter-dash) (2.27.1)\n",
      "Requirement already satisfied: ipykernel in c:\\users\\win10\\anaconda3\\lib\\site-packages (from jupyter-dash) (6.9.1)\n",
      "Requirement already satisfied: ipython in c:\\users\\win10\\anaconda3\\lib\\site-packages (from jupyter-dash) (8.2.0)\n",
      "Requirement already satisfied: ansi2html in c:\\users\\win10\\anaconda3\\lib\\site-packages (from jupyter-dash) (1.8.0)\n",
      "Requirement already satisfied: dash in c:\\users\\win10\\anaconda3\\lib\\site-packages (from jupyter-dash) (2.0.0)\n",
      "Requirement already satisfied: dash-table==5.0.0 in c:\\users\\win10\\anaconda3\\lib\\site-packages (from dash->jupyter-dash) (5.0.0)\n",
      "Requirement already satisfied: plotly>=5.0.0 in c:\\users\\win10\\anaconda3\\lib\\site-packages (from dash->jupyter-dash) (5.6.0)\n",
      "Requirement already satisfied: flask-compress in c:\\users\\win10\\anaconda3\\lib\\site-packages (from dash->jupyter-dash) (1.13)\n",
      "Requirement already satisfied: dash-html-components==2.0.0 in c:\\users\\win10\\anaconda3\\lib\\site-packages (from dash->jupyter-dash) (2.0.0)\n",
      "Requirement already satisfied: dash-core-components==2.0.0 in c:\\users\\win10\\anaconda3\\lib\\site-packages (from dash->jupyter-dash) (2.0.0)\n",
      "Requirement already satisfied: Werkzeug>=0.15 in c:\\users\\win10\\anaconda3\\lib\\site-packages (from flask->jupyter-dash) (2.0.3)\n",
      "Requirement already satisfied: click>=5.1 in c:\\users\\win10\\anaconda3\\lib\\site-packages (from flask->jupyter-dash) (8.0.4)\n",
      "Requirement already satisfied: itsdangerous>=0.24 in c:\\users\\win10\\anaconda3\\lib\\site-packages (from flask->jupyter-dash) (2.0.1)\n",
      "Requirement already satisfied: Jinja2>=2.10.1 in c:\\users\\win10\\anaconda3\\lib\\site-packages (from flask->jupyter-dash) (2.11.3)\n",
      "Requirement already satisfied: colorama in c:\\users\\win10\\anaconda3\\lib\\site-packages (from click>=5.1->flask->jupyter-dash) (0.4.4)\n",
      "Requirement already satisfied: MarkupSafe>=0.23 in c:\\users\\win10\\anaconda3\\lib\\site-packages (from Jinja2>=2.10.1->flask->jupyter-dash) (2.0.1)\n",
      "Requirement already satisfied: tenacity>=6.2.0 in c:\\users\\win10\\anaconda3\\lib\\site-packages (from plotly>=5.0.0->dash->jupyter-dash) (8.0.1)\n",
      "Requirement already satisfied: six in c:\\users\\win10\\anaconda3\\lib\\site-packages (from plotly>=5.0.0->dash->jupyter-dash) (1.16.0)\n",
      "Requirement already satisfied: brotli in c:\\users\\win10\\anaconda3\\lib\\site-packages (from flask-compress->dash->jupyter-dash) (1.0.9)\n",
      "Requirement already satisfied: traitlets<6.0,>=5.1.0 in c:\\users\\win10\\anaconda3\\lib\\site-packages (from ipykernel->jupyter-dash) (5.1.1)\n",
      "Requirement already satisfied: matplotlib-inline<0.2.0,>=0.1.0 in c:\\users\\win10\\anaconda3\\lib\\site-packages (from ipykernel->jupyter-dash) (0.1.2)\n",
      "Requirement already satisfied: tornado<7.0,>=4.2 in c:\\users\\win10\\anaconda3\\lib\\site-packages (from ipykernel->jupyter-dash) (6.1)\n",
      "Requirement already satisfied: jupyter-client<8.0 in c:\\users\\win10\\anaconda3\\lib\\site-packages (from ipykernel->jupyter-dash) (6.1.12)\n",
      "Requirement already satisfied: debugpy<2.0,>=1.0.0 in c:\\users\\win10\\anaconda3\\lib\\site-packages (from ipykernel->jupyter-dash) (1.5.1)\n",
      "Requirement already satisfied: decorator in c:\\users\\win10\\anaconda3\\lib\\site-packages (from ipython->jupyter-dash) (5.1.1)\n",
      "Requirement already satisfied: backcall in c:\\users\\win10\\anaconda3\\lib\\site-packages (from ipython->jupyter-dash) (0.2.0)\n",
      "Requirement already satisfied: jedi>=0.16 in c:\\users\\win10\\anaconda3\\lib\\site-packages (from ipython->jupyter-dash) (0.18.1)\n",
      "Requirement already satisfied: pygments>=2.4.0 in c:\\users\\win10\\anaconda3\\lib\\site-packages (from ipython->jupyter-dash) (2.11.2)\n",
      "Requirement already satisfied: setuptools>=18.5 in c:\\users\\win10\\anaconda3\\lib\\site-packages (from ipython->jupyter-dash) (61.2.0)\n",
      "Requirement already satisfied: pickleshare in c:\\users\\win10\\anaconda3\\lib\\site-packages (from ipython->jupyter-dash) (0.7.5)\n",
      "Requirement already satisfied: stack-data in c:\\users\\win10\\anaconda3\\lib\\site-packages (from ipython->jupyter-dash) (0.2.0)\n",
      "Requirement already satisfied: prompt-toolkit!=3.0.0,!=3.0.1,<3.1.0,>=2.0.0 in c:\\users\\win10\\anaconda3\\lib\\site-packages (from ipython->jupyter-dash) (3.0.20)\n",
      "Requirement already satisfied: parso<0.9.0,>=0.8.0 in c:\\users\\win10\\anaconda3\\lib\\site-packages (from jedi>=0.16->ipython->jupyter-dash) (0.8.3)\n",
      "Requirement already satisfied: jupyter-core>=4.6.0 in c:\\users\\win10\\anaconda3\\lib\\site-packages (from jupyter-client<8.0->ipykernel->jupyter-dash) (4.9.2)\n",
      "Requirement already satisfied: python-dateutil>=2.1 in c:\\users\\win10\\anaconda3\\lib\\site-packages (from jupyter-client<8.0->ipykernel->jupyter-dash) (2.8.2)\n",
      "Requirement already satisfied: pyzmq>=13 in c:\\users\\win10\\anaconda3\\lib\\site-packages (from jupyter-client<8.0->ipykernel->jupyter-dash) (22.3.0)\n",
      "Requirement already satisfied: pywin32>=1.0 in c:\\users\\win10\\anaconda3\\lib\\site-packages (from jupyter-core>=4.6.0->jupyter-client<8.0->ipykernel->jupyter-dash) (302)\n",
      "Requirement already satisfied: wcwidth in c:\\users\\win10\\anaconda3\\lib\\site-packages (from prompt-toolkit!=3.0.0,!=3.0.1,<3.1.0,>=2.0.0->ipython->jupyter-dash) (0.2.5)\n",
      "Requirement already satisfied: certifi>=2017.4.17 in c:\\users\\win10\\anaconda3\\lib\\site-packages (from requests->jupyter-dash) (2021.10.8)\n",
      "Requirement already satisfied: charset-normalizer~=2.0.0 in c:\\users\\win10\\anaconda3\\lib\\site-packages (from requests->jupyter-dash) (2.0.4)\n",
      "Requirement already satisfied: urllib3<1.27,>=1.21.1 in c:\\users\\win10\\anaconda3\\lib\\site-packages (from requests->jupyter-dash) (1.26.9)\n",
      "Requirement already satisfied: idna<4,>=2.5 in c:\\users\\win10\\anaconda3\\lib\\site-packages (from requests->jupyter-dash) (3.3)\n",
      "Requirement already satisfied: executing in c:\\users\\win10\\anaconda3\\lib\\site-packages (from stack-data->ipython->jupyter-dash) (0.8.3)\n",
      "Requirement already satisfied: asttokens in c:\\users\\win10\\anaconda3\\lib\\site-packages (from stack-data->ipython->jupyter-dash) (2.0.5)\n",
      "Requirement already satisfied: pure-eval in c:\\users\\win10\\anaconda3\\lib\\site-packages (from stack-data->ipython->jupyter-dash) (0.2.2)\n"
     ]
    }
   ],
   "source": [
    "!pip install jupyter-dash"
   ]
  },
  {
   "cell_type": "code",
   "execution_count": 15,
   "id": "f9b80526-5a99-4366-9ef3-11baa4b4c248",
   "metadata": {},
   "outputs": [
    {
     "name": "stdout",
     "output_type": "stream",
     "text": [
      "Requirement already satisfied: dash-bootstrap-components in c:\\users\\win10\\anaconda3\\lib\\site-packages (1.4.0)\n",
      "Requirement already satisfied: dash>=2.0.0 in c:\\users\\win10\\anaconda3\\lib\\site-packages (from dash-bootstrap-components) (2.0.0)\n",
      "Requirement already satisfied: flask-compress in c:\\users\\win10\\anaconda3\\lib\\site-packages (from dash>=2.0.0->dash-bootstrap-components) (1.13)\n",
      "Requirement already satisfied: Flask>=1.0.4 in c:\\users\\win10\\anaconda3\\lib\\site-packages (from dash>=2.0.0->dash-bootstrap-components) (1.1.2)\n",
      "Requirement already satisfied: dash-core-components==2.0.0 in c:\\users\\win10\\anaconda3\\lib\\site-packages (from dash>=2.0.0->dash-bootstrap-components) (2.0.0)\n",
      "Requirement already satisfied: dash-table==5.0.0 in c:\\users\\win10\\anaconda3\\lib\\site-packages (from dash>=2.0.0->dash-bootstrap-components) (5.0.0)\n",
      "Requirement already satisfied: dash-html-components==2.0.0 in c:\\users\\win10\\anaconda3\\lib\\site-packages (from dash>=2.0.0->dash-bootstrap-components) (2.0.0)\n",
      "Requirement already satisfied: plotly>=5.0.0 in c:\\users\\win10\\anaconda3\\lib\\site-packages (from dash>=2.0.0->dash-bootstrap-components) (5.6.0)\n",
      "Requirement already satisfied: click>=5.1 in c:\\users\\win10\\anaconda3\\lib\\site-packages (from Flask>=1.0.4->dash>=2.0.0->dash-bootstrap-components) (8.0.4)\n",
      "Requirement already satisfied: itsdangerous>=0.24 in c:\\users\\win10\\anaconda3\\lib\\site-packages (from Flask>=1.0.4->dash>=2.0.0->dash-bootstrap-components) (2.0.1)\n",
      "Requirement already satisfied: Werkzeug>=0.15 in c:\\users\\win10\\anaconda3\\lib\\site-packages (from Flask>=1.0.4->dash>=2.0.0->dash-bootstrap-components) (2.0.3)\n",
      "Requirement already satisfied: Jinja2>=2.10.1 in c:\\users\\win10\\anaconda3\\lib\\site-packages (from Flask>=1.0.4->dash>=2.0.0->dash-bootstrap-components) (2.11.3)\n",
      "Requirement already satisfied: colorama in c:\\users\\win10\\anaconda3\\lib\\site-packages (from click>=5.1->Flask>=1.0.4->dash>=2.0.0->dash-bootstrap-components) (0.4.4)\n",
      "Requirement already satisfied: MarkupSafe>=0.23 in c:\\users\\win10\\anaconda3\\lib\\site-packages (from Jinja2>=2.10.1->Flask>=1.0.4->dash>=2.0.0->dash-bootstrap-components) (2.0.1)\n",
      "Requirement already satisfied: six in c:\\users\\win10\\anaconda3\\lib\\site-packages (from plotly>=5.0.0->dash>=2.0.0->dash-bootstrap-components) (1.16.0)\n",
      "Requirement already satisfied: tenacity>=6.2.0 in c:\\users\\win10\\anaconda3\\lib\\site-packages (from plotly>=5.0.0->dash>=2.0.0->dash-bootstrap-components) (8.0.1)\n",
      "Requirement already satisfied: brotli in c:\\users\\win10\\anaconda3\\lib\\site-packages (from flask-compress->dash>=2.0.0->dash-bootstrap-components) (1.0.9)\n"
     ]
    }
   ],
   "source": [
    "!pip install dash-bootstrap-components"
   ]
  },
  {
   "cell_type": "code",
   "execution_count": 2,
   "id": "cdf9354d-8c84-455d-b90e-27d8fdbeaa0a",
   "metadata": {},
   "outputs": [],
   "source": [
    "from jupyter_dash import JupyterDash\n",
    "from dash import Dash, dcc, html, Input, Output\n",
    "import dash_bootstrap_components as dbc\n",
    "import pandas as pd\n",
    "from datetime import date"
   ]
  },
  {
   "cell_type": "markdown",
   "id": "ceaf316a-1fdf-47e7-bb0e-070b9b78d12e",
   "metadata": {},
   "source": [
    "# Viz 2"
   ]
  },
  {
   "cell_type": "code",
   "execution_count": null,
   "id": "aa2b4e37-55c6-47e2-ac20-32faeb269889",
   "metadata": {},
   "outputs": [],
   "source": []
  },
  {
   "cell_type": "code",
   "execution_count": 3,
   "id": "7879a99f-d8b4-4cdf-99b6-88c9141cbb3d",
   "metadata": {
    "id": "NVxmR1QWobHX"
   },
   "outputs": [],
   "source": [
    "import numpy as np\n",
    "import pandas as pd\n",
    "import plotly.graph_objects as go\n",
    "import plotly.express as px\n"
   ]
  },
  {
   "cell_type": "code",
   "execution_count": 18,
   "id": "400e0fb6-9e39-44ef-a1c5-6badd11de955",
   "metadata": {
    "colab": {
     "base_uri": "https://localhost:8080/"
    },
    "id": "Fw_jqChoo5Pk",
    "outputId": "d3beb477-8221-4e4e-fadc-b3c7133efb19"
   },
   "outputs": [
    {
     "name": "stdout",
     "output_type": "stream",
     "text": [
      "Requirement already satisfied: jupyter-dash in c:\\users\\win10\\anaconda3\\lib\\site-packages (0.4.2)\n",
      "Requirement already satisfied: dash in c:\\users\\win10\\anaconda3\\lib\\site-packages (from jupyter-dash) (2.0.0)\n",
      "Requirement already satisfied: retrying in c:\\users\\win10\\anaconda3\\lib\\site-packages (from jupyter-dash) (1.3.4)\n",
      "Requirement already satisfied: ansi2html in c:\\users\\win10\\anaconda3\\lib\\site-packages (from jupyter-dash) (1.8.0)\n",
      "Requirement already satisfied: nest-asyncio in c:\\users\\win10\\anaconda3\\lib\\site-packages (from jupyter-dash) (1.5.5)\n",
      "Requirement already satisfied: flask in c:\\users\\win10\\anaconda3\\lib\\site-packages (from jupyter-dash) (1.1.2)\n",
      "Requirement already satisfied: ipython in c:\\users\\win10\\anaconda3\\lib\\site-packages (from jupyter-dash) (8.2.0)\n",
      "Requirement already satisfied: ipykernel in c:\\users\\win10\\anaconda3\\lib\\site-packages (from jupyter-dash) (6.9.1)\n",
      "Requirement already satisfied: requests in c:\\users\\win10\\anaconda3\\lib\\site-packages (from jupyter-dash) (2.27.1)\n",
      "Requirement already satisfied: flask-compress in c:\\users\\win10\\anaconda3\\lib\\site-packages (from dash->jupyter-dash) (1.13)\n",
      "Requirement already satisfied: dash-core-components==2.0.0 in c:\\users\\win10\\anaconda3\\lib\\site-packages (from dash->jupyter-dash) (2.0.0)\n",
      "Requirement already satisfied: dash-table==5.0.0 in c:\\users\\win10\\anaconda3\\lib\\site-packages (from dash->jupyter-dash) (5.0.0)\n",
      "Requirement already satisfied: dash-html-components==2.0.0 in c:\\users\\win10\\anaconda3\\lib\\site-packages (from dash->jupyter-dash) (2.0.0)\n",
      "Requirement already satisfied: plotly>=5.0.0 in c:\\users\\win10\\anaconda3\\lib\\site-packages (from dash->jupyter-dash) (5.6.0)\n",
      "Requirement already satisfied: itsdangerous>=0.24 in c:\\users\\win10\\anaconda3\\lib\\site-packages (from flask->jupyter-dash) (2.0.1)\n",
      "Requirement already satisfied: Jinja2>=2.10.1 in c:\\users\\win10\\anaconda3\\lib\\site-packages (from flask->jupyter-dash) (2.11.3)\n",
      "Requirement already satisfied: click>=5.1 in c:\\users\\win10\\anaconda3\\lib\\site-packages (from flask->jupyter-dash) (8.0.4)\n",
      "Requirement already satisfied: Werkzeug>=0.15 in c:\\users\\win10\\anaconda3\\lib\\site-packages (from flask->jupyter-dash) (2.0.3)\n",
      "Requirement already satisfied: colorama in c:\\users\\win10\\anaconda3\\lib\\site-packages (from click>=5.1->flask->jupyter-dash) (0.4.4)\n",
      "Requirement already satisfied: MarkupSafe>=0.23 in c:\\users\\win10\\anaconda3\\lib\\site-packages (from Jinja2>=2.10.1->flask->jupyter-dash) (2.0.1)\n",
      "Requirement already satisfied: six in c:\\users\\win10\\anaconda3\\lib\\site-packages (from plotly>=5.0.0->dash->jupyter-dash) (1.16.0)\n",
      "Requirement already satisfied: tenacity>=6.2.0 in c:\\users\\win10\\anaconda3\\lib\\site-packages (from plotly>=5.0.0->dash->jupyter-dash) (8.0.1)\n",
      "Requirement already satisfied: brotli in c:\\users\\win10\\anaconda3\\lib\\site-packages (from flask-compress->dash->jupyter-dash) (1.0.9)\n",
      "Requirement already satisfied: debugpy<2.0,>=1.0.0 in c:\\users\\win10\\anaconda3\\lib\\site-packages (from ipykernel->jupyter-dash) (1.5.1)\n",
      "Requirement already satisfied: jupyter-client<8.0 in c:\\users\\win10\\anaconda3\\lib\\site-packages (from ipykernel->jupyter-dash) (6.1.12)\n",
      "Requirement already satisfied: tornado<7.0,>=4.2 in c:\\users\\win10\\anaconda3\\lib\\site-packages (from ipykernel->jupyter-dash) (6.1)\n",
      "Requirement already satisfied: matplotlib-inline<0.2.0,>=0.1.0 in c:\\users\\win10\\anaconda3\\lib\\site-packages (from ipykernel->jupyter-dash) (0.1.2)\n",
      "Requirement already satisfied: traitlets<6.0,>=5.1.0 in c:\\users\\win10\\anaconda3\\lib\\site-packages (from ipykernel->jupyter-dash) (5.1.1)\n",
      "Requirement already satisfied: pygments>=2.4.0 in c:\\users\\win10\\anaconda3\\lib\\site-packages (from ipython->jupyter-dash) (2.11.2)\n",
      "Requirement already satisfied: stack-data in c:\\users\\win10\\anaconda3\\lib\\site-packages (from ipython->jupyter-dash) (0.2.0)\n",
      "Requirement already satisfied: pickleshare in c:\\users\\win10\\anaconda3\\lib\\site-packages (from ipython->jupyter-dash) (0.7.5)\n",
      "Requirement already satisfied: jedi>=0.16 in c:\\users\\win10\\anaconda3\\lib\\site-packages (from ipython->jupyter-dash) (0.18.1)\n",
      "Requirement already satisfied: setuptools>=18.5 in c:\\users\\win10\\anaconda3\\lib\\site-packages (from ipython->jupyter-dash) (61.2.0)\n",
      "Requirement already satisfied: decorator in c:\\users\\win10\\anaconda3\\lib\\site-packages (from ipython->jupyter-dash) (5.1.1)\n",
      "Requirement already satisfied: prompt-toolkit!=3.0.0,!=3.0.1,<3.1.0,>=2.0.0 in c:\\users\\win10\\anaconda3\\lib\\site-packages (from ipython->jupyter-dash) (3.0.20)\n",
      "Requirement already satisfied: backcall in c:\\users\\win10\\anaconda3\\lib\\site-packages (from ipython->jupyter-dash) (0.2.0)\n",
      "Requirement already satisfied: parso<0.9.0,>=0.8.0 in c:\\users\\win10\\anaconda3\\lib\\site-packages (from jedi>=0.16->ipython->jupyter-dash) (0.8.3)\n",
      "Requirement already satisfied: python-dateutil>=2.1 in c:\\users\\win10\\anaconda3\\lib\\site-packages (from jupyter-client<8.0->ipykernel->jupyter-dash) (2.8.2)\n",
      "Requirement already satisfied: pyzmq>=13 in c:\\users\\win10\\anaconda3\\lib\\site-packages (from jupyter-client<8.0->ipykernel->jupyter-dash) (22.3.0)\n",
      "Requirement already satisfied: jupyter-core>=4.6.0 in c:\\users\\win10\\anaconda3\\lib\\site-packages (from jupyter-client<8.0->ipykernel->jupyter-dash) (4.9.2)\n",
      "Requirement already satisfied: pywin32>=1.0 in c:\\users\\win10\\anaconda3\\lib\\site-packages (from jupyter-core>=4.6.0->jupyter-client<8.0->ipykernel->jupyter-dash) (302)\n",
      "Requirement already satisfied: wcwidth in c:\\users\\win10\\anaconda3\\lib\\site-packages (from prompt-toolkit!=3.0.0,!=3.0.1,<3.1.0,>=2.0.0->ipython->jupyter-dash) (0.2.5)\n",
      "Requirement already satisfied: charset-normalizer~=2.0.0 in c:\\users\\win10\\anaconda3\\lib\\site-packages (from requests->jupyter-dash) (2.0.4)\n",
      "Requirement already satisfied: certifi>=2017.4.17 in c:\\users\\win10\\anaconda3\\lib\\site-packages (from requests->jupyter-dash) (2021.10.8)\n",
      "Requirement already satisfied: urllib3<1.27,>=1.21.1 in c:\\users\\win10\\anaconda3\\lib\\site-packages (from requests->jupyter-dash) (1.26.9)\n",
      "Requirement already satisfied: idna<4,>=2.5 in c:\\users\\win10\\anaconda3\\lib\\site-packages (from requests->jupyter-dash) (3.3)\n",
      "Requirement already satisfied: executing in c:\\users\\win10\\anaconda3\\lib\\site-packages (from stack-data->ipython->jupyter-dash) (0.8.3)\n",
      "Requirement already satisfied: asttokens in c:\\users\\win10\\anaconda3\\lib\\site-packages (from stack-data->ipython->jupyter-dash) (2.0.5)\n",
      "Requirement already satisfied: pure-eval in c:\\users\\win10\\anaconda3\\lib\\site-packages (from stack-data->ipython->jupyter-dash) (0.2.2)\n"
     ]
    }
   ],
   "source": [
    "!pip install jupyter-dash"
   ]
  },
  {
   "cell_type": "code",
   "execution_count": 19,
   "id": "7a7beb86-283c-430e-8b75-ae23bcb1ca81",
   "metadata": {
    "colab": {
     "base_uri": "https://localhost:8080/"
    },
    "id": "W-zSv-ov7sVc",
    "outputId": "f03d6085-b29e-4ded-e43c-a7c557ac11d5"
   },
   "outputs": [
    {
     "name": "stdout",
     "output_type": "stream",
     "text": [
      "Requirement already satisfied: dash-bootstrap-components in c:\\users\\win10\\anaconda3\\lib\\site-packages (1.4.0)\n",
      "Requirement already satisfied: dash>=2.0.0 in c:\\users\\win10\\anaconda3\\lib\\site-packages (from dash-bootstrap-components) (2.0.0)\n",
      "Requirement already satisfied: flask-compress in c:\\users\\win10\\anaconda3\\lib\\site-packages (from dash>=2.0.0->dash-bootstrap-components) (1.13)\n",
      "Requirement already satisfied: dash-core-components==2.0.0 in c:\\users\\win10\\anaconda3\\lib\\site-packages (from dash>=2.0.0->dash-bootstrap-components) (2.0.0)\n",
      "Requirement already satisfied: dash-html-components==2.0.0 in c:\\users\\win10\\anaconda3\\lib\\site-packages (from dash>=2.0.0->dash-bootstrap-components) (2.0.0)\n",
      "Requirement already satisfied: Flask>=1.0.4 in c:\\users\\win10\\anaconda3\\lib\\site-packages (from dash>=2.0.0->dash-bootstrap-components) (1.1.2)\n",
      "Requirement already satisfied: plotly>=5.0.0 in c:\\users\\win10\\anaconda3\\lib\\site-packages (from dash>=2.0.0->dash-bootstrap-components) (5.6.0)\n",
      "Requirement already satisfied: dash-table==5.0.0 in c:\\users\\win10\\anaconda3\\lib\\site-packages (from dash>=2.0.0->dash-bootstrap-components) (5.0.0)\n",
      "Requirement already satisfied: click>=5.1 in c:\\users\\win10\\anaconda3\\lib\\site-packages (from Flask>=1.0.4->dash>=2.0.0->dash-bootstrap-components) (8.0.4)\n",
      "Requirement already satisfied: Jinja2>=2.10.1 in c:\\users\\win10\\anaconda3\\lib\\site-packages (from Flask>=1.0.4->dash>=2.0.0->dash-bootstrap-components) (2.11.3)\n",
      "Requirement already satisfied: Werkzeug>=0.15 in c:\\users\\win10\\anaconda3\\lib\\site-packages (from Flask>=1.0.4->dash>=2.0.0->dash-bootstrap-components) (2.0.3)\n",
      "Requirement already satisfied: itsdangerous>=0.24 in c:\\users\\win10\\anaconda3\\lib\\site-packages (from Flask>=1.0.4->dash>=2.0.0->dash-bootstrap-components) (2.0.1)\n",
      "Requirement already satisfied: colorama in c:\\users\\win10\\anaconda3\\lib\\site-packages (from click>=5.1->Flask>=1.0.4->dash>=2.0.0->dash-bootstrap-components) (0.4.4)\n",
      "Requirement already satisfied: MarkupSafe>=0.23 in c:\\users\\win10\\anaconda3\\lib\\site-packages (from Jinja2>=2.10.1->Flask>=1.0.4->dash>=2.0.0->dash-bootstrap-components) (2.0.1)\n",
      "Requirement already satisfied: tenacity>=6.2.0 in c:\\users\\win10\\anaconda3\\lib\\site-packages (from plotly>=5.0.0->dash>=2.0.0->dash-bootstrap-components) (8.0.1)\n",
      "Requirement already satisfied: six in c:\\users\\win10\\anaconda3\\lib\\site-packages (from plotly>=5.0.0->dash>=2.0.0->dash-bootstrap-components) (1.16.0)\n",
      "Requirement already satisfied: brotli in c:\\users\\win10\\anaconda3\\lib\\site-packages (from flask-compress->dash>=2.0.0->dash-bootstrap-components) (1.0.9)\n"
     ]
    }
   ],
   "source": [
    "!pip install dash-bootstrap-components"
   ]
  },
  {
   "cell_type": "code",
   "execution_count": 4,
   "id": "0469a573-7f2d-4cf6-ac97-225ed08a009c",
   "metadata": {
    "id": "f--bTRcV7sd_"
   },
   "outputs": [],
   "source": [
    "from jupyter_dash import JupyterDash\n",
    "from dash import Dash, dcc, html, Input, Output\n",
    "import dash_bootstrap_components as dbc\n",
    "import pandas as pd\n",
    "from datetime import date"
   ]
  },
  {
   "cell_type": "markdown",
   "id": "06aa5ead-5714-4364-bad1-bbd15a92344b",
   "metadata": {
    "id": "ODvjhSTHpbU0",
    "tags": []
   },
   "source": [
    "![UP - 2b.png](data:image/png;base64,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)"
   ]
  },
  {
   "cell_type": "code",
   "execution_count": null,
   "id": "fba81b8c-b57f-4c2e-88a8-f3c3c265ca50",
   "metadata": {},
   "outputs": [],
   "source": []
  },
  {
   "cell_type": "markdown",
   "id": "4c1e2faf-163e-49d5-abec-e61bc94a13c8",
   "metadata": {
    "id": "UFsF0nnpwPcB"
   },
   "source": [
    "## Load the Excel file from Drive"
   ]
  },
  {
   "cell_type": "code",
   "execution_count": 5,
   "id": "70ec6af6-8d61-4704-bcac-9b5a36b4500f",
   "metadata": {
    "colab": {
     "base_uri": "https://localhost:8080/",
     "height": 776
    },
    "id": "p6rQJsFZpBzm",
    "outputId": "bcabe0c4-d8a3-4986-e9f5-db34f4e0511c"
   },
   "outputs": [
    {
     "data": {
      "text/plain": "                                              Region          Decile  \\\n0                                        Philippines    First Decile   \n1                                        Philippines   Second Decile   \n2                                        Philippines    Third Decile   \n3                                        Philippines   Fourth Decile   \n4                                        Philippines    Fifth Decile   \n..                                               ...             ...   \n175  BANGSAMORO AUTONOMOUS REGION IN MUSLIM MINDANAO    Sixth Decile   \n176  BANGSAMORO AUTONOMOUS REGION IN MUSLIM MINDANAO  Seventh Decile   \n177  BANGSAMORO AUTONOMOUS REGION IN MUSLIM MINDANAO   Eighth Decile   \n178  BANGSAMORO AUTONOMOUS REGION IN MUSLIM MINDANAO    Ninth Decile   \n179  BANGSAMORO AUTONOMOUS REGION IN MUSLIM MINDANAO    Tenth Decile   \n\n     TotalIncome  AverageIncome  TotalIncome_SE  AverageIncome_SE  \\\n0      306262.87         116.02         4542.47              0.59   \n1      401607.22         152.14         5316.33              0.65   \n2      464150.01         175.86         6148.39              0.80   \n3      535044.82         202.66         7546.13              0.97   \n4      601018.25         227.68         8314.35              1.16   \n..           ...            ...             ...               ...   \n175     12700.56         182.57          641.85              3.24   \n176     13487.08         194.24          814.43              3.81   \n177     13634.05         195.89          779.11              3.67   \n178     14891.13         213.96          883.38              4.24   \n179     23074.17         331.59         1847.31             11.64   \n\n     TotalIncome_COV  AverageIncome_COV  \n0                1.5                0.5  \n1                1.3                0.4  \n2                1.3                0.5  \n3                1.4                0.5  \n4                1.4                0.5  \n..               ...                ...  \n175              5.1                1.8  \n176              6.0                2.0  \n177              5.7                1.9  \n178              5.9                2.0  \n179              8.0                3.5  \n\n[180 rows x 8 columns]",
      "text/html": "<div>\n<style scoped>\n    .dataframe tbody tr th:only-of-type {\n        vertical-align: middle;\n    }\n\n    .dataframe tbody tr th {\n        vertical-align: top;\n    }\n\n    .dataframe thead th {\n        text-align: right;\n    }\n</style>\n<table border=\"1\" class=\"dataframe\">\n  <thead>\n    <tr style=\"text-align: right;\">\n      <th></th>\n      <th>Region</th>\n      <th>Decile</th>\n      <th>TotalIncome</th>\n      <th>AverageIncome</th>\n      <th>TotalIncome_SE</th>\n      <th>AverageIncome_SE</th>\n      <th>TotalIncome_COV</th>\n      <th>AverageIncome_COV</th>\n    </tr>\n  </thead>\n  <tbody>\n    <tr>\n      <th>0</th>\n      <td>Philippines</td>\n      <td>First Decile</td>\n      <td>306262.87</td>\n      <td>116.02</td>\n      <td>4542.47</td>\n      <td>0.59</td>\n      <td>1.5</td>\n      <td>0.5</td>\n    </tr>\n    <tr>\n      <th>1</th>\n      <td>Philippines</td>\n      <td>Second Decile</td>\n      <td>401607.22</td>\n      <td>152.14</td>\n      <td>5316.33</td>\n      <td>0.65</td>\n      <td>1.3</td>\n      <td>0.4</td>\n    </tr>\n    <tr>\n      <th>2</th>\n      <td>Philippines</td>\n      <td>Third Decile</td>\n      <td>464150.01</td>\n      <td>175.86</td>\n      <td>6148.39</td>\n      <td>0.80</td>\n      <td>1.3</td>\n      <td>0.5</td>\n    </tr>\n    <tr>\n      <th>3</th>\n      <td>Philippines</td>\n      <td>Fourth Decile</td>\n      <td>535044.82</td>\n      <td>202.66</td>\n      <td>7546.13</td>\n      <td>0.97</td>\n      <td>1.4</td>\n      <td>0.5</td>\n    </tr>\n    <tr>\n      <th>4</th>\n      <td>Philippines</td>\n      <td>Fifth Decile</td>\n      <td>601018.25</td>\n      <td>227.68</td>\n      <td>8314.35</td>\n      <td>1.16</td>\n      <td>1.4</td>\n      <td>0.5</td>\n    </tr>\n    <tr>\n      <th>...</th>\n      <td>...</td>\n      <td>...</td>\n      <td>...</td>\n      <td>...</td>\n      <td>...</td>\n      <td>...</td>\n      <td>...</td>\n      <td>...</td>\n    </tr>\n    <tr>\n      <th>175</th>\n      <td>BANGSAMORO AUTONOMOUS REGION IN MUSLIM MINDANAO</td>\n      <td>Sixth Decile</td>\n      <td>12700.56</td>\n      <td>182.57</td>\n      <td>641.85</td>\n      <td>3.24</td>\n      <td>5.1</td>\n      <td>1.8</td>\n    </tr>\n    <tr>\n      <th>176</th>\n      <td>BANGSAMORO AUTONOMOUS REGION IN MUSLIM MINDANAO</td>\n      <td>Seventh Decile</td>\n      <td>13487.08</td>\n      <td>194.24</td>\n      <td>814.43</td>\n      <td>3.81</td>\n      <td>6.0</td>\n      <td>2.0</td>\n    </tr>\n    <tr>\n      <th>177</th>\n      <td>BANGSAMORO AUTONOMOUS REGION IN MUSLIM MINDANAO</td>\n      <td>Eighth Decile</td>\n      <td>13634.05</td>\n      <td>195.89</td>\n      <td>779.11</td>\n      <td>3.67</td>\n      <td>5.7</td>\n      <td>1.9</td>\n    </tr>\n    <tr>\n      <th>178</th>\n      <td>BANGSAMORO AUTONOMOUS REGION IN MUSLIM MINDANAO</td>\n      <td>Ninth Decile</td>\n      <td>14891.13</td>\n      <td>213.96</td>\n      <td>883.38</td>\n      <td>4.24</td>\n      <td>5.9</td>\n      <td>2.0</td>\n    </tr>\n    <tr>\n      <th>179</th>\n      <td>BANGSAMORO AUTONOMOUS REGION IN MUSLIM MINDANAO</td>\n      <td>Tenth Decile</td>\n      <td>23074.17</td>\n      <td>331.59</td>\n      <td>1847.31</td>\n      <td>11.64</td>\n      <td>8.0</td>\n      <td>3.5</td>\n    </tr>\n  </tbody>\n</table>\n<p>180 rows × 8 columns</p>\n</div>"
     },
     "execution_count": 5,
     "metadata": {},
     "output_type": "execute_result"
    }
   ],
   "source": [
    "df = pd.read_excel('Table 2_FIES.xlsx')\n",
    "df"
   ]
  },
  {
   "cell_type": "code",
   "execution_count": 6,
   "id": "96ef7aef-0181-4dbe-a13d-4b7a7c070cf1",
   "metadata": {
    "colab": {
     "base_uri": "https://localhost:8080/"
    },
    "id": "3Npldlhbvbjr",
    "outputId": "aa91d59d-3b7f-450d-f123-2eb6aff05c69"
   },
   "outputs": [
    {
     "data": {
      "text/plain": "Index(['Region', 'Decile', 'TotalIncome', 'AverageIncome', 'TotalIncome_SE',\n       'AverageIncome_SE', 'TotalIncome_COV', 'AverageIncome_COV'],\n      dtype='object')"
     },
     "execution_count": 6,
     "metadata": {},
     "output_type": "execute_result"
    }
   ],
   "source": [
    "df.columns"
   ]
  },
  {
   "cell_type": "code",
   "execution_count": 7,
   "id": "902737a8-a76c-4d30-b030-8515c0d155ec",
   "metadata": {},
   "outputs": [
    {
     "data": {
      "text/plain": "Region                object\nDecile                object\nTotalIncome          float64\nAverageIncome        float64\nTotalIncome_SE       float64\nAverageIncome_SE     float64\nTotalIncome_COV      float64\nAverageIncome_COV    float64\ndtype: object"
     },
     "execution_count": 7,
     "metadata": {},
     "output_type": "execute_result"
    }
   ],
   "source": [
    "df.dtypes"
   ]
  },
  {
   "cell_type": "markdown",
   "id": "a577d8f6-a82c-4f4a-b9cd-e80a26ffc266",
   "metadata": {
    "id": "yL8cs_61wTtc"
   },
   "source": [
    "## Extract needed columns, remove Philippines values, and rename header"
   ]
  },
  {
   "cell_type": "code",
   "execution_count": 8,
   "id": "acbf07a5-3db9-460e-9ee0-942d4df5ee2f",
   "metadata": {
    "colab": {
     "base_uri": "https://localhost:8080/",
     "height": 457
    },
    "id": "8n0JZ-o9uali",
    "outputId": "ef834cc6-7d85-4284-e743-8afb15ba2acd"
   },
   "outputs": [
    {
     "data": {
      "text/plain": "                                         Table2_FIES          Decile  \\\n10                                               NCR    First Decile   \n11                                               NCR   Second Decile   \n12                                               NCR    Third Decile   \n13                                               NCR   Fourth Decile   \n14                                               NCR    Fifth Decile   \n..                                               ...             ...   \n175  BANGSAMORO AUTONOMOUS REGION IN MUSLIM MINDANAO    Sixth Decile   \n176  BANGSAMORO AUTONOMOUS REGION IN MUSLIM MINDANAO  Seventh Decile   \n177  BANGSAMORO AUTONOMOUS REGION IN MUSLIM MINDANAO   Eighth Decile   \n178  BANGSAMORO AUTONOMOUS REGION IN MUSLIM MINDANAO    Ninth Decile   \n179  BANGSAMORO AUTONOMOUS REGION IN MUSLIM MINDANAO    Tenth Decile   \n\n     Total Income  \n10       77163.78  \n11       91809.85  \n12      103516.90  \n13      113145.22  \n14      125436.46  \n..            ...  \n175      12700.56  \n176      13487.08  \n177      13634.05  \n178      14891.13  \n179      23074.17  \n\n[170 rows x 3 columns]",
      "text/html": "<div>\n<style scoped>\n    .dataframe tbody tr th:only-of-type {\n        vertical-align: middle;\n    }\n\n    .dataframe tbody tr th {\n        vertical-align: top;\n    }\n\n    .dataframe thead th {\n        text-align: right;\n    }\n</style>\n<table border=\"1\" class=\"dataframe\">\n  <thead>\n    <tr style=\"text-align: right;\">\n      <th></th>\n      <th>Table2_FIES</th>\n      <th>Decile</th>\n      <th>Total Income</th>\n    </tr>\n  </thead>\n  <tbody>\n    <tr>\n      <th>10</th>\n      <td>NCR</td>\n      <td>First Decile</td>\n      <td>77163.78</td>\n    </tr>\n    <tr>\n      <th>11</th>\n      <td>NCR</td>\n      <td>Second Decile</td>\n      <td>91809.85</td>\n    </tr>\n    <tr>\n      <th>12</th>\n      <td>NCR</td>\n      <td>Third Decile</td>\n      <td>103516.90</td>\n    </tr>\n    <tr>\n      <th>13</th>\n      <td>NCR</td>\n      <td>Fourth Decile</td>\n      <td>113145.22</td>\n    </tr>\n    <tr>\n      <th>14</th>\n      <td>NCR</td>\n      <td>Fifth Decile</td>\n      <td>125436.46</td>\n    </tr>\n    <tr>\n      <th>...</th>\n      <td>...</td>\n      <td>...</td>\n      <td>...</td>\n    </tr>\n    <tr>\n      <th>175</th>\n      <td>BANGSAMORO AUTONOMOUS REGION IN MUSLIM MINDANAO</td>\n      <td>Sixth Decile</td>\n      <td>12700.56</td>\n    </tr>\n    <tr>\n      <th>176</th>\n      <td>BANGSAMORO AUTONOMOUS REGION IN MUSLIM MINDANAO</td>\n      <td>Seventh Decile</td>\n      <td>13487.08</td>\n    </tr>\n    <tr>\n      <th>177</th>\n      <td>BANGSAMORO AUTONOMOUS REGION IN MUSLIM MINDANAO</td>\n      <td>Eighth Decile</td>\n      <td>13634.05</td>\n    </tr>\n    <tr>\n      <th>178</th>\n      <td>BANGSAMORO AUTONOMOUS REGION IN MUSLIM MINDANAO</td>\n      <td>Ninth Decile</td>\n      <td>14891.13</td>\n    </tr>\n    <tr>\n      <th>179</th>\n      <td>BANGSAMORO AUTONOMOUS REGION IN MUSLIM MINDANAO</td>\n      <td>Tenth Decile</td>\n      <td>23074.17</td>\n    </tr>\n  </tbody>\n</table>\n<p>170 rows × 3 columns</p>\n</div>"
     },
     "execution_count": 8,
     "metadata": {},
     "output_type": "execute_result"
    }
   ],
   "source": [
    "df = df[['Region', 'Decile', 'TotalIncome']]\n",
    "df = df.drop(index=range(10))\n",
    "df = df.rename(columns={'TotalIncome': 'Total Income', 'Region': 'Table2_FIES'})\n",
    "\n",
    "df"
   ]
  },
  {
   "cell_type": "markdown",
   "id": "2c78da6a-54c6-4612-b1cf-91076fe80f71",
   "metadata": {},
   "source": [
    "## Map proper region names"
   ]
  },
  {
   "cell_type": "code",
   "execution_count": 9,
   "id": "4d862bad-be5a-465e-bdfe-6843dd976d53",
   "metadata": {},
   "outputs": [
    {
     "data": {
      "text/plain": "Index(['Unnamed: 0', 'Table X_XXX', 'Table2_FIES', 'Acronym', 'Name',\n       'Combined'],\n      dtype='object')"
     },
     "execution_count": 9,
     "metadata": {},
     "output_type": "execute_result"
    }
   ],
   "source": [
    "df_mapping = pd.read_excel('RegionMapping.xlsx', sheet_name = 'Sheet1')\n",
    "df_mapping.columns"
   ]
  },
  {
   "cell_type": "code",
   "execution_count": 10,
   "id": "cfd33810-5b41-4bc6-a999-a4dba5da16b6",
   "metadata": {},
   "outputs": [
    {
     "data": {
      "text/plain": "                                                Region          Decile  \\\n0                        NCR - National Capital Region    First Decile   \n1                        NCR - National Capital Region   Second Decile   \n2                        NCR - National Capital Region    Third Decile   \n3                        NCR - National Capital Region   Fourth Decile   \n4                        NCR - National Capital Region    Fifth Decile   \n..                                                 ...             ...   \n165  BARMM - Bangsamoro Autonomous Region in Muslim...    Sixth Decile   \n166  BARMM - Bangsamoro Autonomous Region in Muslim...  Seventh Decile   \n167  BARMM - Bangsamoro Autonomous Region in Muslim...   Eighth Decile   \n168  BARMM - Bangsamoro Autonomous Region in Muslim...    Ninth Decile   \n169  BARMM - Bangsamoro Autonomous Region in Muslim...    Tenth Decile   \n\n     Total Income  \n0        77163.78  \n1        91809.85  \n2       103516.90  \n3       113145.22  \n4       125436.46  \n..            ...  \n165      12700.56  \n166      13487.08  \n167      13634.05  \n168      14891.13  \n169      23074.17  \n\n[170 rows x 3 columns]",
      "text/html": "<div>\n<style scoped>\n    .dataframe tbody tr th:only-of-type {\n        vertical-align: middle;\n    }\n\n    .dataframe tbody tr th {\n        vertical-align: top;\n    }\n\n    .dataframe thead th {\n        text-align: right;\n    }\n</style>\n<table border=\"1\" class=\"dataframe\">\n  <thead>\n    <tr style=\"text-align: right;\">\n      <th></th>\n      <th>Region</th>\n      <th>Decile</th>\n      <th>Total Income</th>\n    </tr>\n  </thead>\n  <tbody>\n    <tr>\n      <th>0</th>\n      <td>NCR - National Capital Region</td>\n      <td>First Decile</td>\n      <td>77163.78</td>\n    </tr>\n    <tr>\n      <th>1</th>\n      <td>NCR - National Capital Region</td>\n      <td>Second Decile</td>\n      <td>91809.85</td>\n    </tr>\n    <tr>\n      <th>2</th>\n      <td>NCR - National Capital Region</td>\n      <td>Third Decile</td>\n      <td>103516.90</td>\n    </tr>\n    <tr>\n      <th>3</th>\n      <td>NCR - National Capital Region</td>\n      <td>Fourth Decile</td>\n      <td>113145.22</td>\n    </tr>\n    <tr>\n      <th>4</th>\n      <td>NCR - National Capital Region</td>\n      <td>Fifth Decile</td>\n      <td>125436.46</td>\n    </tr>\n    <tr>\n      <th>...</th>\n      <td>...</td>\n      <td>...</td>\n      <td>...</td>\n    </tr>\n    <tr>\n      <th>165</th>\n      <td>BARMM - Bangsamoro Autonomous Region in Muslim...</td>\n      <td>Sixth Decile</td>\n      <td>12700.56</td>\n    </tr>\n    <tr>\n      <th>166</th>\n      <td>BARMM - Bangsamoro Autonomous Region in Muslim...</td>\n      <td>Seventh Decile</td>\n      <td>13487.08</td>\n    </tr>\n    <tr>\n      <th>167</th>\n      <td>BARMM - Bangsamoro Autonomous Region in Muslim...</td>\n      <td>Eighth Decile</td>\n      <td>13634.05</td>\n    </tr>\n    <tr>\n      <th>168</th>\n      <td>BARMM - Bangsamoro Autonomous Region in Muslim...</td>\n      <td>Ninth Decile</td>\n      <td>14891.13</td>\n    </tr>\n    <tr>\n      <th>169</th>\n      <td>BARMM - Bangsamoro Autonomous Region in Muslim...</td>\n      <td>Tenth Decile</td>\n      <td>23074.17</td>\n    </tr>\n  </tbody>\n</table>\n<p>170 rows × 3 columns</p>\n</div>"
     },
     "execution_count": 10,
     "metadata": {},
     "output_type": "execute_result"
    }
   ],
   "source": [
    "df2 = pd.merge(df, df_mapping, on='Table2_FIES', how='inner')\n",
    "df2 = df2.iloc[:, [7,1,2]]\n",
    "df2 = df2.rename(columns={'Combined': 'Region'})\n",
    "\n",
    "df2"
   ]
  },
  {
   "cell_type": "markdown",
   "id": "2574893a-bfb6-45e7-93ad-4c7a20d5ebd7",
   "metadata": {
    "id": "8I_ufLNeqn_q"
   },
   "source": [
    "# Viz2b"
   ]
  },
  {
   "cell_type": "code",
   "execution_count": null,
   "id": "3ac6cf02-9a88-4adf-bcf8-5825899b35e8",
   "metadata": {
    "id": "J2ATXHABpmzw"
   },
   "outputs": [],
   "source": []
  },
  {
   "cell_type": "code",
   "execution_count": null,
   "id": "49f62516-37b6-4576-bcc5-b746f0deea28",
   "metadata": {},
   "outputs": [],
   "source": []
  },
  {
   "cell_type": "code",
   "execution_count": null,
   "id": "64877675-a5f7-40f9-8928-6674e470e0e2",
   "metadata": {},
   "outputs": [],
   "source": []
  },
  {
   "cell_type": "code",
   "execution_count": null,
   "id": "18d6df28-aa37-4e58-8452-9842cb6eb3c8",
   "metadata": {},
   "outputs": [],
   "source": []
  },
  {
   "cell_type": "markdown",
   "id": "0a582899-a25b-439b-880a-4f729aea8f2d",
   "metadata": {
    "id": "TP_lphG7qscp",
    "tags": []
   },
   "source": [
    "# Setup"
   ]
  },
  {
   "cell_type": "code",
   "execution_count": null,
   "id": "a5e00207-1890-4ba9-9c7e-d5a600b94e9c",
   "metadata": {},
   "outputs": [],
   "source": []
  },
  {
   "cell_type": "markdown",
   "id": "0d679bc5-d4df-4e7f-80ac-fda6e76e66cf",
   "metadata": {},
   "source": [
    "# Viz 9"
   ]
  },
  {
   "cell_type": "code",
   "execution_count": null,
   "id": "24b748d4-d85e-4e26-90e1-23d2e36b69df",
   "metadata": {},
   "outputs": [],
   "source": []
  },
  {
   "cell_type": "markdown",
   "id": "85f6e457-2cbb-447f-8643-628b6831dade",
   "metadata": {},
   "source": [
    "# Viz 10"
   ]
  },
  {
   "cell_type": "code",
   "execution_count": null,
   "id": "88bf7333-7cf7-4927-bbf8-593acb726c7b",
   "metadata": {},
   "outputs": [],
   "source": []
  },
  {
   "cell_type": "markdown",
   "id": "f9bce09c-c1d8-46b7-b105-4eacba42d64a",
   "metadata": {
    "tags": []
   },
   "source": [
    "# Insights"
   ]
  },
  {
   "cell_type": "code",
   "execution_count": 12,
   "id": "ffbec572-a2c6-4fbc-8569-ee245253e9bb",
   "metadata": {},
   "outputs": [
    {
     "name": "stdout",
     "output_type": "stream",
     "text": [
      "Dash app running on http://127.0.0.1:8029/\n"
     ]
    }
   ],
   "source": [
    "# Creating the app\n",
    "page = JupyterDash(__name__, external_stylesheets=[dbc.themes.BOOTSTRAP])\n",
    "\n",
    "\n",
    "page.layout = dbc.Container([\n",
    "\n",
    "    \n",
    "    # Header\n",
    "\n",
    "    \n",
    "    html.Nav(\n",
    "    html.Ul([\n",
    "        html.Li([\n",
    "            html.A('Home', href='#', className='nav-link', style={'border': '1px solid grey'})\n",
    "        ], className='nav-item'),\n",
    "        html.Li([\n",
    "            html.A('Understanding Poverty', href='#', className='nav-link', style={'border': '1px solid grey'})\n",
    "        ], className='nav-item'),\n",
    "        html.Li([\n",
    "            html.A('Zooming in on Employment', href='#', className='nav-link', style={'border': '1px solid grey'})\n",
    "        ], className='nav-item'),\n",
    "        html.Li([\n",
    "            html.A('Finding Opportunities', href='#', className='nav-link', style={'border': '1px solid grey'})\n",
    "        ], className='nav-item')\n",
    "    ], className='nav'),\n",
    "\n",
    "),\n",
    "  \n",
    "  # Line Breaks\n",
    "\n",
    "     html.Div([\n",
    "          html.Br(), html.Br(), html.Br(), html.Br(),  html.Br(), \n",
    "     ]),\n",
    "    \n",
    "    \n",
    "    # Header 1 \n",
    "    html.Section([\n",
    "        html.H2(\"Understanding Poverty\", className=\"text-center mb-3\"),\n",
    "        html.H5(\"\", className=\"text-center mb-5\"),\n",
    "    ]),\n",
    "    \n",
    "    html.Div([\n",
    "        html.Label(\"Select a column\"),\n",
    "        dcc.Dropdown(id='dropdown',\n",
    "                     options = [{'label': region, 'value': region} for region in df2['Region'].unique()],\n",
    "                    value=df2['Region'].unique()[0],\n",
    "                    multi=False,\n",
    "                    clearable=False,\n",
    "                    style={\"width\": \"50%\"}),\n",
    "        dcc.Graph(id='bar_decile', animate = True)\n",
    "    ]),\n",
    "\n",
    "])\n",
    "\n",
    "# Updating the graph based on dropdown\n",
    "@page.callback(\n",
    "    Output(\"bar_decile\", \"figure\"), \n",
    "    [Input(\"dropdown\", \"value\")]\n",
    ")\n",
    "\n",
    "    \n",
    "def update_graph(my_dropdown):\n",
    "    filtered_df = df2[df2['Region'] == my_dropdown]\n",
    "    bar_decile = px.bar(filtered_df, x=\"Decile\", y=\"Total Income\", text=\"Total Income\", title=\"Total Income by Region and Decile\")\n",
    "    bar_decile.update_traces(textposition=\"auto\")\n",
    "\n",
    "    bar_decile.update_layout(transition_duration=500) # set the duration of the transition\n",
    "    return bar_decile\n",
    "\n",
    "if __name__ == '__main__':\n",
    "  page.run_server(debug=True, port = 8029)"
   ]
  },
  {
   "cell_type": "raw",
   "id": "284ba318-40de-4865-b7b2-07ccdc8a5be3",
   "metadata": {},
   "source": []
  },
  {
   "cell_type": "code",
   "execution_count": null,
   "id": "e332352f-dced-475a-8e88-9301a80fc563",
   "metadata": {},
   "outputs": [],
   "source": []
  }
 ],
 "metadata": {
  "kernelspec": {
   "display_name": "Python 3 (ipykernel)",
   "language": "python",
   "name": "python3"
  },
  "language_info": {
   "codemirror_mode": {
    "name": "ipython",
    "version": 3
   },
   "file_extension": ".py",
   "mimetype": "text/x-python",
   "name": "python",
   "nbconvert_exporter": "python",
   "pygments_lexer": "ipython3",
   "version": "3.9.12"
  }
 },
 "nbformat": 4,
 "nbformat_minor": 5
}
