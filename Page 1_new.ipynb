{
 "cells": [
  {
   "cell_type": "code",
   "execution_count": 1,
   "outputs": [],
   "source": [
    "import numpy as np\n",
    "import pandas as pd\n",
    "import plotly.graph_objects as go\n",
    "import plotly.express as px"
   ],
   "metadata": {
    "collapsed": false
   }
  },
  {
   "cell_type": "code",
   "execution_count": 2,
   "outputs": [],
   "source": [
    "from jupyter_dash import JupyterDash\n",
    "from dash import Dash, dcc, html, Input, Output\n",
    "import dash_bootstrap_components as dbc\n",
    "import pandas as pd"
   ],
   "metadata": {
    "collapsed": false
   }
  },
  {
   "cell_type": "code",
   "execution_count": 13,
   "outputs": [],
   "source": [
    "import plotly.io as pio\n",
    "pio.templates.default = \"plotly\""
   ],
   "metadata": {
    "collapsed": false
   }
  },
  {
   "cell_type": "code",
   "execution_count": null,
   "outputs": [],
   "source": [
    "# Importing datasets\n",
    "df_cumulative_income = pd.read_csv('Cumulative_Income.csv')\n",
    "df_Gini_Coefficient = pd.read_csv('Gini_Coefficient.csv')"
   ],
   "metadata": {
    "collapsed": false
   }
  },
  {
   "cell_type": "code",
   "execution_count": 18,
   "outputs": [],
   "source": [
    "df_Gini_Coefficient_2a = df_Gini_Coefficient.groupby('Region').mean();\n",
    "df_Gini_Coefficient_2a.sort_values(by='Gini Coefficient');"
   ],
   "metadata": {
    "collapsed": false
   }
  },
  {
   "cell_type": "code",
   "execution_count": 19,
   "outputs": [],
   "source": [
    "def Viz2a(df,Regions):\n",
    "  L_Keys = ['REGION I - ILOCOS REGION',\n",
    "          'REGION II - CAGAYAN VALLEY',\n",
    "          'REGION III - CENTRAL LUZON',\n",
    "          'REGION IVA - CALABARZON',\n",
    "          'REGION V - BICOL REGION',\n",
    "          'NCR',\n",
    "          'CAR',\n",
    "          'MIMAROPA']\n",
    "\n",
    "  V_Keys = ['REGION VI - WESTERN VISAYAS',\n",
    "          'REGION VII - CENTRAL VISAYAS',\n",
    "          'REGION VIII - EASTERN VISAYAS']\n",
    "\n",
    "  M_Keys = ['REGION IX - ZAMBOANGA PENINSULA',\n",
    "          'REGION X - NORTHERN MINDANAO',\n",
    "          'REGION XI - DAVAO REGION',\n",
    "          'REGION XII - SOCCSKSARGEN',\n",
    "          'REGION XIII - CARAGA',\n",
    "          'BARMM']\n",
    "\n",
    "  LV_Keys = ['REGION I - ILOCOS REGION',\n",
    "          'REGION II - CAGAYAN VALLEY',\n",
    "          'REGION III - CENTRAL LUZON',\n",
    "          'REGION IVA - CALABARZON',\n",
    "          'REGION V - BICOL REGION',\n",
    "          'NCR',\n",
    "          'CAR',\n",
    "          'MIMAROPA',\n",
    "          'REGION VI - WESTERN VISAYAS',\n",
    "          'REGION VII - CENTRAL VISAYAS',\n",
    "          'REGION VIII - EASTERN VISAYAS']\n",
    "\n",
    "  LM_Keys = ['REGION I - ILOCOS REGION',\n",
    "          'REGION II - CAGAYAN VALLEY',\n",
    "          'REGION III - CENTRAL LUZON',\n",
    "          'REGION IVA - CALABARZON',\n",
    "          'REGION V - BICOL REGION',\n",
    "          'NCR',\n",
    "          'CAR',\n",
    "          'MIMAROPA',\n",
    "          'REGION IX - ZAMBOANGA PENINSULA',\n",
    "          'REGION X - NORTHERN MINDANAO',\n",
    "          'REGION XI - DAVAO REGION',\n",
    "          'REGION XII - SOCCSKSARGEN',\n",
    "          'REGION XIII - CARAGA',\n",
    "          'BARMM']\n",
    "\n",
    "  VM_Keys = ['REGION VI - WESTERN VISAYAS',\n",
    "          'REGION VII - CENTRAL VISAYAS',\n",
    "          'REGION VIII - EASTERN VISAYAS',\n",
    "          'REGION IX - ZAMBOANGA PENINSULA',\n",
    "          'REGION X - NORTHERN MINDANAO',\n",
    "          'REGION XI - DAVAO REGION',\n",
    "          'REGION XII - SOCCSKSARGEN',\n",
    "          'REGION XIII - CARAGA',\n",
    "          'BARMM']\n",
    "\n",
    "  sorted = df.sort_values(by='Gini Coefficient').index\n",
    "  region_dict = dict(zip(sorted,range(0,len(sorted))))\n",
    "  Average_Gini = round(df['Gini Coefficient'].mean(),4)\n",
    "\n",
    "  if Regions == 'Luzon':\n",
    "      L_Index = []\n",
    "      for key in region_dict:\n",
    "        if key in L_Keys:\n",
    "          L_Index.append(region_dict[key])\n",
    "      L = sorted[L_Index]\n",
    "      df = df.loc[L]\n",
    "      colors = ['#fcb97d','#fcb97d','#fcb97d','#fcb97d','#fcb97d','#fcb97d','#fcb97d','#fcb97d']\n",
    "\n",
    "      trace_1 = go.Bar(x=df['Gini Coefficient'],\n",
    "                      y=df.index,\n",
    "                      orientation='h',\n",
    "                      marker={'color':colors},\n",
    "                      hovertemplate='Gini Coefficient: %{x:.4f}<extra></extra>',\n",
    "                      name='Luzon')\n",
    "      data = [trace_1]\n",
    "      layout = {\n",
    "        'title': 'Gini Coefficients for Regions in Luzon',\n",
    "        'yaxis': {'categoryorder': 'array',\n",
    "                  'categoryarray': L,\n",
    "                  'title': 'Regions'},\n",
    "        'shapes': [{\n",
    "            'type': 'line',\n",
    "            'x0': Average_Gini,\n",
    "            'y0': 0,\n",
    "            'x1': Average_Gini,\n",
    "            'y1': len(L)-1,\n",
    "            'line': {\n",
    "                'color': 'black',\n",
    "                'width': 2}}],\n",
    "        'annotations': [{\n",
    "            'x': Average_Gini,\n",
    "            'y': len(L) + 0.1,\n",
    "            'text': f\"Average Gini Coefficient: {Average_Gini:.4f}\",\n",
    "            'showarrow': False,\n",
    "            'font': {'size': 16, 'color': 'black'}}],\n",
    "        'xaxis': {'range': [0.53, 0.62],\n",
    "                  'title': 'Gini Coefficients'}\n",
    "              }\n",
    "      fig = go.Figure(data=data, layout=layout)\n",
    "\n",
    "  elif Regions == 'Visayas':\n",
    "      V_Index = []\n",
    "      for key in region_dict:\n",
    "        if key in V_Keys:\n",
    "          V_Index.append(region_dict[key])\n",
    "      V = sorted[V_Index]\n",
    "      df = df.loc[V]\n",
    "      colors = ['#a0b9c6','#a0b9c6','#a0b9c6']\n",
    "\n",
    "      trace_1 = go.Bar(x=df['Gini Coefficient'],\n",
    "                      y=df.index,\n",
    "                      orientation='h',\n",
    "                      marker={'color':colors},\n",
    "                      hovertemplate='Gini Coefficient: %{x:.4f}<extra></extra>')\n",
    "      data = [trace_1]\n",
    "      layout = {\n",
    "          'title': 'Gini Coefficients for Regions in Visayas',\n",
    "          'yaxis': {'categoryorder': 'array',\n",
    "                    'categoryarray': V,\n",
    "                    'title': 'Regions'},\n",
    "          'shapes': [{\n",
    "              'type': 'line',\n",
    "              'x0': Average_Gini,\n",
    "              'y0': 0,\n",
    "              'x1': Average_Gini,\n",
    "              'y1': len(V)-1,\n",
    "              'line': {\n",
    "                  'color': 'black',\n",
    "                  'width': 2}}],\n",
    "          'annotations': [{\n",
    "              'x': Average_Gini,\n",
    "              'y': len(V) + 0.1,\n",
    "              'text': f\"Average Gini Coefficient: {Average_Gini:.4f}\",\n",
    "              'showarrow': False,\n",
    "              'font': {'size': 16, 'color': 'black'}}],\n",
    "          'xaxis': {'range': [0.53, 0.62],\n",
    "                    'title': 'Gini Coefficients'}\n",
    "              }\n",
    "      fig = go.Figure(data=data, layout=layout)\n",
    "\n",
    "  elif Regions == 'Mindanao':\n",
    "      M_Index = []\n",
    "      for key in region_dict:\n",
    "        if key in M_Keys:\n",
    "          M_Index.append(region_dict[key])\n",
    "      M = sorted[M_Index]\n",
    "      df = df.loc[M]\n",
    "      colors = ['#9a98b5','#9a98b5','#9a98b5','#9a98b5','#9a98b5','#9a98b5']\n",
    "\n",
    "      trace_1 = go.Bar(x=df['Gini Coefficient'],\n",
    "                      y=df.index,\n",
    "                      orientation='h',\n",
    "                      marker={'color':colors},\n",
    "                      hovertemplate='Gini Coefficient: %{x:.4f}<extra></extra>')\n",
    "      data = [trace_1]\n",
    "      layout = {\n",
    "          'title': 'Gini Coefficients for Regions in Mindanao',\n",
    "          'yaxis': {'categoryorder': 'array',\n",
    "                    'categoryarray': M,\n",
    "                    'title': 'Regions'},\n",
    "          'shapes': [{\n",
    "              'type': 'line',\n",
    "              'x0': Average_Gini,\n",
    "              'y0': 0,\n",
    "              'x1': Average_Gini,\n",
    "              'y1': len(M)-1,\n",
    "              'line': {\n",
    "                  'color': 'black',\n",
    "                  'width': 2}}],\n",
    "          'annotations': [{\n",
    "              'x': Average_Gini,\n",
    "              'y': len(M) + 0.1,\n",
    "              'text': f\"Average Gini Coefficient: {Average_Gini:.4f}\",\n",
    "              'showarrow': False,\n",
    "              'font': {'size': 16, 'color': 'black'}}],\n",
    "          'xaxis': {'range': [0.53, 0.62],\n",
    "                    'title': 'Gini Coefficients'}\n",
    "              }\n",
    "      fig = go.Figure(data=data, layout=layout)\n",
    "\n",
    "  elif Regions == 'Luzon and Visayas':\n",
    "      LV_Index = []\n",
    "      for key in region_dict:\n",
    "        if key in LV_Keys:\n",
    "          LV_Index.append(region_dict[key])\n",
    "      LV = sorted[LV_Index]\n",
    "      L_Index = []\n",
    "      for key in region_dict:\n",
    "        if key in L_Keys:\n",
    "          L_Index.append(region_dict[key])\n",
    "      L = sorted[L_Index]\n",
    "      V_Index = []\n",
    "      for key in region_dict:\n",
    "        if key in V_Keys:\n",
    "          V_Index.append(region_dict[key])\n",
    "      V = sorted[V_Index]\n",
    "      df = df.loc[LV]\n",
    "      df_L = df.loc[L]\n",
    "      df_V = df.loc[V]\n",
    "      colors_L = ['#fcb97d','#fcb97d','#fcb97d','#fcb97d','#fcb97d','#fcb97d','#fcb97d','#fcb97d']\n",
    "      colors_V = ['#a0b9c6','#a0b9c6','#a0b9c6']\n",
    "\n",
    "      trace_1 = go.Bar(x=df_L['Gini Coefficient'],\n",
    "                      y=df_L.index,\n",
    "                      orientation='h',\n",
    "                      marker={'color':colors_L},\n",
    "                      hovertemplate='Gini Coefficient: %{x:.4f}<extra></extra>',\n",
    "                      name='Luzon')\n",
    "      trace_2 = go.Bar(x=df_V['Gini Coefficient'],\n",
    "                      y=df_V.index,\n",
    "                      orientation='h',\n",
    "                      marker={'color':colors_V},\n",
    "                      hovertemplate='Gini Coefficient: %{x:.4f}<extra></extra>',\n",
    "                      name='Visayas')\n",
    "      data = [trace_1,trace_2]\n",
    "      layout = {\n",
    "          'title': 'Gini Coefficients for Regions in Luzon and Visayas',\n",
    "          'yaxis': {'categoryorder': 'array',\n",
    "                    'categoryarray': LV,\n",
    "                    'title': 'Regions'},\n",
    "          'shapes': [{\n",
    "              'type': 'line',\n",
    "              'x0': Average_Gini,\n",
    "              'y0': 0,\n",
    "              'x1': Average_Gini,\n",
    "              'y1': len(LV)-1,\n",
    "              'line': {\n",
    "                  'color': 'black',\n",
    "                  'width': 2}}],\n",
    "          'annotations': [{\n",
    "              'x': Average_Gini,\n",
    "              'y': len(LV) + 0.1,\n",
    "              'text': f\"Average Gini Coefficient: {Average_Gini:.4f}\",\n",
    "              'showarrow': False,\n",
    "              'font': {'size': 16, 'color': 'black'}}],\n",
    "          'xaxis': {'range': [0.53, 0.62],\n",
    "                    'title': 'Gini Coefficients'}\n",
    "              }\n",
    "      fig = go.Figure(data=data, layout=layout)\n",
    "\n",
    "  elif Regions == 'Luzon and Mindanao':\n",
    "      LM_Index = []\n",
    "      for key in region_dict:\n",
    "        if key in LM_Keys:\n",
    "          LM_Index.append(region_dict[key])\n",
    "      LM = sorted[LM_Index]\n",
    "      L_Index = []\n",
    "      for key in region_dict:\n",
    "        if key in L_Keys:\n",
    "          L_Index.append(region_dict[key])\n",
    "      L = sorted[L_Index]\n",
    "      M_Index = []\n",
    "      for key in region_dict:\n",
    "        if key in M_Keys:\n",
    "          M_Index.append(region_dict[key])\n",
    "      M = sorted[M_Index]\n",
    "      df = df.loc[LM]\n",
    "      df_L = df.loc[L]\n",
    "      df_M = df.loc[M]\n",
    "      colors_L = ['#fcb97d','#fcb97d','#fcb97d','#fcb97d','#fcb97d','#fcb97d','#fcb97d','#fcb97d']\n",
    "      colors_M = ['#9a98b5','#9a98b5','#9a98b5','#9a98b5','#9a98b5','#9a98b5']\n",
    "\n",
    "      trace_1 = go.Bar(x=df_L['Gini Coefficient'],\n",
    "                      y=df_L.index,\n",
    "                      orientation='h',\n",
    "                      marker={'color':colors_L},\n",
    "                      hovertemplate='Gini Coefficient: %{x:.4f}<extra></extra>',\n",
    "                      name='Luzon')\n",
    "      trace_2 = go.Bar(x=df_M['Gini Coefficient'],\n",
    "                      y=df_M.index,\n",
    "                      orientation='h',\n",
    "                      marker={'color':colors_M},\n",
    "                      hovertemplate='Gini Coefficient: %{x:.4f}<extra></extra>',\n",
    "                      name='Mindanao')\n",
    "      data = [trace_1,trace_2]\n",
    "      layout = {\n",
    "          'title': 'Gini Coefficients for Regions in Luzon and Mindanao',\n",
    "          'yaxis': {'categoryorder': 'array',\n",
    "                    'categoryarray': LM,\n",
    "                    'title': 'Regions'},\n",
    "          'shapes': [{\n",
    "              'type': 'line',\n",
    "              'x0': Average_Gini,\n",
    "              'y0': 0,\n",
    "              'x1': Average_Gini,\n",
    "              'y1': len(LM)-1,\n",
    "              'line': {\n",
    "                  'color': 'black',\n",
    "                  'width': 2}}],\n",
    "          'annotations': [{\n",
    "              'x': Average_Gini,\n",
    "              'y': len(LM) + 0.1,\n",
    "              'text': f\"Average Gini Coefficient: {Average_Gini:.4f}\",\n",
    "              'showarrow': False,\n",
    "              'font': {'size': 16, 'color': 'black'}}],\n",
    "          'xaxis': {'range': [0.53, 0.62],\n",
    "                    'title': 'Gini Coefficients'}\n",
    "              }\n",
    "      fig = go.Figure(data=data, layout=layout)\n",
    "\n",
    "  elif Regions == 'Visayas and Mindanao':\n",
    "      VM_Index = []\n",
    "      for key in region_dict:\n",
    "        if key in VM_Keys:\n",
    "          VM_Index.append(region_dict[key])\n",
    "      VM = sorted[VM_Index]\n",
    "      V_Index = []\n",
    "      for key in region_dict:\n",
    "        if key in V_Keys:\n",
    "          V_Index.append(region_dict[key])\n",
    "      V = sorted[V_Index]\n",
    "      M_Index = []\n",
    "      for key in region_dict:\n",
    "        if key in M_Keys:\n",
    "          M_Index.append(region_dict[key])\n",
    "      M = sorted[M_Index]\n",
    "      df = df.loc[VM]\n",
    "      df_V = df.loc[V]\n",
    "      df_M = df.loc[M]\n",
    "      colors_V = ['#a0b9c6','#a0b9c6','#a0b9c6']\n",
    "      colors_M = ['#9a98b5','#9a98b5','#9a98b5','#9a98b5','#9a98b5','#9a98b5']\n",
    "\n",
    "\n",
    "      trace_1 = go.Bar(x=df_V['Gini Coefficient'],\n",
    "                      y=df_V.index,\n",
    "                      orientation='h',\n",
    "                      marker={'color':colors_V},\n",
    "                      hovertemplate='Gini Coefficient: %{x:.4f}<extra></extra>',\n",
    "                      name='Visayas')\n",
    "      trace_2 = go.Bar(x=df_M['Gini Coefficient'],\n",
    "                      y=df_M.index,\n",
    "                      orientation='h',\n",
    "                      marker={'color':colors_M},\n",
    "                      hovertemplate='Gini Coefficient: %{x:.4f}<extra></extra>',\n",
    "                      name='Mindanao')\n",
    "      data = [trace_1,trace_2]\n",
    "      layout = {\n",
    "          'title': 'Gini Coefficients for Regions in Visayas and Mindanao',\n",
    "          'yaxis': {'categoryorder': 'array',\n",
    "                    'categoryarray': VM,\n",
    "                    'title': 'Regions'},\n",
    "          'shapes': [{\n",
    "              'type': 'line',\n",
    "              'x0': Average_Gini,\n",
    "              'y0': 0,\n",
    "              'x1': Average_Gini,\n",
    "              'y1': len(VM)-1,\n",
    "              'line': {\n",
    "                  'color': 'black',\n",
    "                  'width': 2}}],\n",
    "          'annotations': [{\n",
    "              'x': Average_Gini,\n",
    "              'y': len(VM) + 0.1,\n",
    "              'text': f\"Average Gini Coefficient: {Average_Gini:.4f}\",\n",
    "              'showarrow': False,\n",
    "              'font': {'size': 16, 'color': 'black'}}],\n",
    "          'xaxis': {'range': [0.53, 0.62],\n",
    "                    'title': 'Gini Coefficients'}\n",
    "              }\n",
    "      fig = go.Figure(data=data, layout=layout)\n",
    "\n",
    "  elif Regions == 'Luzon, Visayas, and Mindanao':\n",
    "      L_Index = []\n",
    "      for key in region_dict:\n",
    "        if key in L_Keys:\n",
    "          L_Index.append(region_dict[key])\n",
    "      L = sorted[L_Index]\n",
    "      V_Index = []\n",
    "      for key in region_dict:\n",
    "        if key in V_Keys:\n",
    "          V_Index.append(region_dict[key])\n",
    "      V = sorted[V_Index]\n",
    "      M_Index = []\n",
    "      for key in region_dict:\n",
    "        if key in M_Keys:\n",
    "          M_Index.append(region_dict[key])\n",
    "      M = sorted[M_Index]\n",
    "      df = df.loc[sorted]\n",
    "      df_L = df.loc[L]\n",
    "      df_V = df.loc[V]\n",
    "      df_M = df.loc[M]\n",
    "      colors_L = ['#fcb97d','#fcb97d','#fcb97d','#fcb97d','#fcb97d','#fcb97d','#fcb97d','#fcb97d']\n",
    "      colors_V = ['#a0b9c6','#a0b9c6','#a0b9c6']\n",
    "      colors_M = ['#9a98b5','#9a98b5','#9a98b5','#9a98b5','#9a98b5','#9a98b5']\n",
    "      trace_1 = go.Bar(x=df_L['Gini Coefficient'],\n",
    "                      y=df_L.index,\n",
    "                      orientation='h',\n",
    "                      marker={'color':colors_L},\n",
    "                      hovertemplate='Gini Coefficient: %{x:.4f}<extra></extra>',\n",
    "                      name='Luzon')\n",
    "      trace_2 = go.Bar(x=df_V['Gini Coefficient'],\n",
    "                      y=df_V.index,\n",
    "                      orientation='h',\n",
    "                      marker={'color':colors_V},\n",
    "                      hovertemplate='Gini Coefficient: %{x:.4f}<extra></extra>',\n",
    "                      name='Visayas')\n",
    "      trace_3 = go.Bar(x=df_M['Gini Coefficient'],\n",
    "                      y=df_M.index,\n",
    "                      orientation='h',\n",
    "                      marker={'color':colors_M},\n",
    "                      hovertemplate='Gini Coefficient: %{x:.4f}<extra></extra>',\n",
    "                      name='Mindanao')\n",
    "      data = [trace_1,trace_2,trace_3]\n",
    "      layout = {\n",
    "          'title': 'Gini Coefficients for Regions in Luzon, Visayas, and Mindanao',\n",
    "          'yaxis': {'categoryorder': 'array',\n",
    "                    'categoryarray': sorted,\n",
    "                    'title': 'Regions'},\n",
    "          'shapes': [{\n",
    "              'type': 'line',\n",
    "              'x0': Average_Gini,\n",
    "              'y0': 0,\n",
    "              'x1': Average_Gini,\n",
    "              'y1': len(sorted)-1,\n",
    "              'line': {\n",
    "                  'color': 'black',\n",
    "                  'width': 2}}],\n",
    "          'annotations': [{\n",
    "              'x': Average_Gini,\n",
    "              'y': len(sorted) + 0.1,\n",
    "              'text':f\"Average Gini Coefficient: {Average_Gini:.4f}\",\n",
    "              'showarrow': False,\n",
    "              'font': {'size': 16, 'color': 'black'}}],\n",
    "          'xaxis': {'range': [0.53, 0.62],\n",
    "                    'title': 'Gini Coefficients'}\n",
    "              }\n",
    "      fig = go.Figure(data=data, layout=layout)\n",
    "\n",
    "  return fig.show()"
   ],
   "metadata": {
    "collapsed": false
   }
  },
  {
   "cell_type": "code",
   "execution_count": 21,
   "outputs": [
    {
     "data": {
      "application/vnd.plotly.v1+json": {
       "data": [
        {
         "hovertemplate": "Gini Coefficient: %{x:.4f}<extra></extra>",
         "marker": {
          "color": [
           "#fcb97d",
           "#fcb97d",
           "#fcb97d",
           "#fcb97d",
           "#fcb97d",
           "#fcb97d",
           "#fcb97d",
           "#fcb97d"
          ]
         },
         "name": "Luzon",
         "orientation": "h",
         "x": [
          0.5646186458504909,
          0.5736210067043666,
          0.5736210067043666,
          0.5805731318079527,
          0.5907264078809665,
          0.5959017175000311,
          0.5967587264516669,
          0.6014700156182239
         ],
         "y": [
          "NCR",
          "REGION II - CAGAYAN VALLEY",
          "REGION III - CENTRAL LUZON",
          "REGION IVA - CALABARZON",
          "REGION I - ILOCOS REGION",
          "REGION V - BICOL REGION",
          "CAR",
          "MIMAROPA"
         ],
         "type": "bar"
        },
        {
         "hovertemplate": "Gini Coefficient: %{x:.4f}<extra></extra>",
         "marker": {
          "color": [
           "#a0b9c6",
           "#a0b9c6",
           "#a0b9c6"
          ]
         },
         "name": "Visayas",
         "orientation": "h",
         "x": [
          0.6012503212055003,
          0.6087965261950973,
          0.6088570921873133
         ],
         "y": [
          "REGION VI - WESTERN VISAYAS",
          "REGION VIII - EASTERN VISAYAS",
          "REGION VII - CENTRAL VISAYAS"
         ],
         "type": "bar"
        },
        {
         "hovertemplate": "Gini Coefficient: %{x:.4f}<extra></extra>",
         "marker": {
          "color": [
           "#9a98b5",
           "#9a98b5",
           "#9a98b5",
           "#9a98b5",
           "#9a98b5",
           "#9a98b5"
          ]
         },
         "name": "Mindanao",
         "orientation": "h",
         "x": [
          0.5440968180922486,
          0.6004742644301483,
          0.6004742644301483,
          0.602031657208976,
          0.6053085999708451,
          0.6146659896413113
         ],
         "y": [
          "BARMM",
          "REGION XI - DAVAO REGION",
          "REGION X - NORTHERN MINDANAO",
          "REGION IX - ZAMBOANGA PENINSULA",
          "REGION XII - SOCCSKSARGEN",
          "REGION XIII - CARAGA"
         ],
         "type": "bar"
        }
       ],
       "layout": {
        "annotations": [
         {
          "font": {
           "color": "black",
           "size": 16
          },
          "showarrow": false,
          "text": "Average Gini Coefficient: 0.5920",
          "x": 0.592,
          "y": 17.1
         }
        ],
        "shapes": [
         {
          "line": {
           "color": "black",
           "width": 2
          },
          "type": "line",
          "x0": 0.592,
          "x1": 0.592,
          "y0": 0,
          "y1": 16
         }
        ],
        "title": {
         "text": "Gini Coefficients for Regions in Luzon, Visayas, and Mindanao"
        },
        "xaxis": {
         "range": [
          0.53,
          0.62
         ],
         "title": {
          "text": "Gini Coefficients"
         }
        },
        "yaxis": {
         "categoryarray": [
          "BARMM",
          "NCR",
          "REGION II - CAGAYAN VALLEY",
          "REGION III - CENTRAL LUZON",
          "REGION IVA - CALABARZON",
          "REGION I - ILOCOS REGION",
          "REGION V - BICOL REGION",
          "CAR",
          "REGION XI - DAVAO REGION",
          "REGION X - NORTHERN MINDANAO",
          "REGION VI - WESTERN VISAYAS",
          "MIMAROPA",
          "REGION IX - ZAMBOANGA PENINSULA",
          "REGION XII - SOCCSKSARGEN",
          "REGION VIII - EASTERN VISAYAS",
          "REGION VII - CENTRAL VISAYAS",
          "REGION XIII - CARAGA"
         ],
         "categoryorder": "array",
         "title": {
          "text": "Regions"
         }
        },
        "template": {
         "data": {
          "bar": [
           {
            "error_x": {
             "color": "#2a3f5f"
            },
            "error_y": {
             "color": "#2a3f5f"
            },
            "marker": {
             "line": {
              "color": "#E5ECF6",
              "width": 0.5
             },
             "pattern": {
              "fillmode": "overlay",
              "size": 10,
              "solidity": 0.2
             }
            },
            "type": "bar"
           }
          ],
          "barpolar": [
           {
            "marker": {
             "line": {
              "color": "#E5ECF6",
              "width": 0.5
             },
             "pattern": {
              "fillmode": "overlay",
              "size": 10,
              "solidity": 0.2
             }
            },
            "type": "barpolar"
           }
          ],
          "carpet": [
           {
            "aaxis": {
             "endlinecolor": "#2a3f5f",
             "gridcolor": "white",
             "linecolor": "white",
             "minorgridcolor": "white",
             "startlinecolor": "#2a3f5f"
            },
            "baxis": {
             "endlinecolor": "#2a3f5f",
             "gridcolor": "white",
             "linecolor": "white",
             "minorgridcolor": "white",
             "startlinecolor": "#2a3f5f"
            },
            "type": "carpet"
           }
          ],
          "choropleth": [
           {
            "colorbar": {
             "outlinewidth": 0,
             "ticks": ""
            },
            "type": "choropleth"
           }
          ],
          "contour": [
           {
            "colorbar": {
             "outlinewidth": 0,
             "ticks": ""
            },
            "colorscale": [
             [
              0.0,
              "#0d0887"
             ],
             [
              0.1111111111111111,
              "#46039f"
             ],
             [
              0.2222222222222222,
              "#7201a8"
             ],
             [
              0.3333333333333333,
              "#9c179e"
             ],
             [
              0.4444444444444444,
              "#bd3786"
             ],
             [
              0.5555555555555556,
              "#d8576b"
             ],
             [
              0.6666666666666666,
              "#ed7953"
             ],
             [
              0.7777777777777778,
              "#fb9f3a"
             ],
             [
              0.8888888888888888,
              "#fdca26"
             ],
             [
              1.0,
              "#f0f921"
             ]
            ],
            "type": "contour"
           }
          ],
          "contourcarpet": [
           {
            "colorbar": {
             "outlinewidth": 0,
             "ticks": ""
            },
            "type": "contourcarpet"
           }
          ],
          "heatmap": [
           {
            "colorbar": {
             "outlinewidth": 0,
             "ticks": ""
            },
            "colorscale": [
             [
              0.0,
              "#0d0887"
             ],
             [
              0.1111111111111111,
              "#46039f"
             ],
             [
              0.2222222222222222,
              "#7201a8"
             ],
             [
              0.3333333333333333,
              "#9c179e"
             ],
             [
              0.4444444444444444,
              "#bd3786"
             ],
             [
              0.5555555555555556,
              "#d8576b"
             ],
             [
              0.6666666666666666,
              "#ed7953"
             ],
             [
              0.7777777777777778,
              "#fb9f3a"
             ],
             [
              0.8888888888888888,
              "#fdca26"
             ],
             [
              1.0,
              "#f0f921"
             ]
            ],
            "type": "heatmap"
           }
          ],
          "heatmapgl": [
           {
            "colorbar": {
             "outlinewidth": 0,
             "ticks": ""
            },
            "colorscale": [
             [
              0.0,
              "#0d0887"
             ],
             [
              0.1111111111111111,
              "#46039f"
             ],
             [
              0.2222222222222222,
              "#7201a8"
             ],
             [
              0.3333333333333333,
              "#9c179e"
             ],
             [
              0.4444444444444444,
              "#bd3786"
             ],
             [
              0.5555555555555556,
              "#d8576b"
             ],
             [
              0.6666666666666666,
              "#ed7953"
             ],
             [
              0.7777777777777778,
              "#fb9f3a"
             ],
             [
              0.8888888888888888,
              "#fdca26"
             ],
             [
              1.0,
              "#f0f921"
             ]
            ],
            "type": "heatmapgl"
           }
          ],
          "histogram": [
           {
            "marker": {
             "pattern": {
              "fillmode": "overlay",
              "size": 10,
              "solidity": 0.2
             }
            },
            "type": "histogram"
           }
          ],
          "histogram2d": [
           {
            "colorbar": {
             "outlinewidth": 0,
             "ticks": ""
            },
            "colorscale": [
             [
              0.0,
              "#0d0887"
             ],
             [
              0.1111111111111111,
              "#46039f"
             ],
             [
              0.2222222222222222,
              "#7201a8"
             ],
             [
              0.3333333333333333,
              "#9c179e"
             ],
             [
              0.4444444444444444,
              "#bd3786"
             ],
             [
              0.5555555555555556,
              "#d8576b"
             ],
             [
              0.6666666666666666,
              "#ed7953"
             ],
             [
              0.7777777777777778,
              "#fb9f3a"
             ],
             [
              0.8888888888888888,
              "#fdca26"
             ],
             [
              1.0,
              "#f0f921"
             ]
            ],
            "type": "histogram2d"
           }
          ],
          "histogram2dcontour": [
           {
            "colorbar": {
             "outlinewidth": 0,
             "ticks": ""
            },
            "colorscale": [
             [
              0.0,
              "#0d0887"
             ],
             [
              0.1111111111111111,
              "#46039f"
             ],
             [
              0.2222222222222222,
              "#7201a8"
             ],
             [
              0.3333333333333333,
              "#9c179e"
             ],
             [
              0.4444444444444444,
              "#bd3786"
             ],
             [
              0.5555555555555556,
              "#d8576b"
             ],
             [
              0.6666666666666666,
              "#ed7953"
             ],
             [
              0.7777777777777778,
              "#fb9f3a"
             ],
             [
              0.8888888888888888,
              "#fdca26"
             ],
             [
              1.0,
              "#f0f921"
             ]
            ],
            "type": "histogram2dcontour"
           }
          ],
          "mesh3d": [
           {
            "colorbar": {
             "outlinewidth": 0,
             "ticks": ""
            },
            "type": "mesh3d"
           }
          ],
          "parcoords": [
           {
            "line": {
             "colorbar": {
              "outlinewidth": 0,
              "ticks": ""
             }
            },
            "type": "parcoords"
           }
          ],
          "pie": [
           {
            "automargin": true,
            "type": "pie"
           }
          ],
          "scatter": [
           {
            "marker": {
             "colorbar": {
              "outlinewidth": 0,
              "ticks": ""
             }
            },
            "type": "scatter"
           }
          ],
          "scatter3d": [
           {
            "line": {
             "colorbar": {
              "outlinewidth": 0,
              "ticks": ""
             }
            },
            "marker": {
             "colorbar": {
              "outlinewidth": 0,
              "ticks": ""
             }
            },
            "type": "scatter3d"
           }
          ],
          "scattercarpet": [
           {
            "marker": {
             "colorbar": {
              "outlinewidth": 0,
              "ticks": ""
             }
            },
            "type": "scattercarpet"
           }
          ],
          "scattergeo": [
           {
            "marker": {
             "colorbar": {
              "outlinewidth": 0,
              "ticks": ""
             }
            },
            "type": "scattergeo"
           }
          ],
          "scattergl": [
           {
            "marker": {
             "colorbar": {
              "outlinewidth": 0,
              "ticks": ""
             }
            },
            "type": "scattergl"
           }
          ],
          "scattermapbox": [
           {
            "marker": {
             "colorbar": {
              "outlinewidth": 0,
              "ticks": ""
             }
            },
            "type": "scattermapbox"
           }
          ],
          "scatterpolar": [
           {
            "marker": {
             "colorbar": {
              "outlinewidth": 0,
              "ticks": ""
             }
            },
            "type": "scatterpolar"
           }
          ],
          "scatterpolargl": [
           {
            "marker": {
             "colorbar": {
              "outlinewidth": 0,
              "ticks": ""
             }
            },
            "type": "scatterpolargl"
           }
          ],
          "scatterternary": [
           {
            "marker": {
             "colorbar": {
              "outlinewidth": 0,
              "ticks": ""
             }
            },
            "type": "scatterternary"
           }
          ],
          "surface": [
           {
            "colorbar": {
             "outlinewidth": 0,
             "ticks": ""
            },
            "colorscale": [
             [
              0.0,
              "#0d0887"
             ],
             [
              0.1111111111111111,
              "#46039f"
             ],
             [
              0.2222222222222222,
              "#7201a8"
             ],
             [
              0.3333333333333333,
              "#9c179e"
             ],
             [
              0.4444444444444444,
              "#bd3786"
             ],
             [
              0.5555555555555556,
              "#d8576b"
             ],
             [
              0.6666666666666666,
              "#ed7953"
             ],
             [
              0.7777777777777778,
              "#fb9f3a"
             ],
             [
              0.8888888888888888,
              "#fdca26"
             ],
             [
              1.0,
              "#f0f921"
             ]
            ],
            "type": "surface"
           }
          ],
          "table": [
           {
            "cells": {
             "fill": {
              "color": "#EBF0F8"
             },
             "line": {
              "color": "white"
             }
            },
            "header": {
             "fill": {
              "color": "#C8D4E3"
             },
             "line": {
              "color": "white"
             }
            },
            "type": "table"
           }
          ]
         },
         "layout": {
          "annotationdefaults": {
           "arrowcolor": "#2a3f5f",
           "arrowhead": 0,
           "arrowwidth": 1
          },
          "autotypenumbers": "strict",
          "coloraxis": {
           "colorbar": {
            "outlinewidth": 0,
            "ticks": ""
           }
          },
          "colorscale": {
           "diverging": [
            [
             0,
             "#8e0152"
            ],
            [
             0.1,
             "#c51b7d"
            ],
            [
             0.2,
             "#de77ae"
            ],
            [
             0.3,
             "#f1b6da"
            ],
            [
             0.4,
             "#fde0ef"
            ],
            [
             0.5,
             "#f7f7f7"
            ],
            [
             0.6,
             "#e6f5d0"
            ],
            [
             0.7,
             "#b8e186"
            ],
            [
             0.8,
             "#7fbc41"
            ],
            [
             0.9,
             "#4d9221"
            ],
            [
             1,
             "#276419"
            ]
           ],
           "sequential": [
            [
             0.0,
             "#0d0887"
            ],
            [
             0.1111111111111111,
             "#46039f"
            ],
            [
             0.2222222222222222,
             "#7201a8"
            ],
            [
             0.3333333333333333,
             "#9c179e"
            ],
            [
             0.4444444444444444,
             "#bd3786"
            ],
            [
             0.5555555555555556,
             "#d8576b"
            ],
            [
             0.6666666666666666,
             "#ed7953"
            ],
            [
             0.7777777777777778,
             "#fb9f3a"
            ],
            [
             0.8888888888888888,
             "#fdca26"
            ],
            [
             1.0,
             "#f0f921"
            ]
           ],
           "sequentialminus": [
            [
             0.0,
             "#0d0887"
            ],
            [
             0.1111111111111111,
             "#46039f"
            ],
            [
             0.2222222222222222,
             "#7201a8"
            ],
            [
             0.3333333333333333,
             "#9c179e"
            ],
            [
             0.4444444444444444,
             "#bd3786"
            ],
            [
             0.5555555555555556,
             "#d8576b"
            ],
            [
             0.6666666666666666,
             "#ed7953"
            ],
            [
             0.7777777777777778,
             "#fb9f3a"
            ],
            [
             0.8888888888888888,
             "#fdca26"
            ],
            [
             1.0,
             "#f0f921"
            ]
           ]
          },
          "colorway": [
           "#636efa",
           "#EF553B",
           "#00cc96",
           "#ab63fa",
           "#FFA15A",
           "#19d3f3",
           "#FF6692",
           "#B6E880",
           "#FF97FF",
           "#FECB52"
          ],
          "font": {
           "color": "#2a3f5f"
          },
          "geo": {
           "bgcolor": "white",
           "lakecolor": "white",
           "landcolor": "#E5ECF6",
           "showlakes": true,
           "showland": true,
           "subunitcolor": "white"
          },
          "hoverlabel": {
           "align": "left"
          },
          "hovermode": "closest",
          "mapbox": {
           "style": "light"
          },
          "paper_bgcolor": "white",
          "plot_bgcolor": "#E5ECF6",
          "polar": {
           "angularaxis": {
            "gridcolor": "white",
            "linecolor": "white",
            "ticks": ""
           },
           "bgcolor": "#E5ECF6",
           "radialaxis": {
            "gridcolor": "white",
            "linecolor": "white",
            "ticks": ""
           }
          },
          "scene": {
           "xaxis": {
            "backgroundcolor": "#E5ECF6",
            "gridcolor": "white",
            "gridwidth": 2,
            "linecolor": "white",
            "showbackground": true,
            "ticks": "",
            "zerolinecolor": "white"
           },
           "yaxis": {
            "backgroundcolor": "#E5ECF6",
            "gridcolor": "white",
            "gridwidth": 2,
            "linecolor": "white",
            "showbackground": true,
            "ticks": "",
            "zerolinecolor": "white"
           },
           "zaxis": {
            "backgroundcolor": "#E5ECF6",
            "gridcolor": "white",
            "gridwidth": 2,
            "linecolor": "white",
            "showbackground": true,
            "ticks": "",
            "zerolinecolor": "white"
           }
          },
          "shapedefaults": {
           "line": {
            "color": "#2a3f5f"
           }
          },
          "ternary": {
           "aaxis": {
            "gridcolor": "white",
            "linecolor": "white",
            "ticks": ""
           },
           "baxis": {
            "gridcolor": "white",
            "linecolor": "white",
            "ticks": ""
           },
           "bgcolor": "#E5ECF6",
           "caxis": {
            "gridcolor": "white",
            "linecolor": "white",
            "ticks": ""
           }
          },
          "title": {
           "x": 0.05
          },
          "xaxis": {
           "automargin": true,
           "gridcolor": "white",
           "linecolor": "white",
           "ticks": "",
           "title": {
            "standoff": 15
           },
           "zerolinecolor": "white",
           "zerolinewidth": 2
          },
          "yaxis": {
           "automargin": true,
           "gridcolor": "white",
           "linecolor": "white",
           "ticks": "",
           "title": {
            "standoff": 15
           },
           "zerolinecolor": "white",
           "zerolinewidth": 2
          }
         }
        }
       },
       "config": {
        "plotlyServerURL": "https://plot.ly"
       }
      },
      "text/html": "<div>                            <div id=\"ace0f5e3-2734-4790-b6e6-dcec78b486fc\" class=\"plotly-graph-div\" style=\"height:525px; width:100%;\"></div>            <script type=\"text/javascript\">                require([\"plotly\"], function(Plotly) {                    window.PLOTLYENV=window.PLOTLYENV || {};                                    if (document.getElementById(\"ace0f5e3-2734-4790-b6e6-dcec78b486fc\")) {                    Plotly.newPlot(                        \"ace0f5e3-2734-4790-b6e6-dcec78b486fc\",                        [{\"hovertemplate\":\"Gini Coefficient: %{x:.4f}<extra></extra>\",\"marker\":{\"color\":[\"#fcb97d\",\"#fcb97d\",\"#fcb97d\",\"#fcb97d\",\"#fcb97d\",\"#fcb97d\",\"#fcb97d\",\"#fcb97d\"]},\"name\":\"Luzon\",\"orientation\":\"h\",\"x\":[0.5646186458504909,0.5736210067043666,0.5736210067043666,0.5805731318079527,0.5907264078809665,0.5959017175000311,0.5967587264516669,0.6014700156182239],\"y\":[\"NCR\",\"REGION II - CAGAYAN VALLEY\",\"REGION III - CENTRAL LUZON\",\"REGION IVA - CALABARZON\",\"REGION I - ILOCOS REGION\",\"REGION V - BICOL REGION\",\"CAR\",\"MIMAROPA\"],\"type\":\"bar\"},{\"hovertemplate\":\"Gini Coefficient: %{x:.4f}<extra></extra>\",\"marker\":{\"color\":[\"#a0b9c6\",\"#a0b9c6\",\"#a0b9c6\"]},\"name\":\"Visayas\",\"orientation\":\"h\",\"x\":[0.6012503212055003,0.6087965261950973,0.6088570921873133],\"y\":[\"REGION VI - WESTERN VISAYAS\",\"REGION VIII - EASTERN VISAYAS\",\"REGION VII - CENTRAL VISAYAS\"],\"type\":\"bar\"},{\"hovertemplate\":\"Gini Coefficient: %{x:.4f}<extra></extra>\",\"marker\":{\"color\":[\"#9a98b5\",\"#9a98b5\",\"#9a98b5\",\"#9a98b5\",\"#9a98b5\",\"#9a98b5\"]},\"name\":\"Mindanao\",\"orientation\":\"h\",\"x\":[0.5440968180922486,0.6004742644301483,0.6004742644301483,0.602031657208976,0.6053085999708451,0.6146659896413113],\"y\":[\"BARMM\",\"REGION XI - DAVAO REGION\",\"REGION X - NORTHERN MINDANAO\",\"REGION IX - ZAMBOANGA PENINSULA\",\"REGION XII - SOCCSKSARGEN\",\"REGION XIII - CARAGA\"],\"type\":\"bar\"}],                        {\"annotations\":[{\"font\":{\"color\":\"black\",\"size\":16},\"showarrow\":false,\"text\":\"Average Gini Coefficient: 0.5920\",\"x\":0.592,\"y\":17.1}],\"shapes\":[{\"line\":{\"color\":\"black\",\"width\":2},\"type\":\"line\",\"x0\":0.592,\"x1\":0.592,\"y0\":0,\"y1\":16}],\"title\":{\"text\":\"Gini Coefficients for Regions in Luzon, Visayas, and Mindanao\"},\"xaxis\":{\"range\":[0.53,0.62],\"title\":{\"text\":\"Gini Coefficients\"}},\"yaxis\":{\"categoryarray\":[\"BARMM\",\"NCR\",\"REGION II - CAGAYAN VALLEY\",\"REGION III - CENTRAL LUZON\",\"REGION IVA - CALABARZON\",\"REGION I - ILOCOS REGION\",\"REGION V - BICOL REGION\",\"CAR\",\"REGION XI - DAVAO REGION\",\"REGION X - NORTHERN MINDANAO\",\"REGION VI - WESTERN VISAYAS\",\"MIMAROPA\",\"REGION IX - ZAMBOANGA PENINSULA\",\"REGION XII - SOCCSKSARGEN\",\"REGION VIII - EASTERN VISAYAS\",\"REGION VII - CENTRAL VISAYAS\",\"REGION XIII - CARAGA\"],\"categoryorder\":\"array\",\"title\":{\"text\":\"Regions\"}},\"template\":{\"data\":{\"bar\":[{\"error_x\":{\"color\":\"#2a3f5f\"},\"error_y\":{\"color\":\"#2a3f5f\"},\"marker\":{\"line\":{\"color\":\"#E5ECF6\",\"width\":0.5},\"pattern\":{\"fillmode\":\"overlay\",\"size\":10,\"solidity\":0.2}},\"type\":\"bar\"}],\"barpolar\":[{\"marker\":{\"line\":{\"color\":\"#E5ECF6\",\"width\":0.5},\"pattern\":{\"fillmode\":\"overlay\",\"size\":10,\"solidity\":0.2}},\"type\":\"barpolar\"}],\"carpet\":[{\"aaxis\":{\"endlinecolor\":\"#2a3f5f\",\"gridcolor\":\"white\",\"linecolor\":\"white\",\"minorgridcolor\":\"white\",\"startlinecolor\":\"#2a3f5f\"},\"baxis\":{\"endlinecolor\":\"#2a3f5f\",\"gridcolor\":\"white\",\"linecolor\":\"white\",\"minorgridcolor\":\"white\",\"startlinecolor\":\"#2a3f5f\"},\"type\":\"carpet\"}],\"choropleth\":[{\"colorbar\":{\"outlinewidth\":0,\"ticks\":\"\"},\"type\":\"choropleth\"}],\"contour\":[{\"colorbar\":{\"outlinewidth\":0,\"ticks\":\"\"},\"colorscale\":[[0.0,\"#0d0887\"],[0.1111111111111111,\"#46039f\"],[0.2222222222222222,\"#7201a8\"],[0.3333333333333333,\"#9c179e\"],[0.4444444444444444,\"#bd3786\"],[0.5555555555555556,\"#d8576b\"],[0.6666666666666666,\"#ed7953\"],[0.7777777777777778,\"#fb9f3a\"],[0.8888888888888888,\"#fdca26\"],[1.0,\"#f0f921\"]],\"type\":\"contour\"}],\"contourcarpet\":[{\"colorbar\":{\"outlinewidth\":0,\"ticks\":\"\"},\"type\":\"contourcarpet\"}],\"heatmap\":[{\"colorbar\":{\"outlinewidth\":0,\"ticks\":\"\"},\"colorscale\":[[0.0,\"#0d0887\"],[0.1111111111111111,\"#46039f\"],[0.2222222222222222,\"#7201a8\"],[0.3333333333333333,\"#9c179e\"],[0.4444444444444444,\"#bd3786\"],[0.5555555555555556,\"#d8576b\"],[0.6666666666666666,\"#ed7953\"],[0.7777777777777778,\"#fb9f3a\"],[0.8888888888888888,\"#fdca26\"],[1.0,\"#f0f921\"]],\"type\":\"heatmap\"}],\"heatmapgl\":[{\"colorbar\":{\"outlinewidth\":0,\"ticks\":\"\"},\"colorscale\":[[0.0,\"#0d0887\"],[0.1111111111111111,\"#46039f\"],[0.2222222222222222,\"#7201a8\"],[0.3333333333333333,\"#9c179e\"],[0.4444444444444444,\"#bd3786\"],[0.5555555555555556,\"#d8576b\"],[0.6666666666666666,\"#ed7953\"],[0.7777777777777778,\"#fb9f3a\"],[0.8888888888888888,\"#fdca26\"],[1.0,\"#f0f921\"]],\"type\":\"heatmapgl\"}],\"histogram\":[{\"marker\":{\"pattern\":{\"fillmode\":\"overlay\",\"size\":10,\"solidity\":0.2}},\"type\":\"histogram\"}],\"histogram2d\":[{\"colorbar\":{\"outlinewidth\":0,\"ticks\":\"\"},\"colorscale\":[[0.0,\"#0d0887\"],[0.1111111111111111,\"#46039f\"],[0.2222222222222222,\"#7201a8\"],[0.3333333333333333,\"#9c179e\"],[0.4444444444444444,\"#bd3786\"],[0.5555555555555556,\"#d8576b\"],[0.6666666666666666,\"#ed7953\"],[0.7777777777777778,\"#fb9f3a\"],[0.8888888888888888,\"#fdca26\"],[1.0,\"#f0f921\"]],\"type\":\"histogram2d\"}],\"histogram2dcontour\":[{\"colorbar\":{\"outlinewidth\":0,\"ticks\":\"\"},\"colorscale\":[[0.0,\"#0d0887\"],[0.1111111111111111,\"#46039f\"],[0.2222222222222222,\"#7201a8\"],[0.3333333333333333,\"#9c179e\"],[0.4444444444444444,\"#bd3786\"],[0.5555555555555556,\"#d8576b\"],[0.6666666666666666,\"#ed7953\"],[0.7777777777777778,\"#fb9f3a\"],[0.8888888888888888,\"#fdca26\"],[1.0,\"#f0f921\"]],\"type\":\"histogram2dcontour\"}],\"mesh3d\":[{\"colorbar\":{\"outlinewidth\":0,\"ticks\":\"\"},\"type\":\"mesh3d\"}],\"parcoords\":[{\"line\":{\"colorbar\":{\"outlinewidth\":0,\"ticks\":\"\"}},\"type\":\"parcoords\"}],\"pie\":[{\"automargin\":true,\"type\":\"pie\"}],\"scatter\":[{\"marker\":{\"colorbar\":{\"outlinewidth\":0,\"ticks\":\"\"}},\"type\":\"scatter\"}],\"scatter3d\":[{\"line\":{\"colorbar\":{\"outlinewidth\":0,\"ticks\":\"\"}},\"marker\":{\"colorbar\":{\"outlinewidth\":0,\"ticks\":\"\"}},\"type\":\"scatter3d\"}],\"scattercarpet\":[{\"marker\":{\"colorbar\":{\"outlinewidth\":0,\"ticks\":\"\"}},\"type\":\"scattercarpet\"}],\"scattergeo\":[{\"marker\":{\"colorbar\":{\"outlinewidth\":0,\"ticks\":\"\"}},\"type\":\"scattergeo\"}],\"scattergl\":[{\"marker\":{\"colorbar\":{\"outlinewidth\":0,\"ticks\":\"\"}},\"type\":\"scattergl\"}],\"scattermapbox\":[{\"marker\":{\"colorbar\":{\"outlinewidth\":0,\"ticks\":\"\"}},\"type\":\"scattermapbox\"}],\"scatterpolar\":[{\"marker\":{\"colorbar\":{\"outlinewidth\":0,\"ticks\":\"\"}},\"type\":\"scatterpolar\"}],\"scatterpolargl\":[{\"marker\":{\"colorbar\":{\"outlinewidth\":0,\"ticks\":\"\"}},\"type\":\"scatterpolargl\"}],\"scatterternary\":[{\"marker\":{\"colorbar\":{\"outlinewidth\":0,\"ticks\":\"\"}},\"type\":\"scatterternary\"}],\"surface\":[{\"colorbar\":{\"outlinewidth\":0,\"ticks\":\"\"},\"colorscale\":[[0.0,\"#0d0887\"],[0.1111111111111111,\"#46039f\"],[0.2222222222222222,\"#7201a8\"],[0.3333333333333333,\"#9c179e\"],[0.4444444444444444,\"#bd3786\"],[0.5555555555555556,\"#d8576b\"],[0.6666666666666666,\"#ed7953\"],[0.7777777777777778,\"#fb9f3a\"],[0.8888888888888888,\"#fdca26\"],[1.0,\"#f0f921\"]],\"type\":\"surface\"}],\"table\":[{\"cells\":{\"fill\":{\"color\":\"#EBF0F8\"},\"line\":{\"color\":\"white\"}},\"header\":{\"fill\":{\"color\":\"#C8D4E3\"},\"line\":{\"color\":\"white\"}},\"type\":\"table\"}]},\"layout\":{\"annotationdefaults\":{\"arrowcolor\":\"#2a3f5f\",\"arrowhead\":0,\"arrowwidth\":1},\"autotypenumbers\":\"strict\",\"coloraxis\":{\"colorbar\":{\"outlinewidth\":0,\"ticks\":\"\"}},\"colorscale\":{\"diverging\":[[0,\"#8e0152\"],[0.1,\"#c51b7d\"],[0.2,\"#de77ae\"],[0.3,\"#f1b6da\"],[0.4,\"#fde0ef\"],[0.5,\"#f7f7f7\"],[0.6,\"#e6f5d0\"],[0.7,\"#b8e186\"],[0.8,\"#7fbc41\"],[0.9,\"#4d9221\"],[1,\"#276419\"]],\"sequential\":[[0.0,\"#0d0887\"],[0.1111111111111111,\"#46039f\"],[0.2222222222222222,\"#7201a8\"],[0.3333333333333333,\"#9c179e\"],[0.4444444444444444,\"#bd3786\"],[0.5555555555555556,\"#d8576b\"],[0.6666666666666666,\"#ed7953\"],[0.7777777777777778,\"#fb9f3a\"],[0.8888888888888888,\"#fdca26\"],[1.0,\"#f0f921\"]],\"sequentialminus\":[[0.0,\"#0d0887\"],[0.1111111111111111,\"#46039f\"],[0.2222222222222222,\"#7201a8\"],[0.3333333333333333,\"#9c179e\"],[0.4444444444444444,\"#bd3786\"],[0.5555555555555556,\"#d8576b\"],[0.6666666666666666,\"#ed7953\"],[0.7777777777777778,\"#fb9f3a\"],[0.8888888888888888,\"#fdca26\"],[1.0,\"#f0f921\"]]},\"colorway\":[\"#636efa\",\"#EF553B\",\"#00cc96\",\"#ab63fa\",\"#FFA15A\",\"#19d3f3\",\"#FF6692\",\"#B6E880\",\"#FF97FF\",\"#FECB52\"],\"font\":{\"color\":\"#2a3f5f\"},\"geo\":{\"bgcolor\":\"white\",\"lakecolor\":\"white\",\"landcolor\":\"#E5ECF6\",\"showlakes\":true,\"showland\":true,\"subunitcolor\":\"white\"},\"hoverlabel\":{\"align\":\"left\"},\"hovermode\":\"closest\",\"mapbox\":{\"style\":\"light\"},\"paper_bgcolor\":\"white\",\"plot_bgcolor\":\"#E5ECF6\",\"polar\":{\"angularaxis\":{\"gridcolor\":\"white\",\"linecolor\":\"white\",\"ticks\":\"\"},\"bgcolor\":\"#E5ECF6\",\"radialaxis\":{\"gridcolor\":\"white\",\"linecolor\":\"white\",\"ticks\":\"\"}},\"scene\":{\"xaxis\":{\"backgroundcolor\":\"#E5ECF6\",\"gridcolor\":\"white\",\"gridwidth\":2,\"linecolor\":\"white\",\"showbackground\":true,\"ticks\":\"\",\"zerolinecolor\":\"white\"},\"yaxis\":{\"backgroundcolor\":\"#E5ECF6\",\"gridcolor\":\"white\",\"gridwidth\":2,\"linecolor\":\"white\",\"showbackground\":true,\"ticks\":\"\",\"zerolinecolor\":\"white\"},\"zaxis\":{\"backgroundcolor\":\"#E5ECF6\",\"gridcolor\":\"white\",\"gridwidth\":2,\"linecolor\":\"white\",\"showbackground\":true,\"ticks\":\"\",\"zerolinecolor\":\"white\"}},\"shapedefaults\":{\"line\":{\"color\":\"#2a3f5f\"}},\"ternary\":{\"aaxis\":{\"gridcolor\":\"white\",\"linecolor\":\"white\",\"ticks\":\"\"},\"baxis\":{\"gridcolor\":\"white\",\"linecolor\":\"white\",\"ticks\":\"\"},\"bgcolor\":\"#E5ECF6\",\"caxis\":{\"gridcolor\":\"white\",\"linecolor\":\"white\",\"ticks\":\"\"}},\"title\":{\"x\":0.05},\"xaxis\":{\"automargin\":true,\"gridcolor\":\"white\",\"linecolor\":\"white\",\"ticks\":\"\",\"title\":{\"standoff\":15},\"zerolinecolor\":\"white\",\"zerolinewidth\":2},\"yaxis\":{\"automargin\":true,\"gridcolor\":\"white\",\"linecolor\":\"white\",\"ticks\":\"\",\"title\":{\"standoff\":15},\"zerolinecolor\":\"white\",\"zerolinewidth\":2}}}},                        {\"responsive\": true}                    ).then(function(){\n                            \nvar gd = document.getElementById('ace0f5e3-2734-4790-b6e6-dcec78b486fc');\nvar x = new MutationObserver(function (mutations, observer) {{\n        var display = window.getComputedStyle(gd).display;\n        if (!display || display === 'none') {{\n            console.log([gd, 'removed!']);\n            Plotly.purge(gd);\n            observer.disconnect();\n        }}\n}});\n\n// Listen for the removal of the full notebook cells\nvar notebookContainer = gd.closest('#notebook-container');\nif (notebookContainer) {{\n    x.observe(notebookContainer, {childList: true});\n}}\n\n// Listen for the clearing of the current output cell\nvar outputEl = gd.closest('.output');\nif (outputEl) {{\n    x.observe(outputEl, {childList: true});\n}}\n\n                        })                };                });            </script>        </div>"
     },
     "metadata": {},
     "output_type": "display_data"
    }
   ],
   "source": [
    "Viz2a(df_Gini_Coefficient_2a,'Luzon, Visayas, and Mindanao')"
   ],
   "metadata": {
    "collapsed": false
   }
  },
  {
   "cell_type": "code",
   "execution_count": 3,
   "outputs": [],
   "source": [
    "# Importing datasets\n",
    "df2 = pd.read_csv('df2.csv')"
   ],
   "metadata": {
    "collapsed": false
   }
  },
  {
   "cell_type": "code",
   "execution_count": 4,
   "outputs": [],
   "source": [
    "def viz2b_TotalIncome(df2,Region):\n",
    "  filtered_df = df2[df2['Region'] == Region]\n",
    "\n",
    "  if Region in ['REGION I - ILOCOS REGION',\n",
    "                'REGION II - CAGAYAN VALLEY',\n",
    "                'REGION III - CENTRAL LUZON',\n",
    "                'REGION IVA - CALABARZON',\n",
    "                'REGION V - BICOL REGION',\n",
    "                'NCR', 'CAR', 'MIMAROPA']:\n",
    "                color = '#fcb97d'\n",
    "  elif Region in ['REGION VI - WESTERN VISAYAS',\n",
    "                  'REGION VII - CENTRAL VISAYAS',\n",
    "                  'REGION VIII - EASTERN VISAYAS']:\n",
    "                  color = '#a0b9c6'\n",
    "  else:\n",
    "      color = '#9a98b5'\n",
    "\n",
    "  fig = px.bar(filtered_df,\n",
    "              x=\"Decile\",\n",
    "              y=\"Total Income\",\n",
    "              text=\"Total Income\",\n",
    "              title=f\"Total Income by Decile for {Region}\",\n",
    "              color_discrete_sequence=[color])\n",
    "  return fig.show()"
   ],
   "metadata": {
    "collapsed": false
   }
  },
  {
   "cell_type": "code",
   "execution_count": 14,
   "outputs": [
    {
     "data": {
      "application/vnd.plotly.v1+json": {
       "data": [
        {
         "alignmentgroup": "True",
         "hovertemplate": "Decile=%{x}<br>Total Income=%{text}<extra></extra>",
         "legendgroup": "",
         "marker": {
          "color": "#fcb97d",
          "pattern": {
           "shape": ""
          }
         },
         "name": "",
         "offsetgroup": "",
         "orientation": "v",
         "showlegend": false,
         "text": [
          77163.78,
          91809.85,
          103516.9,
          113145.22,
          125436.46,
          134488.1,
          148349.74,
          169983.54,
          187836.03,
          315898.85
         ],
         "textposition": "auto",
         "x": [
          "First Decile",
          "Second Decile",
          "Third Decile",
          "Fourth Decile",
          "Fifth Decile",
          "Sixth Decile",
          "Seventh Decile",
          "Eighth Decile",
          "Ninth Decile",
          "Tenth Decile"
         ],
         "xaxis": "x",
         "y": [
          77163.78,
          91809.85,
          103516.9,
          113145.22,
          125436.46,
          134488.1,
          148349.74,
          169983.54,
          187836.03,
          315898.85
         ],
         "yaxis": "y",
         "type": "bar"
        }
       ],
       "layout": {
        "template": {
         "data": {
          "bar": [
           {
            "error_x": {
             "color": "#2a3f5f"
            },
            "error_y": {
             "color": "#2a3f5f"
            },
            "marker": {
             "line": {
              "color": "#E5ECF6",
              "width": 0.5
             },
             "pattern": {
              "fillmode": "overlay",
              "size": 10,
              "solidity": 0.2
             }
            },
            "type": "bar"
           }
          ],
          "barpolar": [
           {
            "marker": {
             "line": {
              "color": "#E5ECF6",
              "width": 0.5
             },
             "pattern": {
              "fillmode": "overlay",
              "size": 10,
              "solidity": 0.2
             }
            },
            "type": "barpolar"
           }
          ],
          "carpet": [
           {
            "aaxis": {
             "endlinecolor": "#2a3f5f",
             "gridcolor": "white",
             "linecolor": "white",
             "minorgridcolor": "white",
             "startlinecolor": "#2a3f5f"
            },
            "baxis": {
             "endlinecolor": "#2a3f5f",
             "gridcolor": "white",
             "linecolor": "white",
             "minorgridcolor": "white",
             "startlinecolor": "#2a3f5f"
            },
            "type": "carpet"
           }
          ],
          "choropleth": [
           {
            "colorbar": {
             "outlinewidth": 0,
             "ticks": ""
            },
            "type": "choropleth"
           }
          ],
          "contour": [
           {
            "colorbar": {
             "outlinewidth": 0,
             "ticks": ""
            },
            "colorscale": [
             [
              0.0,
              "#0d0887"
             ],
             [
              0.1111111111111111,
              "#46039f"
             ],
             [
              0.2222222222222222,
              "#7201a8"
             ],
             [
              0.3333333333333333,
              "#9c179e"
             ],
             [
              0.4444444444444444,
              "#bd3786"
             ],
             [
              0.5555555555555556,
              "#d8576b"
             ],
             [
              0.6666666666666666,
              "#ed7953"
             ],
             [
              0.7777777777777778,
              "#fb9f3a"
             ],
             [
              0.8888888888888888,
              "#fdca26"
             ],
             [
              1.0,
              "#f0f921"
             ]
            ],
            "type": "contour"
           }
          ],
          "contourcarpet": [
           {
            "colorbar": {
             "outlinewidth": 0,
             "ticks": ""
            },
            "type": "contourcarpet"
           }
          ],
          "heatmap": [
           {
            "colorbar": {
             "outlinewidth": 0,
             "ticks": ""
            },
            "colorscale": [
             [
              0.0,
              "#0d0887"
             ],
             [
              0.1111111111111111,
              "#46039f"
             ],
             [
              0.2222222222222222,
              "#7201a8"
             ],
             [
              0.3333333333333333,
              "#9c179e"
             ],
             [
              0.4444444444444444,
              "#bd3786"
             ],
             [
              0.5555555555555556,
              "#d8576b"
             ],
             [
              0.6666666666666666,
              "#ed7953"
             ],
             [
              0.7777777777777778,
              "#fb9f3a"
             ],
             [
              0.8888888888888888,
              "#fdca26"
             ],
             [
              1.0,
              "#f0f921"
             ]
            ],
            "type": "heatmap"
           }
          ],
          "heatmapgl": [
           {
            "colorbar": {
             "outlinewidth": 0,
             "ticks": ""
            },
            "colorscale": [
             [
              0.0,
              "#0d0887"
             ],
             [
              0.1111111111111111,
              "#46039f"
             ],
             [
              0.2222222222222222,
              "#7201a8"
             ],
             [
              0.3333333333333333,
              "#9c179e"
             ],
             [
              0.4444444444444444,
              "#bd3786"
             ],
             [
              0.5555555555555556,
              "#d8576b"
             ],
             [
              0.6666666666666666,
              "#ed7953"
             ],
             [
              0.7777777777777778,
              "#fb9f3a"
             ],
             [
              0.8888888888888888,
              "#fdca26"
             ],
             [
              1.0,
              "#f0f921"
             ]
            ],
            "type": "heatmapgl"
           }
          ],
          "histogram": [
           {
            "marker": {
             "pattern": {
              "fillmode": "overlay",
              "size": 10,
              "solidity": 0.2
             }
            },
            "type": "histogram"
           }
          ],
          "histogram2d": [
           {
            "colorbar": {
             "outlinewidth": 0,
             "ticks": ""
            },
            "colorscale": [
             [
              0.0,
              "#0d0887"
             ],
             [
              0.1111111111111111,
              "#46039f"
             ],
             [
              0.2222222222222222,
              "#7201a8"
             ],
             [
              0.3333333333333333,
              "#9c179e"
             ],
             [
              0.4444444444444444,
              "#bd3786"
             ],
             [
              0.5555555555555556,
              "#d8576b"
             ],
             [
              0.6666666666666666,
              "#ed7953"
             ],
             [
              0.7777777777777778,
              "#fb9f3a"
             ],
             [
              0.8888888888888888,
              "#fdca26"
             ],
             [
              1.0,
              "#f0f921"
             ]
            ],
            "type": "histogram2d"
           }
          ],
          "histogram2dcontour": [
           {
            "colorbar": {
             "outlinewidth": 0,
             "ticks": ""
            },
            "colorscale": [
             [
              0.0,
              "#0d0887"
             ],
             [
              0.1111111111111111,
              "#46039f"
             ],
             [
              0.2222222222222222,
              "#7201a8"
             ],
             [
              0.3333333333333333,
              "#9c179e"
             ],
             [
              0.4444444444444444,
              "#bd3786"
             ],
             [
              0.5555555555555556,
              "#d8576b"
             ],
             [
              0.6666666666666666,
              "#ed7953"
             ],
             [
              0.7777777777777778,
              "#fb9f3a"
             ],
             [
              0.8888888888888888,
              "#fdca26"
             ],
             [
              1.0,
              "#f0f921"
             ]
            ],
            "type": "histogram2dcontour"
           }
          ],
          "mesh3d": [
           {
            "colorbar": {
             "outlinewidth": 0,
             "ticks": ""
            },
            "type": "mesh3d"
           }
          ],
          "parcoords": [
           {
            "line": {
             "colorbar": {
              "outlinewidth": 0,
              "ticks": ""
             }
            },
            "type": "parcoords"
           }
          ],
          "pie": [
           {
            "automargin": true,
            "type": "pie"
           }
          ],
          "scatter": [
           {
            "marker": {
             "colorbar": {
              "outlinewidth": 0,
              "ticks": ""
             }
            },
            "type": "scatter"
           }
          ],
          "scatter3d": [
           {
            "line": {
             "colorbar": {
              "outlinewidth": 0,
              "ticks": ""
             }
            },
            "marker": {
             "colorbar": {
              "outlinewidth": 0,
              "ticks": ""
             }
            },
            "type": "scatter3d"
           }
          ],
          "scattercarpet": [
           {
            "marker": {
             "colorbar": {
              "outlinewidth": 0,
              "ticks": ""
             }
            },
            "type": "scattercarpet"
           }
          ],
          "scattergeo": [
           {
            "marker": {
             "colorbar": {
              "outlinewidth": 0,
              "ticks": ""
             }
            },
            "type": "scattergeo"
           }
          ],
          "scattergl": [
           {
            "marker": {
             "colorbar": {
              "outlinewidth": 0,
              "ticks": ""
             }
            },
            "type": "scattergl"
           }
          ],
          "scattermapbox": [
           {
            "marker": {
             "colorbar": {
              "outlinewidth": 0,
              "ticks": ""
             }
            },
            "type": "scattermapbox"
           }
          ],
          "scatterpolar": [
           {
            "marker": {
             "colorbar": {
              "outlinewidth": 0,
              "ticks": ""
             }
            },
            "type": "scatterpolar"
           }
          ],
          "scatterpolargl": [
           {
            "marker": {
             "colorbar": {
              "outlinewidth": 0,
              "ticks": ""
             }
            },
            "type": "scatterpolargl"
           }
          ],
          "scatterternary": [
           {
            "marker": {
             "colorbar": {
              "outlinewidth": 0,
              "ticks": ""
             }
            },
            "type": "scatterternary"
           }
          ],
          "surface": [
           {
            "colorbar": {
             "outlinewidth": 0,
             "ticks": ""
            },
            "colorscale": [
             [
              0.0,
              "#0d0887"
             ],
             [
              0.1111111111111111,
              "#46039f"
             ],
             [
              0.2222222222222222,
              "#7201a8"
             ],
             [
              0.3333333333333333,
              "#9c179e"
             ],
             [
              0.4444444444444444,
              "#bd3786"
             ],
             [
              0.5555555555555556,
              "#d8576b"
             ],
             [
              0.6666666666666666,
              "#ed7953"
             ],
             [
              0.7777777777777778,
              "#fb9f3a"
             ],
             [
              0.8888888888888888,
              "#fdca26"
             ],
             [
              1.0,
              "#f0f921"
             ]
            ],
            "type": "surface"
           }
          ],
          "table": [
           {
            "cells": {
             "fill": {
              "color": "#EBF0F8"
             },
             "line": {
              "color": "white"
             }
            },
            "header": {
             "fill": {
              "color": "#C8D4E3"
             },
             "line": {
              "color": "white"
             }
            },
            "type": "table"
           }
          ]
         },
         "layout": {
          "annotationdefaults": {
           "arrowcolor": "#2a3f5f",
           "arrowhead": 0,
           "arrowwidth": 1
          },
          "autotypenumbers": "strict",
          "coloraxis": {
           "colorbar": {
            "outlinewidth": 0,
            "ticks": ""
           }
          },
          "colorscale": {
           "diverging": [
            [
             0,
             "#8e0152"
            ],
            [
             0.1,
             "#c51b7d"
            ],
            [
             0.2,
             "#de77ae"
            ],
            [
             0.3,
             "#f1b6da"
            ],
            [
             0.4,
             "#fde0ef"
            ],
            [
             0.5,
             "#f7f7f7"
            ],
            [
             0.6,
             "#e6f5d0"
            ],
            [
             0.7,
             "#b8e186"
            ],
            [
             0.8,
             "#7fbc41"
            ],
            [
             0.9,
             "#4d9221"
            ],
            [
             1,
             "#276419"
            ]
           ],
           "sequential": [
            [
             0.0,
             "#0d0887"
            ],
            [
             0.1111111111111111,
             "#46039f"
            ],
            [
             0.2222222222222222,
             "#7201a8"
            ],
            [
             0.3333333333333333,
             "#9c179e"
            ],
            [
             0.4444444444444444,
             "#bd3786"
            ],
            [
             0.5555555555555556,
             "#d8576b"
            ],
            [
             0.6666666666666666,
             "#ed7953"
            ],
            [
             0.7777777777777778,
             "#fb9f3a"
            ],
            [
             0.8888888888888888,
             "#fdca26"
            ],
            [
             1.0,
             "#f0f921"
            ]
           ],
           "sequentialminus": [
            [
             0.0,
             "#0d0887"
            ],
            [
             0.1111111111111111,
             "#46039f"
            ],
            [
             0.2222222222222222,
             "#7201a8"
            ],
            [
             0.3333333333333333,
             "#9c179e"
            ],
            [
             0.4444444444444444,
             "#bd3786"
            ],
            [
             0.5555555555555556,
             "#d8576b"
            ],
            [
             0.6666666666666666,
             "#ed7953"
            ],
            [
             0.7777777777777778,
             "#fb9f3a"
            ],
            [
             0.8888888888888888,
             "#fdca26"
            ],
            [
             1.0,
             "#f0f921"
            ]
           ]
          },
          "colorway": [
           "#636efa",
           "#EF553B",
           "#00cc96",
           "#ab63fa",
           "#FFA15A",
           "#19d3f3",
           "#FF6692",
           "#B6E880",
           "#FF97FF",
           "#FECB52"
          ],
          "font": {
           "color": "#2a3f5f"
          },
          "geo": {
           "bgcolor": "white",
           "lakecolor": "white",
           "landcolor": "#E5ECF6",
           "showlakes": true,
           "showland": true,
           "subunitcolor": "white"
          },
          "hoverlabel": {
           "align": "left"
          },
          "hovermode": "closest",
          "mapbox": {
           "style": "light"
          },
          "paper_bgcolor": "white",
          "plot_bgcolor": "#E5ECF6",
          "polar": {
           "angularaxis": {
            "gridcolor": "white",
            "linecolor": "white",
            "ticks": ""
           },
           "bgcolor": "#E5ECF6",
           "radialaxis": {
            "gridcolor": "white",
            "linecolor": "white",
            "ticks": ""
           }
          },
          "scene": {
           "xaxis": {
            "backgroundcolor": "#E5ECF6",
            "gridcolor": "white",
            "gridwidth": 2,
            "linecolor": "white",
            "showbackground": true,
            "ticks": "",
            "zerolinecolor": "white"
           },
           "yaxis": {
            "backgroundcolor": "#E5ECF6",
            "gridcolor": "white",
            "gridwidth": 2,
            "linecolor": "white",
            "showbackground": true,
            "ticks": "",
            "zerolinecolor": "white"
           },
           "zaxis": {
            "backgroundcolor": "#E5ECF6",
            "gridcolor": "white",
            "gridwidth": 2,
            "linecolor": "white",
            "showbackground": true,
            "ticks": "",
            "zerolinecolor": "white"
           }
          },
          "shapedefaults": {
           "line": {
            "color": "#2a3f5f"
           }
          },
          "ternary": {
           "aaxis": {
            "gridcolor": "white",
            "linecolor": "white",
            "ticks": ""
           },
           "baxis": {
            "gridcolor": "white",
            "linecolor": "white",
            "ticks": ""
           },
           "bgcolor": "#E5ECF6",
           "caxis": {
            "gridcolor": "white",
            "linecolor": "white",
            "ticks": ""
           }
          },
          "title": {
           "x": 0.05
          },
          "xaxis": {
           "automargin": true,
           "gridcolor": "white",
           "linecolor": "white",
           "ticks": "",
           "title": {
            "standoff": 15
           },
           "zerolinecolor": "white",
           "zerolinewidth": 2
          },
          "yaxis": {
           "automargin": true,
           "gridcolor": "white",
           "linecolor": "white",
           "ticks": "",
           "title": {
            "standoff": 15
           },
           "zerolinecolor": "white",
           "zerolinewidth": 2
          }
         }
        },
        "xaxis": {
         "anchor": "y",
         "domain": [
          0.0,
          1.0
         ],
         "title": {
          "text": "Decile"
         }
        },
        "yaxis": {
         "anchor": "x",
         "domain": [
          0.0,
          1.0
         ],
         "title": {
          "text": "Total Income"
         }
        },
        "legend": {
         "tracegroupgap": 0
        },
        "title": {
         "text": "Total Income by Decile for NCR"
        },
        "barmode": "relative"
       },
       "config": {
        "plotlyServerURL": "https://plot.ly"
       }
      },
      "text/html": "<div>                            <div id=\"1c04414e-d405-4f72-9cdc-015c5bb017df\" class=\"plotly-graph-div\" style=\"height:525px; width:100%;\"></div>            <script type=\"text/javascript\">                require([\"plotly\"], function(Plotly) {                    window.PLOTLYENV=window.PLOTLYENV || {};                                    if (document.getElementById(\"1c04414e-d405-4f72-9cdc-015c5bb017df\")) {                    Plotly.newPlot(                        \"1c04414e-d405-4f72-9cdc-015c5bb017df\",                        [{\"alignmentgroup\":\"True\",\"hovertemplate\":\"Decile=%{x}<br>Total Income=%{text}<extra></extra>\",\"legendgroup\":\"\",\"marker\":{\"color\":\"#fcb97d\",\"pattern\":{\"shape\":\"\"}},\"name\":\"\",\"offsetgroup\":\"\",\"orientation\":\"v\",\"showlegend\":false,\"text\":[77163.78,91809.85,103516.9,113145.22,125436.46,134488.1,148349.74,169983.54,187836.03,315898.85],\"textposition\":\"auto\",\"x\":[\"First Decile\",\"Second Decile\",\"Third Decile\",\"Fourth Decile\",\"Fifth Decile\",\"Sixth Decile\",\"Seventh Decile\",\"Eighth Decile\",\"Ninth Decile\",\"Tenth Decile\"],\"xaxis\":\"x\",\"y\":[77163.78,91809.85,103516.9,113145.22,125436.46,134488.1,148349.74,169983.54,187836.03,315898.85],\"yaxis\":\"y\",\"type\":\"bar\"}],                        {\"template\":{\"data\":{\"bar\":[{\"error_x\":{\"color\":\"#2a3f5f\"},\"error_y\":{\"color\":\"#2a3f5f\"},\"marker\":{\"line\":{\"color\":\"#E5ECF6\",\"width\":0.5},\"pattern\":{\"fillmode\":\"overlay\",\"size\":10,\"solidity\":0.2}},\"type\":\"bar\"}],\"barpolar\":[{\"marker\":{\"line\":{\"color\":\"#E5ECF6\",\"width\":0.5},\"pattern\":{\"fillmode\":\"overlay\",\"size\":10,\"solidity\":0.2}},\"type\":\"barpolar\"}],\"carpet\":[{\"aaxis\":{\"endlinecolor\":\"#2a3f5f\",\"gridcolor\":\"white\",\"linecolor\":\"white\",\"minorgridcolor\":\"white\",\"startlinecolor\":\"#2a3f5f\"},\"baxis\":{\"endlinecolor\":\"#2a3f5f\",\"gridcolor\":\"white\",\"linecolor\":\"white\",\"minorgridcolor\":\"white\",\"startlinecolor\":\"#2a3f5f\"},\"type\":\"carpet\"}],\"choropleth\":[{\"colorbar\":{\"outlinewidth\":0,\"ticks\":\"\"},\"type\":\"choropleth\"}],\"contour\":[{\"colorbar\":{\"outlinewidth\":0,\"ticks\":\"\"},\"colorscale\":[[0.0,\"#0d0887\"],[0.1111111111111111,\"#46039f\"],[0.2222222222222222,\"#7201a8\"],[0.3333333333333333,\"#9c179e\"],[0.4444444444444444,\"#bd3786\"],[0.5555555555555556,\"#d8576b\"],[0.6666666666666666,\"#ed7953\"],[0.7777777777777778,\"#fb9f3a\"],[0.8888888888888888,\"#fdca26\"],[1.0,\"#f0f921\"]],\"type\":\"contour\"}],\"contourcarpet\":[{\"colorbar\":{\"outlinewidth\":0,\"ticks\":\"\"},\"type\":\"contourcarpet\"}],\"heatmap\":[{\"colorbar\":{\"outlinewidth\":0,\"ticks\":\"\"},\"colorscale\":[[0.0,\"#0d0887\"],[0.1111111111111111,\"#46039f\"],[0.2222222222222222,\"#7201a8\"],[0.3333333333333333,\"#9c179e\"],[0.4444444444444444,\"#bd3786\"],[0.5555555555555556,\"#d8576b\"],[0.6666666666666666,\"#ed7953\"],[0.7777777777777778,\"#fb9f3a\"],[0.8888888888888888,\"#fdca26\"],[1.0,\"#f0f921\"]],\"type\":\"heatmap\"}],\"heatmapgl\":[{\"colorbar\":{\"outlinewidth\":0,\"ticks\":\"\"},\"colorscale\":[[0.0,\"#0d0887\"],[0.1111111111111111,\"#46039f\"],[0.2222222222222222,\"#7201a8\"],[0.3333333333333333,\"#9c179e\"],[0.4444444444444444,\"#bd3786\"],[0.5555555555555556,\"#d8576b\"],[0.6666666666666666,\"#ed7953\"],[0.7777777777777778,\"#fb9f3a\"],[0.8888888888888888,\"#fdca26\"],[1.0,\"#f0f921\"]],\"type\":\"heatmapgl\"}],\"histogram\":[{\"marker\":{\"pattern\":{\"fillmode\":\"overlay\",\"size\":10,\"solidity\":0.2}},\"type\":\"histogram\"}],\"histogram2d\":[{\"colorbar\":{\"outlinewidth\":0,\"ticks\":\"\"},\"colorscale\":[[0.0,\"#0d0887\"],[0.1111111111111111,\"#46039f\"],[0.2222222222222222,\"#7201a8\"],[0.3333333333333333,\"#9c179e\"],[0.4444444444444444,\"#bd3786\"],[0.5555555555555556,\"#d8576b\"],[0.6666666666666666,\"#ed7953\"],[0.7777777777777778,\"#fb9f3a\"],[0.8888888888888888,\"#fdca26\"],[1.0,\"#f0f921\"]],\"type\":\"histogram2d\"}],\"histogram2dcontour\":[{\"colorbar\":{\"outlinewidth\":0,\"ticks\":\"\"},\"colorscale\":[[0.0,\"#0d0887\"],[0.1111111111111111,\"#46039f\"],[0.2222222222222222,\"#7201a8\"],[0.3333333333333333,\"#9c179e\"],[0.4444444444444444,\"#bd3786\"],[0.5555555555555556,\"#d8576b\"],[0.6666666666666666,\"#ed7953\"],[0.7777777777777778,\"#fb9f3a\"],[0.8888888888888888,\"#fdca26\"],[1.0,\"#f0f921\"]],\"type\":\"histogram2dcontour\"}],\"mesh3d\":[{\"colorbar\":{\"outlinewidth\":0,\"ticks\":\"\"},\"type\":\"mesh3d\"}],\"parcoords\":[{\"line\":{\"colorbar\":{\"outlinewidth\":0,\"ticks\":\"\"}},\"type\":\"parcoords\"}],\"pie\":[{\"automargin\":true,\"type\":\"pie\"}],\"scatter\":[{\"marker\":{\"colorbar\":{\"outlinewidth\":0,\"ticks\":\"\"}},\"type\":\"scatter\"}],\"scatter3d\":[{\"line\":{\"colorbar\":{\"outlinewidth\":0,\"ticks\":\"\"}},\"marker\":{\"colorbar\":{\"outlinewidth\":0,\"ticks\":\"\"}},\"type\":\"scatter3d\"}],\"scattercarpet\":[{\"marker\":{\"colorbar\":{\"outlinewidth\":0,\"ticks\":\"\"}},\"type\":\"scattercarpet\"}],\"scattergeo\":[{\"marker\":{\"colorbar\":{\"outlinewidth\":0,\"ticks\":\"\"}},\"type\":\"scattergeo\"}],\"scattergl\":[{\"marker\":{\"colorbar\":{\"outlinewidth\":0,\"ticks\":\"\"}},\"type\":\"scattergl\"}],\"scattermapbox\":[{\"marker\":{\"colorbar\":{\"outlinewidth\":0,\"ticks\":\"\"}},\"type\":\"scattermapbox\"}],\"scatterpolar\":[{\"marker\":{\"colorbar\":{\"outlinewidth\":0,\"ticks\":\"\"}},\"type\":\"scatterpolar\"}],\"scatterpolargl\":[{\"marker\":{\"colorbar\":{\"outlinewidth\":0,\"ticks\":\"\"}},\"type\":\"scatterpolargl\"}],\"scatterternary\":[{\"marker\":{\"colorbar\":{\"outlinewidth\":0,\"ticks\":\"\"}},\"type\":\"scatterternary\"}],\"surface\":[{\"colorbar\":{\"outlinewidth\":0,\"ticks\":\"\"},\"colorscale\":[[0.0,\"#0d0887\"],[0.1111111111111111,\"#46039f\"],[0.2222222222222222,\"#7201a8\"],[0.3333333333333333,\"#9c179e\"],[0.4444444444444444,\"#bd3786\"],[0.5555555555555556,\"#d8576b\"],[0.6666666666666666,\"#ed7953\"],[0.7777777777777778,\"#fb9f3a\"],[0.8888888888888888,\"#fdca26\"],[1.0,\"#f0f921\"]],\"type\":\"surface\"}],\"table\":[{\"cells\":{\"fill\":{\"color\":\"#EBF0F8\"},\"line\":{\"color\":\"white\"}},\"header\":{\"fill\":{\"color\":\"#C8D4E3\"},\"line\":{\"color\":\"white\"}},\"type\":\"table\"}]},\"layout\":{\"annotationdefaults\":{\"arrowcolor\":\"#2a3f5f\",\"arrowhead\":0,\"arrowwidth\":1},\"autotypenumbers\":\"strict\",\"coloraxis\":{\"colorbar\":{\"outlinewidth\":0,\"ticks\":\"\"}},\"colorscale\":{\"diverging\":[[0,\"#8e0152\"],[0.1,\"#c51b7d\"],[0.2,\"#de77ae\"],[0.3,\"#f1b6da\"],[0.4,\"#fde0ef\"],[0.5,\"#f7f7f7\"],[0.6,\"#e6f5d0\"],[0.7,\"#b8e186\"],[0.8,\"#7fbc41\"],[0.9,\"#4d9221\"],[1,\"#276419\"]],\"sequential\":[[0.0,\"#0d0887\"],[0.1111111111111111,\"#46039f\"],[0.2222222222222222,\"#7201a8\"],[0.3333333333333333,\"#9c179e\"],[0.4444444444444444,\"#bd3786\"],[0.5555555555555556,\"#d8576b\"],[0.6666666666666666,\"#ed7953\"],[0.7777777777777778,\"#fb9f3a\"],[0.8888888888888888,\"#fdca26\"],[1.0,\"#f0f921\"]],\"sequentialminus\":[[0.0,\"#0d0887\"],[0.1111111111111111,\"#46039f\"],[0.2222222222222222,\"#7201a8\"],[0.3333333333333333,\"#9c179e\"],[0.4444444444444444,\"#bd3786\"],[0.5555555555555556,\"#d8576b\"],[0.6666666666666666,\"#ed7953\"],[0.7777777777777778,\"#fb9f3a\"],[0.8888888888888888,\"#fdca26\"],[1.0,\"#f0f921\"]]},\"colorway\":[\"#636efa\",\"#EF553B\",\"#00cc96\",\"#ab63fa\",\"#FFA15A\",\"#19d3f3\",\"#FF6692\",\"#B6E880\",\"#FF97FF\",\"#FECB52\"],\"font\":{\"color\":\"#2a3f5f\"},\"geo\":{\"bgcolor\":\"white\",\"lakecolor\":\"white\",\"landcolor\":\"#E5ECF6\",\"showlakes\":true,\"showland\":true,\"subunitcolor\":\"white\"},\"hoverlabel\":{\"align\":\"left\"},\"hovermode\":\"closest\",\"mapbox\":{\"style\":\"light\"},\"paper_bgcolor\":\"white\",\"plot_bgcolor\":\"#E5ECF6\",\"polar\":{\"angularaxis\":{\"gridcolor\":\"white\",\"linecolor\":\"white\",\"ticks\":\"\"},\"bgcolor\":\"#E5ECF6\",\"radialaxis\":{\"gridcolor\":\"white\",\"linecolor\":\"white\",\"ticks\":\"\"}},\"scene\":{\"xaxis\":{\"backgroundcolor\":\"#E5ECF6\",\"gridcolor\":\"white\",\"gridwidth\":2,\"linecolor\":\"white\",\"showbackground\":true,\"ticks\":\"\",\"zerolinecolor\":\"white\"},\"yaxis\":{\"backgroundcolor\":\"#E5ECF6\",\"gridcolor\":\"white\",\"gridwidth\":2,\"linecolor\":\"white\",\"showbackground\":true,\"ticks\":\"\",\"zerolinecolor\":\"white\"},\"zaxis\":{\"backgroundcolor\":\"#E5ECF6\",\"gridcolor\":\"white\",\"gridwidth\":2,\"linecolor\":\"white\",\"showbackground\":true,\"ticks\":\"\",\"zerolinecolor\":\"white\"}},\"shapedefaults\":{\"line\":{\"color\":\"#2a3f5f\"}},\"ternary\":{\"aaxis\":{\"gridcolor\":\"white\",\"linecolor\":\"white\",\"ticks\":\"\"},\"baxis\":{\"gridcolor\":\"white\",\"linecolor\":\"white\",\"ticks\":\"\"},\"bgcolor\":\"#E5ECF6\",\"caxis\":{\"gridcolor\":\"white\",\"linecolor\":\"white\",\"ticks\":\"\"}},\"title\":{\"x\":0.05},\"xaxis\":{\"automargin\":true,\"gridcolor\":\"white\",\"linecolor\":\"white\",\"ticks\":\"\",\"title\":{\"standoff\":15},\"zerolinecolor\":\"white\",\"zerolinewidth\":2},\"yaxis\":{\"automargin\":true,\"gridcolor\":\"white\",\"linecolor\":\"white\",\"ticks\":\"\",\"title\":{\"standoff\":15},\"zerolinecolor\":\"white\",\"zerolinewidth\":2}}},\"xaxis\":{\"anchor\":\"y\",\"domain\":[0.0,1.0],\"title\":{\"text\":\"Decile\"}},\"yaxis\":{\"anchor\":\"x\",\"domain\":[0.0,1.0],\"title\":{\"text\":\"Total Income\"}},\"legend\":{\"tracegroupgap\":0},\"title\":{\"text\":\"Total Income by Decile for NCR\"},\"barmode\":\"relative\"},                        {\"responsive\": true}                    ).then(function(){\n                            \nvar gd = document.getElementById('1c04414e-d405-4f72-9cdc-015c5bb017df');\nvar x = new MutationObserver(function (mutations, observer) {{\n        var display = window.getComputedStyle(gd).display;\n        if (!display || display === 'none') {{\n            console.log([gd, 'removed!']);\n            Plotly.purge(gd);\n            observer.disconnect();\n        }}\n}});\n\n// Listen for the removal of the full notebook cells\nvar notebookContainer = gd.closest('#notebook-container');\nif (notebookContainer) {{\n    x.observe(notebookContainer, {childList: true});\n}}\n\n// Listen for the clearing of the current output cell\nvar outputEl = gd.closest('.output');\nif (outputEl) {{\n    x.observe(outputEl, {childList: true});\n}}\n\n                        })                };                });            </script>        </div>"
     },
     "metadata": {},
     "output_type": "display_data"
    }
   ],
   "source": [
    "viz2b_TotalIncome(df2,'NCR')"
   ],
   "metadata": {
    "collapsed": false
   }
  },
  {
   "cell_type": "code",
   "execution_count": 67,
   "outputs": [],
   "source": [
    "def viz2b_CumulativeIncome(df_cumulative_income,Region):\n",
    "  filtered_df_cumulative = df_cumulative_income[df_cumulative_income['Region'] == Region]\n",
    "\n",
    "  if Region in ['REGION I - ILOCOS REGION',\n",
    "                'REGION II - CAGAYAN VALLEY',\n",
    "                'REGION III - CENTRAL LUZON',\n",
    "                'REGION IVA - CALABARZON',\n",
    "                'REGION V - BICOL REGION',\n",
    "                'NCR', 'CAR', 'MIMAROPA']:\n",
    "                color = '#fcb97d'\n",
    "  elif Region in ['REGION VI - WESTERN VISAYAS',\n",
    "                  'REGION VII - CENTRAL VISAYAS',\n",
    "                  'REGION VIII - EASTERN VISAYAS']:\n",
    "                  color = '#a0b9c6'\n",
    "  else:\n",
    "      color = '#9a98b5'\n",
    "\n",
    "  # Create a bar chart trace\n",
    "  bar_trace = go.Bar(\n",
    "      x=filtered_df_cumulative['Cumulative Population'],\n",
    "      y=filtered_df_cumulative['Cumulative Income'],\n",
    "      text=['{:.2f}%'.format(v) for v in filtered_df_cumulative['Cumulative Income']],\n",
    "      name='Cumulative Income',\n",
    "      hovertemplate='Cumulative Population: %{x:.2f}%<br>Cumulative Income: %{y:.2f}%<extra></extra>', # Custom hover template\n",
    "      textposition='outside',\n",
    "      textfont={\n",
    "          'size': 14\n",
    "      },\n",
    "      insidetextanchor='start',\n",
    "      marker = {'color':color}\n",
    "  )\n",
    "\n",
    "  text_trace = go.Scatter(\n",
    "      x=[20], # x-coordinate of the text label\n",
    "      y=[80], # y-coordinate of the text label\n",
    "      text=['Gini Coefficient: {:.4f}'.format(df_Gini_Coefficient[df_Gini_Coefficient['Region'] == Region]['Gini Coefficient'].iloc[0])], # Text to display\n",
    "      mode='text',\n",
    "      textfont={\n",
    "          'size': 18,\n",
    "          'color': 'black'\n",
    "      }\n",
    "  )\n",
    "\n",
    "  # Create a layout for the chart\n",
    "  layout = go.Layout(\n",
    "      title=f\"Lorenz Curve for {Region}\",\n",
    "      xaxis_title ='Cumulative Population',\n",
    "      yaxis_title ='Cumulative Income',\n",
    "      showlegend=False\n",
    "  )\n",
    "\n",
    "  # Create a Figure object and add the traces to it\n",
    "  fig = go.Figure(data=[bar_trace,text_trace], layout=layout)\n",
    "\n",
    "  # Show the chart\n",
    "  return fig.show()"
   ],
   "metadata": {
    "collapsed": false
   }
  },
  {
   "cell_type": "code",
   "execution_count": 16,
   "outputs": [
    {
     "data": {
      "application/vnd.plotly.v1+json": {
       "data": [
        {
         "hovertemplate": "Cumulative Population: %{x:.2f}%<br>Cumulative Income: %{y:.2f}%<extra></extra>",
         "insidetextanchor": "start",
         "marker": {
          "color": "#fcb97d"
         },
         "name": "Cumulative Income",
         "text": [
          "5.26%",
          "11.51%",
          "18.57%",
          "26.28%",
          "34.82%",
          "43.99%",
          "54.09%",
          "65.68%",
          "78.48%",
          "100.00%"
         ],
         "textfont": {
          "size": 14
         },
         "textposition": "outside",
         "x": [
          10,
          20,
          30,
          40,
          50,
          60,
          70,
          80,
          90,
          100
         ],
         "y": [
          5.257718937545548,
          11.51337913198154,
          18.566724179178667,
          26.27611537135144,
          34.82299644950332,
          43.98663034930086,
          54.09475669274798,
          65.6769481992946,
          78.4755572369075,
          99.99999999999996
         ],
         "type": "bar"
        },
        {
         "mode": "text",
         "text": [
          "Gini Coefficient: 0.5646"
         ],
         "textfont": {
          "color": "black",
          "size": 18
         },
         "x": [
          20
         ],
         "y": [
          80
         ],
         "type": "scatter"
        }
       ],
       "layout": {
        "showlegend": false,
        "title": {
         "text": "Lorenz Curve for NCR"
        },
        "xaxis": {
         "title": {
          "text": "Cumulative Population"
         }
        },
        "yaxis": {
         "title": {
          "text": "Cumulative Income"
         }
        },
        "template": {
         "data": {
          "bar": [
           {
            "error_x": {
             "color": "#2a3f5f"
            },
            "error_y": {
             "color": "#2a3f5f"
            },
            "marker": {
             "line": {
              "color": "#E5ECF6",
              "width": 0.5
             },
             "pattern": {
              "fillmode": "overlay",
              "size": 10,
              "solidity": 0.2
             }
            },
            "type": "bar"
           }
          ],
          "barpolar": [
           {
            "marker": {
             "line": {
              "color": "#E5ECF6",
              "width": 0.5
             },
             "pattern": {
              "fillmode": "overlay",
              "size": 10,
              "solidity": 0.2
             }
            },
            "type": "barpolar"
           }
          ],
          "carpet": [
           {
            "aaxis": {
             "endlinecolor": "#2a3f5f",
             "gridcolor": "white",
             "linecolor": "white",
             "minorgridcolor": "white",
             "startlinecolor": "#2a3f5f"
            },
            "baxis": {
             "endlinecolor": "#2a3f5f",
             "gridcolor": "white",
             "linecolor": "white",
             "minorgridcolor": "white",
             "startlinecolor": "#2a3f5f"
            },
            "type": "carpet"
           }
          ],
          "choropleth": [
           {
            "colorbar": {
             "outlinewidth": 0,
             "ticks": ""
            },
            "type": "choropleth"
           }
          ],
          "contour": [
           {
            "colorbar": {
             "outlinewidth": 0,
             "ticks": ""
            },
            "colorscale": [
             [
              0.0,
              "#0d0887"
             ],
             [
              0.1111111111111111,
              "#46039f"
             ],
             [
              0.2222222222222222,
              "#7201a8"
             ],
             [
              0.3333333333333333,
              "#9c179e"
             ],
             [
              0.4444444444444444,
              "#bd3786"
             ],
             [
              0.5555555555555556,
              "#d8576b"
             ],
             [
              0.6666666666666666,
              "#ed7953"
             ],
             [
              0.7777777777777778,
              "#fb9f3a"
             ],
             [
              0.8888888888888888,
              "#fdca26"
             ],
             [
              1.0,
              "#f0f921"
             ]
            ],
            "type": "contour"
           }
          ],
          "contourcarpet": [
           {
            "colorbar": {
             "outlinewidth": 0,
             "ticks": ""
            },
            "type": "contourcarpet"
           }
          ],
          "heatmap": [
           {
            "colorbar": {
             "outlinewidth": 0,
             "ticks": ""
            },
            "colorscale": [
             [
              0.0,
              "#0d0887"
             ],
             [
              0.1111111111111111,
              "#46039f"
             ],
             [
              0.2222222222222222,
              "#7201a8"
             ],
             [
              0.3333333333333333,
              "#9c179e"
             ],
             [
              0.4444444444444444,
              "#bd3786"
             ],
             [
              0.5555555555555556,
              "#d8576b"
             ],
             [
              0.6666666666666666,
              "#ed7953"
             ],
             [
              0.7777777777777778,
              "#fb9f3a"
             ],
             [
              0.8888888888888888,
              "#fdca26"
             ],
             [
              1.0,
              "#f0f921"
             ]
            ],
            "type": "heatmap"
           }
          ],
          "heatmapgl": [
           {
            "colorbar": {
             "outlinewidth": 0,
             "ticks": ""
            },
            "colorscale": [
             [
              0.0,
              "#0d0887"
             ],
             [
              0.1111111111111111,
              "#46039f"
             ],
             [
              0.2222222222222222,
              "#7201a8"
             ],
             [
              0.3333333333333333,
              "#9c179e"
             ],
             [
              0.4444444444444444,
              "#bd3786"
             ],
             [
              0.5555555555555556,
              "#d8576b"
             ],
             [
              0.6666666666666666,
              "#ed7953"
             ],
             [
              0.7777777777777778,
              "#fb9f3a"
             ],
             [
              0.8888888888888888,
              "#fdca26"
             ],
             [
              1.0,
              "#f0f921"
             ]
            ],
            "type": "heatmapgl"
           }
          ],
          "histogram": [
           {
            "marker": {
             "pattern": {
              "fillmode": "overlay",
              "size": 10,
              "solidity": 0.2
             }
            },
            "type": "histogram"
           }
          ],
          "histogram2d": [
           {
            "colorbar": {
             "outlinewidth": 0,
             "ticks": ""
            },
            "colorscale": [
             [
              0.0,
              "#0d0887"
             ],
             [
              0.1111111111111111,
              "#46039f"
             ],
             [
              0.2222222222222222,
              "#7201a8"
             ],
             [
              0.3333333333333333,
              "#9c179e"
             ],
             [
              0.4444444444444444,
              "#bd3786"
             ],
             [
              0.5555555555555556,
              "#d8576b"
             ],
             [
              0.6666666666666666,
              "#ed7953"
             ],
             [
              0.7777777777777778,
              "#fb9f3a"
             ],
             [
              0.8888888888888888,
              "#fdca26"
             ],
             [
              1.0,
              "#f0f921"
             ]
            ],
            "type": "histogram2d"
           }
          ],
          "histogram2dcontour": [
           {
            "colorbar": {
             "outlinewidth": 0,
             "ticks": ""
            },
            "colorscale": [
             [
              0.0,
              "#0d0887"
             ],
             [
              0.1111111111111111,
              "#46039f"
             ],
             [
              0.2222222222222222,
              "#7201a8"
             ],
             [
              0.3333333333333333,
              "#9c179e"
             ],
             [
              0.4444444444444444,
              "#bd3786"
             ],
             [
              0.5555555555555556,
              "#d8576b"
             ],
             [
              0.6666666666666666,
              "#ed7953"
             ],
             [
              0.7777777777777778,
              "#fb9f3a"
             ],
             [
              0.8888888888888888,
              "#fdca26"
             ],
             [
              1.0,
              "#f0f921"
             ]
            ],
            "type": "histogram2dcontour"
           }
          ],
          "mesh3d": [
           {
            "colorbar": {
             "outlinewidth": 0,
             "ticks": ""
            },
            "type": "mesh3d"
           }
          ],
          "parcoords": [
           {
            "line": {
             "colorbar": {
              "outlinewidth": 0,
              "ticks": ""
             }
            },
            "type": "parcoords"
           }
          ],
          "pie": [
           {
            "automargin": true,
            "type": "pie"
           }
          ],
          "scatter": [
           {
            "marker": {
             "colorbar": {
              "outlinewidth": 0,
              "ticks": ""
             }
            },
            "type": "scatter"
           }
          ],
          "scatter3d": [
           {
            "line": {
             "colorbar": {
              "outlinewidth": 0,
              "ticks": ""
             }
            },
            "marker": {
             "colorbar": {
              "outlinewidth": 0,
              "ticks": ""
             }
            },
            "type": "scatter3d"
           }
          ],
          "scattercarpet": [
           {
            "marker": {
             "colorbar": {
              "outlinewidth": 0,
              "ticks": ""
             }
            },
            "type": "scattercarpet"
           }
          ],
          "scattergeo": [
           {
            "marker": {
             "colorbar": {
              "outlinewidth": 0,
              "ticks": ""
             }
            },
            "type": "scattergeo"
           }
          ],
          "scattergl": [
           {
            "marker": {
             "colorbar": {
              "outlinewidth": 0,
              "ticks": ""
             }
            },
            "type": "scattergl"
           }
          ],
          "scattermapbox": [
           {
            "marker": {
             "colorbar": {
              "outlinewidth": 0,
              "ticks": ""
             }
            },
            "type": "scattermapbox"
           }
          ],
          "scatterpolar": [
           {
            "marker": {
             "colorbar": {
              "outlinewidth": 0,
              "ticks": ""
             }
            },
            "type": "scatterpolar"
           }
          ],
          "scatterpolargl": [
           {
            "marker": {
             "colorbar": {
              "outlinewidth": 0,
              "ticks": ""
             }
            },
            "type": "scatterpolargl"
           }
          ],
          "scatterternary": [
           {
            "marker": {
             "colorbar": {
              "outlinewidth": 0,
              "ticks": ""
             }
            },
            "type": "scatterternary"
           }
          ],
          "surface": [
           {
            "colorbar": {
             "outlinewidth": 0,
             "ticks": ""
            },
            "colorscale": [
             [
              0.0,
              "#0d0887"
             ],
             [
              0.1111111111111111,
              "#46039f"
             ],
             [
              0.2222222222222222,
              "#7201a8"
             ],
             [
              0.3333333333333333,
              "#9c179e"
             ],
             [
              0.4444444444444444,
              "#bd3786"
             ],
             [
              0.5555555555555556,
              "#d8576b"
             ],
             [
              0.6666666666666666,
              "#ed7953"
             ],
             [
              0.7777777777777778,
              "#fb9f3a"
             ],
             [
              0.8888888888888888,
              "#fdca26"
             ],
             [
              1.0,
              "#f0f921"
             ]
            ],
            "type": "surface"
           }
          ],
          "table": [
           {
            "cells": {
             "fill": {
              "color": "#EBF0F8"
             },
             "line": {
              "color": "white"
             }
            },
            "header": {
             "fill": {
              "color": "#C8D4E3"
             },
             "line": {
              "color": "white"
             }
            },
            "type": "table"
           }
          ]
         },
         "layout": {
          "annotationdefaults": {
           "arrowcolor": "#2a3f5f",
           "arrowhead": 0,
           "arrowwidth": 1
          },
          "autotypenumbers": "strict",
          "coloraxis": {
           "colorbar": {
            "outlinewidth": 0,
            "ticks": ""
           }
          },
          "colorscale": {
           "diverging": [
            [
             0,
             "#8e0152"
            ],
            [
             0.1,
             "#c51b7d"
            ],
            [
             0.2,
             "#de77ae"
            ],
            [
             0.3,
             "#f1b6da"
            ],
            [
             0.4,
             "#fde0ef"
            ],
            [
             0.5,
             "#f7f7f7"
            ],
            [
             0.6,
             "#e6f5d0"
            ],
            [
             0.7,
             "#b8e186"
            ],
            [
             0.8,
             "#7fbc41"
            ],
            [
             0.9,
             "#4d9221"
            ],
            [
             1,
             "#276419"
            ]
           ],
           "sequential": [
            [
             0.0,
             "#0d0887"
            ],
            [
             0.1111111111111111,
             "#46039f"
            ],
            [
             0.2222222222222222,
             "#7201a8"
            ],
            [
             0.3333333333333333,
             "#9c179e"
            ],
            [
             0.4444444444444444,
             "#bd3786"
            ],
            [
             0.5555555555555556,
             "#d8576b"
            ],
            [
             0.6666666666666666,
             "#ed7953"
            ],
            [
             0.7777777777777778,
             "#fb9f3a"
            ],
            [
             0.8888888888888888,
             "#fdca26"
            ],
            [
             1.0,
             "#f0f921"
            ]
           ],
           "sequentialminus": [
            [
             0.0,
             "#0d0887"
            ],
            [
             0.1111111111111111,
             "#46039f"
            ],
            [
             0.2222222222222222,
             "#7201a8"
            ],
            [
             0.3333333333333333,
             "#9c179e"
            ],
            [
             0.4444444444444444,
             "#bd3786"
            ],
            [
             0.5555555555555556,
             "#d8576b"
            ],
            [
             0.6666666666666666,
             "#ed7953"
            ],
            [
             0.7777777777777778,
             "#fb9f3a"
            ],
            [
             0.8888888888888888,
             "#fdca26"
            ],
            [
             1.0,
             "#f0f921"
            ]
           ]
          },
          "colorway": [
           "#636efa",
           "#EF553B",
           "#00cc96",
           "#ab63fa",
           "#FFA15A",
           "#19d3f3",
           "#FF6692",
           "#B6E880",
           "#FF97FF",
           "#FECB52"
          ],
          "font": {
           "color": "#2a3f5f"
          },
          "geo": {
           "bgcolor": "white",
           "lakecolor": "white",
           "landcolor": "#E5ECF6",
           "showlakes": true,
           "showland": true,
           "subunitcolor": "white"
          },
          "hoverlabel": {
           "align": "left"
          },
          "hovermode": "closest",
          "mapbox": {
           "style": "light"
          },
          "paper_bgcolor": "white",
          "plot_bgcolor": "#E5ECF6",
          "polar": {
           "angularaxis": {
            "gridcolor": "white",
            "linecolor": "white",
            "ticks": ""
           },
           "bgcolor": "#E5ECF6",
           "radialaxis": {
            "gridcolor": "white",
            "linecolor": "white",
            "ticks": ""
           }
          },
          "scene": {
           "xaxis": {
            "backgroundcolor": "#E5ECF6",
            "gridcolor": "white",
            "gridwidth": 2,
            "linecolor": "white",
            "showbackground": true,
            "ticks": "",
            "zerolinecolor": "white"
           },
           "yaxis": {
            "backgroundcolor": "#E5ECF6",
            "gridcolor": "white",
            "gridwidth": 2,
            "linecolor": "white",
            "showbackground": true,
            "ticks": "",
            "zerolinecolor": "white"
           },
           "zaxis": {
            "backgroundcolor": "#E5ECF6",
            "gridcolor": "white",
            "gridwidth": 2,
            "linecolor": "white",
            "showbackground": true,
            "ticks": "",
            "zerolinecolor": "white"
           }
          },
          "shapedefaults": {
           "line": {
            "color": "#2a3f5f"
           }
          },
          "ternary": {
           "aaxis": {
            "gridcolor": "white",
            "linecolor": "white",
            "ticks": ""
           },
           "baxis": {
            "gridcolor": "white",
            "linecolor": "white",
            "ticks": ""
           },
           "bgcolor": "#E5ECF6",
           "caxis": {
            "gridcolor": "white",
            "linecolor": "white",
            "ticks": ""
           }
          },
          "title": {
           "x": 0.05
          },
          "xaxis": {
           "automargin": true,
           "gridcolor": "white",
           "linecolor": "white",
           "ticks": "",
           "title": {
            "standoff": 15
           },
           "zerolinecolor": "white",
           "zerolinewidth": 2
          },
          "yaxis": {
           "automargin": true,
           "gridcolor": "white",
           "linecolor": "white",
           "ticks": "",
           "title": {
            "standoff": 15
           },
           "zerolinecolor": "white",
           "zerolinewidth": 2
          }
         }
        }
       },
       "config": {
        "plotlyServerURL": "https://plot.ly"
       }
      },
      "text/html": "<div>                            <div id=\"ad51902b-98a0-484f-be48-9a8edec319f9\" class=\"plotly-graph-div\" style=\"height:525px; width:100%;\"></div>            <script type=\"text/javascript\">                require([\"plotly\"], function(Plotly) {                    window.PLOTLYENV=window.PLOTLYENV || {};                                    if (document.getElementById(\"ad51902b-98a0-484f-be48-9a8edec319f9\")) {                    Plotly.newPlot(                        \"ad51902b-98a0-484f-be48-9a8edec319f9\",                        [{\"hovertemplate\":\"Cumulative Population: %{x:.2f}%<br>Cumulative Income: %{y:.2f}%<extra></extra>\",\"insidetextanchor\":\"start\",\"marker\":{\"color\":\"#fcb97d\"},\"name\":\"Cumulative Income\",\"text\":[\"5.26%\",\"11.51%\",\"18.57%\",\"26.28%\",\"34.82%\",\"43.99%\",\"54.09%\",\"65.68%\",\"78.48%\",\"100.00%\"],\"textfont\":{\"size\":14},\"textposition\":\"outside\",\"x\":[10,20,30,40,50,60,70,80,90,100],\"y\":[5.257718937545548,11.51337913198154,18.566724179178667,26.27611537135144,34.82299644950332,43.98663034930086,54.09475669274798,65.6769481992946,78.4755572369075,99.99999999999996],\"type\":\"bar\"},{\"mode\":\"text\",\"text\":[\"Gini Coefficient: 0.5646\"],\"textfont\":{\"color\":\"black\",\"size\":18},\"x\":[20],\"y\":[80],\"type\":\"scatter\"}],                        {\"showlegend\":false,\"title\":{\"text\":\"Lorenz Curve for NCR\"},\"xaxis\":{\"title\":{\"text\":\"Cumulative Population\"}},\"yaxis\":{\"title\":{\"text\":\"Cumulative Income\"}},\"template\":{\"data\":{\"bar\":[{\"error_x\":{\"color\":\"#2a3f5f\"},\"error_y\":{\"color\":\"#2a3f5f\"},\"marker\":{\"line\":{\"color\":\"#E5ECF6\",\"width\":0.5},\"pattern\":{\"fillmode\":\"overlay\",\"size\":10,\"solidity\":0.2}},\"type\":\"bar\"}],\"barpolar\":[{\"marker\":{\"line\":{\"color\":\"#E5ECF6\",\"width\":0.5},\"pattern\":{\"fillmode\":\"overlay\",\"size\":10,\"solidity\":0.2}},\"type\":\"barpolar\"}],\"carpet\":[{\"aaxis\":{\"endlinecolor\":\"#2a3f5f\",\"gridcolor\":\"white\",\"linecolor\":\"white\",\"minorgridcolor\":\"white\",\"startlinecolor\":\"#2a3f5f\"},\"baxis\":{\"endlinecolor\":\"#2a3f5f\",\"gridcolor\":\"white\",\"linecolor\":\"white\",\"minorgridcolor\":\"white\",\"startlinecolor\":\"#2a3f5f\"},\"type\":\"carpet\"}],\"choropleth\":[{\"colorbar\":{\"outlinewidth\":0,\"ticks\":\"\"},\"type\":\"choropleth\"}],\"contour\":[{\"colorbar\":{\"outlinewidth\":0,\"ticks\":\"\"},\"colorscale\":[[0.0,\"#0d0887\"],[0.1111111111111111,\"#46039f\"],[0.2222222222222222,\"#7201a8\"],[0.3333333333333333,\"#9c179e\"],[0.4444444444444444,\"#bd3786\"],[0.5555555555555556,\"#d8576b\"],[0.6666666666666666,\"#ed7953\"],[0.7777777777777778,\"#fb9f3a\"],[0.8888888888888888,\"#fdca26\"],[1.0,\"#f0f921\"]],\"type\":\"contour\"}],\"contourcarpet\":[{\"colorbar\":{\"outlinewidth\":0,\"ticks\":\"\"},\"type\":\"contourcarpet\"}],\"heatmap\":[{\"colorbar\":{\"outlinewidth\":0,\"ticks\":\"\"},\"colorscale\":[[0.0,\"#0d0887\"],[0.1111111111111111,\"#46039f\"],[0.2222222222222222,\"#7201a8\"],[0.3333333333333333,\"#9c179e\"],[0.4444444444444444,\"#bd3786\"],[0.5555555555555556,\"#d8576b\"],[0.6666666666666666,\"#ed7953\"],[0.7777777777777778,\"#fb9f3a\"],[0.8888888888888888,\"#fdca26\"],[1.0,\"#f0f921\"]],\"type\":\"heatmap\"}],\"heatmapgl\":[{\"colorbar\":{\"outlinewidth\":0,\"ticks\":\"\"},\"colorscale\":[[0.0,\"#0d0887\"],[0.1111111111111111,\"#46039f\"],[0.2222222222222222,\"#7201a8\"],[0.3333333333333333,\"#9c179e\"],[0.4444444444444444,\"#bd3786\"],[0.5555555555555556,\"#d8576b\"],[0.6666666666666666,\"#ed7953\"],[0.7777777777777778,\"#fb9f3a\"],[0.8888888888888888,\"#fdca26\"],[1.0,\"#f0f921\"]],\"type\":\"heatmapgl\"}],\"histogram\":[{\"marker\":{\"pattern\":{\"fillmode\":\"overlay\",\"size\":10,\"solidity\":0.2}},\"type\":\"histogram\"}],\"histogram2d\":[{\"colorbar\":{\"outlinewidth\":0,\"ticks\":\"\"},\"colorscale\":[[0.0,\"#0d0887\"],[0.1111111111111111,\"#46039f\"],[0.2222222222222222,\"#7201a8\"],[0.3333333333333333,\"#9c179e\"],[0.4444444444444444,\"#bd3786\"],[0.5555555555555556,\"#d8576b\"],[0.6666666666666666,\"#ed7953\"],[0.7777777777777778,\"#fb9f3a\"],[0.8888888888888888,\"#fdca26\"],[1.0,\"#f0f921\"]],\"type\":\"histogram2d\"}],\"histogram2dcontour\":[{\"colorbar\":{\"outlinewidth\":0,\"ticks\":\"\"},\"colorscale\":[[0.0,\"#0d0887\"],[0.1111111111111111,\"#46039f\"],[0.2222222222222222,\"#7201a8\"],[0.3333333333333333,\"#9c179e\"],[0.4444444444444444,\"#bd3786\"],[0.5555555555555556,\"#d8576b\"],[0.6666666666666666,\"#ed7953\"],[0.7777777777777778,\"#fb9f3a\"],[0.8888888888888888,\"#fdca26\"],[1.0,\"#f0f921\"]],\"type\":\"histogram2dcontour\"}],\"mesh3d\":[{\"colorbar\":{\"outlinewidth\":0,\"ticks\":\"\"},\"type\":\"mesh3d\"}],\"parcoords\":[{\"line\":{\"colorbar\":{\"outlinewidth\":0,\"ticks\":\"\"}},\"type\":\"parcoords\"}],\"pie\":[{\"automargin\":true,\"type\":\"pie\"}],\"scatter\":[{\"marker\":{\"colorbar\":{\"outlinewidth\":0,\"ticks\":\"\"}},\"type\":\"scatter\"}],\"scatter3d\":[{\"line\":{\"colorbar\":{\"outlinewidth\":0,\"ticks\":\"\"}},\"marker\":{\"colorbar\":{\"outlinewidth\":0,\"ticks\":\"\"}},\"type\":\"scatter3d\"}],\"scattercarpet\":[{\"marker\":{\"colorbar\":{\"outlinewidth\":0,\"ticks\":\"\"}},\"type\":\"scattercarpet\"}],\"scattergeo\":[{\"marker\":{\"colorbar\":{\"outlinewidth\":0,\"ticks\":\"\"}},\"type\":\"scattergeo\"}],\"scattergl\":[{\"marker\":{\"colorbar\":{\"outlinewidth\":0,\"ticks\":\"\"}},\"type\":\"scattergl\"}],\"scattermapbox\":[{\"marker\":{\"colorbar\":{\"outlinewidth\":0,\"ticks\":\"\"}},\"type\":\"scattermapbox\"}],\"scatterpolar\":[{\"marker\":{\"colorbar\":{\"outlinewidth\":0,\"ticks\":\"\"}},\"type\":\"scatterpolar\"}],\"scatterpolargl\":[{\"marker\":{\"colorbar\":{\"outlinewidth\":0,\"ticks\":\"\"}},\"type\":\"scatterpolargl\"}],\"scatterternary\":[{\"marker\":{\"colorbar\":{\"outlinewidth\":0,\"ticks\":\"\"}},\"type\":\"scatterternary\"}],\"surface\":[{\"colorbar\":{\"outlinewidth\":0,\"ticks\":\"\"},\"colorscale\":[[0.0,\"#0d0887\"],[0.1111111111111111,\"#46039f\"],[0.2222222222222222,\"#7201a8\"],[0.3333333333333333,\"#9c179e\"],[0.4444444444444444,\"#bd3786\"],[0.5555555555555556,\"#d8576b\"],[0.6666666666666666,\"#ed7953\"],[0.7777777777777778,\"#fb9f3a\"],[0.8888888888888888,\"#fdca26\"],[1.0,\"#f0f921\"]],\"type\":\"surface\"}],\"table\":[{\"cells\":{\"fill\":{\"color\":\"#EBF0F8\"},\"line\":{\"color\":\"white\"}},\"header\":{\"fill\":{\"color\":\"#C8D4E3\"},\"line\":{\"color\":\"white\"}},\"type\":\"table\"}]},\"layout\":{\"annotationdefaults\":{\"arrowcolor\":\"#2a3f5f\",\"arrowhead\":0,\"arrowwidth\":1},\"autotypenumbers\":\"strict\",\"coloraxis\":{\"colorbar\":{\"outlinewidth\":0,\"ticks\":\"\"}},\"colorscale\":{\"diverging\":[[0,\"#8e0152\"],[0.1,\"#c51b7d\"],[0.2,\"#de77ae\"],[0.3,\"#f1b6da\"],[0.4,\"#fde0ef\"],[0.5,\"#f7f7f7\"],[0.6,\"#e6f5d0\"],[0.7,\"#b8e186\"],[0.8,\"#7fbc41\"],[0.9,\"#4d9221\"],[1,\"#276419\"]],\"sequential\":[[0.0,\"#0d0887\"],[0.1111111111111111,\"#46039f\"],[0.2222222222222222,\"#7201a8\"],[0.3333333333333333,\"#9c179e\"],[0.4444444444444444,\"#bd3786\"],[0.5555555555555556,\"#d8576b\"],[0.6666666666666666,\"#ed7953\"],[0.7777777777777778,\"#fb9f3a\"],[0.8888888888888888,\"#fdca26\"],[1.0,\"#f0f921\"]],\"sequentialminus\":[[0.0,\"#0d0887\"],[0.1111111111111111,\"#46039f\"],[0.2222222222222222,\"#7201a8\"],[0.3333333333333333,\"#9c179e\"],[0.4444444444444444,\"#bd3786\"],[0.5555555555555556,\"#d8576b\"],[0.6666666666666666,\"#ed7953\"],[0.7777777777777778,\"#fb9f3a\"],[0.8888888888888888,\"#fdca26\"],[1.0,\"#f0f921\"]]},\"colorway\":[\"#636efa\",\"#EF553B\",\"#00cc96\",\"#ab63fa\",\"#FFA15A\",\"#19d3f3\",\"#FF6692\",\"#B6E880\",\"#FF97FF\",\"#FECB52\"],\"font\":{\"color\":\"#2a3f5f\"},\"geo\":{\"bgcolor\":\"white\",\"lakecolor\":\"white\",\"landcolor\":\"#E5ECF6\",\"showlakes\":true,\"showland\":true,\"subunitcolor\":\"white\"},\"hoverlabel\":{\"align\":\"left\"},\"hovermode\":\"closest\",\"mapbox\":{\"style\":\"light\"},\"paper_bgcolor\":\"white\",\"plot_bgcolor\":\"#E5ECF6\",\"polar\":{\"angularaxis\":{\"gridcolor\":\"white\",\"linecolor\":\"white\",\"ticks\":\"\"},\"bgcolor\":\"#E5ECF6\",\"radialaxis\":{\"gridcolor\":\"white\",\"linecolor\":\"white\",\"ticks\":\"\"}},\"scene\":{\"xaxis\":{\"backgroundcolor\":\"#E5ECF6\",\"gridcolor\":\"white\",\"gridwidth\":2,\"linecolor\":\"white\",\"showbackground\":true,\"ticks\":\"\",\"zerolinecolor\":\"white\"},\"yaxis\":{\"backgroundcolor\":\"#E5ECF6\",\"gridcolor\":\"white\",\"gridwidth\":2,\"linecolor\":\"white\",\"showbackground\":true,\"ticks\":\"\",\"zerolinecolor\":\"white\"},\"zaxis\":{\"backgroundcolor\":\"#E5ECF6\",\"gridcolor\":\"white\",\"gridwidth\":2,\"linecolor\":\"white\",\"showbackground\":true,\"ticks\":\"\",\"zerolinecolor\":\"white\"}},\"shapedefaults\":{\"line\":{\"color\":\"#2a3f5f\"}},\"ternary\":{\"aaxis\":{\"gridcolor\":\"white\",\"linecolor\":\"white\",\"ticks\":\"\"},\"baxis\":{\"gridcolor\":\"white\",\"linecolor\":\"white\",\"ticks\":\"\"},\"bgcolor\":\"#E5ECF6\",\"caxis\":{\"gridcolor\":\"white\",\"linecolor\":\"white\",\"ticks\":\"\"}},\"title\":{\"x\":0.05},\"xaxis\":{\"automargin\":true,\"gridcolor\":\"white\",\"linecolor\":\"white\",\"ticks\":\"\",\"title\":{\"standoff\":15},\"zerolinecolor\":\"white\",\"zerolinewidth\":2},\"yaxis\":{\"automargin\":true,\"gridcolor\":\"white\",\"linecolor\":\"white\",\"ticks\":\"\",\"title\":{\"standoff\":15},\"zerolinecolor\":\"white\",\"zerolinewidth\":2}}}},                        {\"responsive\": true}                    ).then(function(){\n                            \nvar gd = document.getElementById('ad51902b-98a0-484f-be48-9a8edec319f9');\nvar x = new MutationObserver(function (mutations, observer) {{\n        var display = window.getComputedStyle(gd).display;\n        if (!display || display === 'none') {{\n            console.log([gd, 'removed!']);\n            Plotly.purge(gd);\n            observer.disconnect();\n        }}\n}});\n\n// Listen for the removal of the full notebook cells\nvar notebookContainer = gd.closest('#notebook-container');\nif (notebookContainer) {{\n    x.observe(notebookContainer, {childList: true});\n}}\n\n// Listen for the clearing of the current output cell\nvar outputEl = gd.closest('.output');\nif (outputEl) {{\n    x.observe(outputEl, {childList: true});\n}}\n\n                        })                };                });            </script>        </div>"
     },
     "metadata": {},
     "output_type": "display_data"
    }
   ],
   "source": [
    "viz2b_CumulativeIncome(df_cumulative_income,'NCR')"
   ],
   "metadata": {
    "collapsed": false
   }
  },
  {
   "cell_type": "code",
   "execution_count": 75,
   "outputs": [
    {
     "name": "stdout",
     "output_type": "stream",
     "text": [
      "Dash app running on http://127.0.0.1:8030/\n"
     ]
    }
   ],
   "source": [
    "# Creating the app\n",
    "page = JupyterDash(__name__, external_stylesheets=[dbc.themes.BOOTSTRAP])\n",
    "\n",
    "sorted = df_Gini_Coefficient_2a.sort_values(by='Gini Coefficient').index\n",
    "region_dict = dict(zip(sorted,range(0,len(sorted))))\n",
    "Average_Gini = round(df_Gini_Coefficient_2a['Gini Coefficient'].mean(),4)\n",
    "\n",
    "page.layout = dbc.Container([\n",
    "    # Header\n",
    "\n",
    "\n",
    "    html.Nav(\n",
    "    html.Ul([\n",
    "        html.Li([\n",
    "            html.A('Home', href='#', className='nav-link', style={'border': '1px solid grey'})\n",
    "        ], className='nav-item'),\n",
    "        html.Li([\n",
    "            html.A('Understanding Poverty', href='#', className='nav-link', style={'border': '1px solid grey'})\n",
    "        ], className='nav-item'),\n",
    "        html.Li([\n",
    "            html.A('Zooming in on Employment', href='#', className='nav-link', style={'border': '1px solid grey'})\n",
    "        ], className='nav-item'),\n",
    "        html.Li([\n",
    "            html.A('Finding Opportunities', href='#', className='nav-link', style={'border': '1px solid grey'})\n",
    "        ], className='nav-item')\n",
    "    ], className='nav'),\n",
    "\n",
    "),\n",
    "\n",
    "  # Line Breaks\n",
    "\n",
    "     html.Div([\n",
    "          html.Br(), html.Br(), html.Br(), html.Br(),  html.Br(),\n",
    "     ]),\n",
    "\n",
    "\n",
    "    # Header 1\n",
    "    html.Section([\n",
    "        html.H2(\"Understanding Poverty\", className=\"text-center mb-3\"),\n",
    "        html.H5(\"\", className=\"text-center mb-5\"),\n",
    "    ]),\n",
    "\n",
    "    html.Div([\n",
    "        html.Label(\"Select island group/s of interest\"),\n",
    "        dcc.Checklist(id='checklist_1',\n",
    "                      options=['Luzon', 'Visayas', 'Mindanao'],\n",
    "                      value=['Luzon', 'Visayas','Mindanao']),\n",
    "        dcc.Graph(id='viz2a', animate = False)\n",
    "    ]),\n",
    "\n",
    "    # Div for Viz2b_TotalIncome\n",
    "    html.Div([\n",
    "        html.Label(\"Select region of interest\"),\n",
    "        dcc.Graph(id='viz2b_TotalIncome', animate = False)\n",
    "    ]),\n",
    "\n",
    "    # Div for Viz2b_CumulativeIncome\n",
    "    html.Div([\n",
    "        dcc.Graph(id='viz2b_CumulativeIncome', animate = False)\n",
    "    ]),\n",
    "\n",
    "\n",
    "])\n",
    "\n",
    "# Updating the graph based on clickdata\n",
    "@page.callback(\n",
    "    Output(\"viz2b_TotalIncome\", \"figure\"),\n",
    "    [Input(\"viz2a\", \"clickData\")]\n",
    ")\n",
    "\n",
    "def update_graph(click_data):\n",
    "\n",
    "      if click_data is None:\n",
    "          clicked_category = 'NCR'\n",
    "          filtered_df = df2[df2['Region'] == clicked_category]\n",
    "      else:\n",
    "          clicked_category = click_data['points'][0]['y']\n",
    "          filtered_df = df2[df2['Region'] == clicked_category]\n",
    "\n",
    "      if clicked_category in ['REGION I - ILOCOS REGION',\n",
    "                    'REGION II - CAGAYAN VALLEY',\n",
    "                    'REGION III - CENTRAL LUZON',\n",
    "                    'REGION IVA - CALABARZON',\n",
    "                    'REGION V - BICOL REGION',\n",
    "                    'NCR', 'CAR', 'MIMAROPA']:\n",
    "                    color = '#fcb97d'\n",
    "      elif clicked_category in ['REGION VI - WESTERN VISAYAS',\n",
    "                      'REGION VII - CENTRAL VISAYAS',\n",
    "                      'REGION VIII - EASTERN VISAYAS']:\n",
    "                      color = '#a0b9c6'\n",
    "      else:\n",
    "          color = '#9a98b5'\n",
    "\n",
    "      fig = px.bar(filtered_df,\n",
    "                  x=\"Decile\",\n",
    "                  y=\"Total Income\",\n",
    "                  text=\"Total Income\",\n",
    "                  title=f\"Total Income by Decile for {clicked_category}\",\n",
    "                  color_discrete_sequence=[color])\n",
    "\n",
    "      return fig\n",
    "\n",
    "@page.callback(\n",
    "    Output(\"viz2b_CumulativeIncome\", \"figure\"),\n",
    "    [Input(\"viz2a\", \"clickData\")]\n",
    ")\n",
    "\n",
    "def update_graph_1(click_data):\n",
    "\n",
    "      if click_data is None:\n",
    "          clicked_category = 'NCR'\n",
    "          filtered_df_cumulative = df_cumulative_income[df_cumulative_income['Region'] == clicked_category]\n",
    "      else:\n",
    "          clicked_category = click_data['points'][0]['y']\n",
    "          filtered_df_cumulative = df_cumulative_income[df_cumulative_income['Region'] == clicked_category]\n",
    "\n",
    "      if clicked_category in ['REGION I - ILOCOS REGION',\n",
    "                    'REGION II - CAGAYAN VALLEY',\n",
    "                    'REGION III - CENTRAL LUZON',\n",
    "                    'REGION IVA - CALABARZON',\n",
    "                    'REGION V - BICOL REGION',\n",
    "                    'NCR', 'CAR', 'MIMAROPA']:\n",
    "                    color = '#fcb97d'\n",
    "      elif clicked_category in ['REGION VI - WESTERN VISAYAS',\n",
    "                      'REGION VII - CENTRAL VISAYAS',\n",
    "                      'REGION VIII - EASTERN VISAYAS']:\n",
    "                      color = '#a0b9c6'\n",
    "      else:\n",
    "          color = '#9a98b5'\n",
    "\n",
    "      # Create a bar chart trace\n",
    "      bar_trace = go.Bar(\n",
    "          x=filtered_df_cumulative['Cumulative Population'],\n",
    "          y=filtered_df_cumulative['Cumulative Income'],\n",
    "          text=['{:.2f}%'.format(v) for v in filtered_df_cumulative['Cumulative Income']],\n",
    "          name='Cumulative Income',\n",
    "          hovertemplate='Cumulative Population: %{x:.2f}%<br>Cumulative Income: %{y:.2f}%<extra></extra>', # Custom hover template\n",
    "          textposition='outside',\n",
    "          textfont={\n",
    "              'size': 14\n",
    "          },\n",
    "          insidetextanchor='start',\n",
    "          marker = {'color':color}\n",
    "      )\n",
    "\n",
    "      text_trace = go.Scatter(\n",
    "          x=[20], # x-coordinate of the text label\n",
    "          y=[80], # y-coordinate of the text label\n",
    "          text=['Gini Coefficient: {:.4f}'.format(df_Gini_Coefficient[df_Gini_Coefficient['Region'] == clicked_category]['Gini Coefficient'].iloc[0])], # Text to display\n",
    "          mode='text',\n",
    "          textfont={\n",
    "              'size': 18,\n",
    "              'color': 'black'\n",
    "          }\n",
    "      )\n",
    "\n",
    "      # Create a layout for the chart\n",
    "      layout = go.Layout(\n",
    "          title=f\"Lorenz Curve for {clicked_category}\",\n",
    "          xaxis_title ='Cumulative Population',\n",
    "          yaxis_title ='Cumulative Income',\n",
    "          showlegend=False,\n",
    "          yaxis=dict(range=[0, 120])\n",
    "      )\n",
    "\n",
    "      # Create a Figure object and add the traces to it\n",
    "      fig = go.Figure(data=[bar_trace,text_trace], layout=layout)\n",
    "\n",
    "      # Show the chart\n",
    "      return fig\n",
    "\n",
    "@page.callback(\n",
    "    Output(\"viz2a\", \"figure\"),\n",
    "    [Input(\"checklist_1\", \"value\")]\n",
    ")\n",
    "\n",
    "def update_graph_2(checklist):\n",
    "  df = df_Gini_Coefficient_2a\n",
    "  L_Keys = ['REGION I - ILOCOS REGION',\n",
    "          'REGION II - CAGAYAN VALLEY',\n",
    "          'REGION III - CENTRAL LUZON',\n",
    "          'REGION IVA - CALABARZON',\n",
    "          'REGION V - BICOL REGION',\n",
    "          'NCR',\n",
    "          'CAR',\n",
    "          'MIMAROPA']\n",
    "\n",
    "  V_Keys = ['REGION VI - WESTERN VISAYAS',\n",
    "          'REGION VII - CENTRAL VISAYAS',\n",
    "          'REGION VIII - EASTERN VISAYAS']\n",
    "\n",
    "  M_Keys = ['REGION IX - ZAMBOANGA PENINSULA',\n",
    "          'REGION X - NORTHERN MINDANAO',\n",
    "          'REGION XI - DAVAO REGION',\n",
    "          'REGION XII - SOCCSKSARGEN',\n",
    "          'REGION XIII - CARAGA',\n",
    "          'BARMM']\n",
    "\n",
    "  LV_Keys = ['REGION I - ILOCOS REGION',\n",
    "          'REGION II - CAGAYAN VALLEY',\n",
    "          'REGION III - CENTRAL LUZON',\n",
    "          'REGION IVA - CALABARZON',\n",
    "          'REGION V - BICOL REGION',\n",
    "          'NCR',\n",
    "          'CAR',\n",
    "          'MIMAROPA',\n",
    "          'REGION VI - WESTERN VISAYAS',\n",
    "          'REGION VII - CENTRAL VISAYAS',\n",
    "          'REGION VIII - EASTERN VISAYAS']\n",
    "\n",
    "  LM_Keys = ['REGION I - ILOCOS REGION',\n",
    "          'REGION II - CAGAYAN VALLEY',\n",
    "          'REGION III - CENTRAL LUZON',\n",
    "          'REGION IVA - CALABARZON',\n",
    "          'REGION V - BICOL REGION',\n",
    "          'NCR',\n",
    "          'CAR',\n",
    "          'MIMAROPA',\n",
    "          'REGION IX - ZAMBOANGA PENINSULA',\n",
    "          'REGION X - NORTHERN MINDANAO',\n",
    "          'REGION XI - DAVAO REGION',\n",
    "          'REGION XII - SOCCSKSARGEN',\n",
    "          'REGION XIII - CARAGA',\n",
    "          'BARMM']\n",
    "\n",
    "  VM_Keys = ['REGION VI - WESTERN VISAYAS',\n",
    "          'REGION VII - CENTRAL VISAYAS',\n",
    "          'REGION VIII - EASTERN VISAYAS',\n",
    "          'REGION IX - ZAMBOANGA PENINSULA',\n",
    "          'REGION X - NORTHERN MINDANAO',\n",
    "          'REGION XI - DAVAO REGION',\n",
    "          'REGION XII - SOCCSKSARGEN',\n",
    "          'REGION XIII - CARAGA',\n",
    "          'BARMM']\n",
    "\n",
    "  sorted = df.sort_values(by='Gini Coefficient').index\n",
    "  region_dict = dict(zip(sorted,range(0,len(sorted))))\n",
    "  Average_Gini = round(df['Gini Coefficient'].mean(),4)\n",
    "\n",
    "  if 'Luzon' in checklist and len(checklist) == 1:\n",
    "      L_Index = []\n",
    "      for key in region_dict:\n",
    "        if key in L_Keys:\n",
    "          L_Index.append(region_dict[key])\n",
    "      L = sorted[L_Index]\n",
    "      df = df.loc[L]\n",
    "      colors = ['#fcb97d','#fcb97d','#fcb97d','#fcb97d','#fcb97d','#fcb97d','#fcb97d','#fcb97d']\n",
    "\n",
    "      trace_1 = go.Bar(x=df['Gini Coefficient'],\n",
    "                      y=df.index,\n",
    "                      orientation='h',\n",
    "                      marker={'color':colors},\n",
    "                      hovertemplate='Gini Coefficient: %{x:.4f}<extra></extra>',\n",
    "                      name='Luzon')\n",
    "      data = [trace_1]\n",
    "      layout = {\n",
    "        'title': 'Gini Coefficients for Regions in Luzon',\n",
    "        'yaxis': {'categoryorder': 'array',\n",
    "                  'categoryarray': L,\n",
    "                  'title': 'Regions'},\n",
    "        'shapes': [{\n",
    "            'type': 'line',\n",
    "            'x0': Average_Gini,\n",
    "            'y0': 0,\n",
    "            'x1': Average_Gini,\n",
    "            'y1': len(L)-1,\n",
    "            'line': {\n",
    "                'color': 'black',\n",
    "                'width': 2}}],\n",
    "        'annotations': [{\n",
    "            'x': Average_Gini,\n",
    "            'y': len(L) + 0.1,\n",
    "            'text': f\"Average Gini Coefficient: {Average_Gini:.4f}\",\n",
    "            'showarrow': False,\n",
    "            'font': {'size': 16, 'color': 'black'}}],\n",
    "        'xaxis': {'range': [0.53, 0.62],\n",
    "                  'title': 'Gini Coefficients'}\n",
    "              }\n",
    "      fig = go.Figure(data=data, layout=layout)\n",
    "      pass\n",
    "\n",
    "  elif 'Visayas' in checklist and len(checklist) == 1:\n",
    "      V_Index = []\n",
    "      for key in region_dict:\n",
    "        if key in V_Keys:\n",
    "          V_Index.append(region_dict[key])\n",
    "      V = sorted[V_Index]\n",
    "      df = df.loc[V]\n",
    "      colors = ['#a0b9c6','#a0b9c6','#a0b9c6']\n",
    "\n",
    "      trace_1 = go.Bar(x=df['Gini Coefficient'],\n",
    "                      y=df.index,\n",
    "                      orientation='h',\n",
    "                      marker={'color':colors},\n",
    "                      hovertemplate='Gini Coefficient: %{x:.4f}<extra></extra>')\n",
    "      data = [trace_1]\n",
    "      layout = {\n",
    "          'title': 'Gini Coefficients for Regions in Visayas',\n",
    "          'yaxis': {'categoryorder': 'array',\n",
    "                    'categoryarray': V,\n",
    "                    'title': 'Regions'},\n",
    "          'shapes': [{\n",
    "              'type': 'line',\n",
    "              'x0': Average_Gini,\n",
    "              'y0': 0,\n",
    "              'x1': Average_Gini,\n",
    "              'y1': len(V)-1,\n",
    "              'line': {\n",
    "                  'color': 'black',\n",
    "                  'width': 2}}],\n",
    "          'annotations': [{\n",
    "              'x': Average_Gini,\n",
    "              'y': len(V) + 0.1,\n",
    "              'text': f\"Average Gini Coefficient: {Average_Gini:.4f}\",\n",
    "              'showarrow': False,\n",
    "              'font': {'size': 16, 'color': 'black'}}],\n",
    "          'xaxis': {'range': [0.53, 0.62],\n",
    "                    'title': 'Gini Coefficients'}\n",
    "              }\n",
    "      fig = go.Figure(data=data, layout=layout)\n",
    "\n",
    "  elif 'Mindanao' in checklist and len(checklist) == 1:\n",
    "      M_Index = []\n",
    "      for key in region_dict:\n",
    "        if key in M_Keys:\n",
    "          M_Index.append(region_dict[key])\n",
    "      M = sorted[M_Index]\n",
    "      df = df.loc[M]\n",
    "      colors = ['#9a98b5','#9a98b5','#9a98b5','#9a98b5','#9a98b5','#9a98b5']\n",
    "\n",
    "      trace_1 = go.Bar(x=df['Gini Coefficient'],\n",
    "                      y=df.index,\n",
    "                      orientation='h',\n",
    "                      marker={'color':colors},\n",
    "                      hovertemplate='Gini Coefficient: %{x:.4f}<extra></extra>')\n",
    "      data = [trace_1]\n",
    "      layout = {\n",
    "          'title': 'Gini Coefficients for Regions in Mindanao',\n",
    "          'yaxis': {'categoryorder': 'array',\n",
    "                    'categoryarray': M,\n",
    "                    'title': 'Regions'},\n",
    "          'shapes': [{\n",
    "              'type': 'line',\n",
    "              'x0': Average_Gini,\n",
    "              'y0': 0,\n",
    "              'x1': Average_Gini,\n",
    "              'y1': len(M)-1,\n",
    "              'line': {\n",
    "                  'color': 'black',\n",
    "                  'width': 2}}],\n",
    "          'annotations': [{\n",
    "              'x': Average_Gini,\n",
    "              'y': len(M) + 0.1,\n",
    "              'text': f\"Average Gini Coefficient: {Average_Gini:.4f}\",\n",
    "              'showarrow': False,\n",
    "              'font': {'size': 16, 'color': 'black'}}],\n",
    "          'xaxis': {'range': [0.53, 0.62],\n",
    "                    'title': 'Gini Coefficients'}\n",
    "              }\n",
    "      fig = go.Figure(data=data, layout=layout)\n",
    "\n",
    "  elif 'Luzon' in checklist and 'Visayas' in checklist and len(checklist) == 2:\n",
    "      LV_Index = []\n",
    "      for key in region_dict:\n",
    "        if key in LV_Keys:\n",
    "          LV_Index.append(region_dict[key])\n",
    "      LV = sorted[LV_Index]\n",
    "      L_Index = []\n",
    "      for key in region_dict:\n",
    "        if key in L_Keys:\n",
    "          L_Index.append(region_dict[key])\n",
    "      L = sorted[L_Index]\n",
    "      V_Index = []\n",
    "      for key in region_dict:\n",
    "        if key in V_Keys:\n",
    "          V_Index.append(region_dict[key])\n",
    "      V = sorted[V_Index]\n",
    "      df = df.loc[LV]\n",
    "      df_L = df.loc[L]\n",
    "      df_V = df.loc[V]\n",
    "      colors_L = ['#fcb97d','#fcb97d','#fcb97d','#fcb97d','#fcb97d','#fcb97d','#fcb97d','#fcb97d']\n",
    "      colors_V = ['#a0b9c6','#a0b9c6','#a0b9c6']\n",
    "\n",
    "      trace_1 = go.Bar(x=df_L['Gini Coefficient'],\n",
    "                      y=df_L.index,\n",
    "                      orientation='h',\n",
    "                      marker={'color':colors_L},\n",
    "                      hovertemplate='Gini Coefficient: %{x:.4f}<extra></extra>',\n",
    "                      name='Luzon')\n",
    "      trace_2 = go.Bar(x=df_V['Gini Coefficient'],\n",
    "                      y=df_V.index,\n",
    "                      orientation='h',\n",
    "                      marker={'color':colors_V},\n",
    "                      hovertemplate='Gini Coefficient: %{x:.4f}<extra></extra>',\n",
    "                      name='Visayas')\n",
    "      data = [trace_1,trace_2]\n",
    "      layout = {\n",
    "          'title': 'Gini Coefficients for Regions in Luzon and Visayas',\n",
    "          'yaxis': {'categoryorder': 'array',\n",
    "                    'categoryarray': LV,\n",
    "                    'title': 'Regions'},\n",
    "          'shapes': [{\n",
    "              'type': 'line',\n",
    "              'x0': Average_Gini,\n",
    "              'y0': 0,\n",
    "              'x1': Average_Gini,\n",
    "              'y1': len(LV)-1,\n",
    "              'line': {\n",
    "                  'color': 'black',\n",
    "                  'width': 2}}],\n",
    "          'annotations': [{\n",
    "              'x': Average_Gini,\n",
    "              'y': len(LV) + 0.1,\n",
    "              'text': f\"Average Gini Coefficient: {Average_Gini:.4f}\",\n",
    "              'showarrow': False,\n",
    "              'font': {'size': 16, 'color': 'black'}}],\n",
    "          'xaxis': {'range': [0.53, 0.62],\n",
    "                    'title': 'Gini Coefficients'}\n",
    "              }\n",
    "      fig = go.Figure(data=data, layout=layout)\n",
    "\n",
    "  elif 'Luzon' in checklist and 'Mindanao' in checklist and len(checklist) == 2:\n",
    "      LM_Index = []\n",
    "      for key in region_dict:\n",
    "        if key in LM_Keys:\n",
    "          LM_Index.append(region_dict[key])\n",
    "      LM = sorted[LM_Index]\n",
    "      L_Index = []\n",
    "      for key in region_dict:\n",
    "        if key in L_Keys:\n",
    "          L_Index.append(region_dict[key])\n",
    "      L = sorted[L_Index]\n",
    "      M_Index = []\n",
    "      for key in region_dict:\n",
    "        if key in M_Keys:\n",
    "          M_Index.append(region_dict[key])\n",
    "      M = sorted[M_Index]\n",
    "      df = df.loc[LM]\n",
    "      df_L = df.loc[L]\n",
    "      df_M = df.loc[M]\n",
    "      colors_L = ['#fcb97d','#fcb97d','#fcb97d','#fcb97d','#fcb97d','#fcb97d','#fcb97d','#fcb97d']\n",
    "      colors_M = ['#9a98b5','#9a98b5','#9a98b5','#9a98b5','#9a98b5','#9a98b5']\n",
    "\n",
    "      trace_1 = go.Bar(x=df_L['Gini Coefficient'],\n",
    "                      y=df_L.index,\n",
    "                      orientation='h',\n",
    "                      marker={'color':colors_L},\n",
    "                      hovertemplate='Gini Coefficient: %{x:.4f}<extra></extra>',\n",
    "                      name='Luzon')\n",
    "      trace_2 = go.Bar(x=df_M['Gini Coefficient'],\n",
    "                      y=df_M.index,\n",
    "                      orientation='h',\n",
    "                      marker={'color':colors_M},\n",
    "                      hovertemplate='Gini Coefficient: %{x:.4f}<extra></extra>',\n",
    "                      name='Mindanao')\n",
    "      data = [trace_1,trace_2]\n",
    "      layout = {\n",
    "          'title': 'Gini Coefficients for Regions in Luzon and Mindanao',\n",
    "          'yaxis': {'categoryorder': 'array',\n",
    "                    'categoryarray': LM,\n",
    "                    'title': 'Regions'},\n",
    "          'shapes': [{\n",
    "              'type': 'line',\n",
    "              'x0': Average_Gini,\n",
    "              'y0': 0,\n",
    "              'x1': Average_Gini,\n",
    "              'y1': len(LM)-1,\n",
    "              'line': {\n",
    "                  'color': 'black',\n",
    "                  'width': 2}}],\n",
    "          'annotations': [{\n",
    "              'x': Average_Gini,\n",
    "              'y': len(LM) + 0.1,\n",
    "              'text': f\"Average Gini Coefficient: {Average_Gini:.4f}\",\n",
    "              'showarrow': False,\n",
    "              'font': {'size': 16, 'color': 'black'}}],\n",
    "          'xaxis': {'range': [0.53, 0.62],\n",
    "                    'title': 'Gini Coefficients'}\n",
    "              }\n",
    "      fig = go.Figure(data=data, layout=layout)\n",
    "\n",
    "  elif 'Visayas' in checklist and 'Mindanao' in checklist and len(checklist) == 2:\n",
    "      VM_Index = []\n",
    "      for key in region_dict:\n",
    "        if key in VM_Keys:\n",
    "          VM_Index.append(region_dict[key])\n",
    "      VM = sorted[VM_Index]\n",
    "      V_Index = []\n",
    "      for key in region_dict:\n",
    "        if key in V_Keys:\n",
    "          V_Index.append(region_dict[key])\n",
    "      V = sorted[V_Index]\n",
    "      M_Index = []\n",
    "      for key in region_dict:\n",
    "        if key in M_Keys:\n",
    "          M_Index.append(region_dict[key])\n",
    "      M = sorted[M_Index]\n",
    "      df = df.loc[VM]\n",
    "      df_V = df.loc[V]\n",
    "      df_M = df.loc[M]\n",
    "      colors_V = ['#a0b9c6','#a0b9c6','#a0b9c6']\n",
    "      colors_M = ['#9a98b5','#9a98b5','#9a98b5','#9a98b5','#9a98b5','#9a98b5']\n",
    "\n",
    "\n",
    "      trace_1 = go.Bar(x=df_V['Gini Coefficient'],\n",
    "                      y=df_V.index,\n",
    "                      orientation='h',\n",
    "                      marker={'color':colors_V},\n",
    "                      hovertemplate='Gini Coefficient: %{x:.4f}<extra></extra>',\n",
    "                      name='Visayas')\n",
    "      trace_2 = go.Bar(x=df_M['Gini Coefficient'],\n",
    "                      y=df_M.index,\n",
    "                      orientation='h',\n",
    "                      marker={'color':colors_M},\n",
    "                      hovertemplate='Gini Coefficient: %{x:.4f}<extra></extra>',\n",
    "                      name='Mindanao')\n",
    "      data = [trace_1,trace_2]\n",
    "      layout = {\n",
    "          'title': 'Gini Coefficients for Regions in Visayas and Mindanao',\n",
    "          'yaxis': {'categoryorder': 'array',\n",
    "                    'categoryarray': VM,\n",
    "                    'title': 'Regions'},\n",
    "          'shapes': [{\n",
    "              'type': 'line',\n",
    "              'x0': Average_Gini,\n",
    "              'y0': 0,\n",
    "              'x1': Average_Gini,\n",
    "              'y1': len(VM)-1,\n",
    "              'line': {\n",
    "                  'color': 'black',\n",
    "                  'width': 2}}],\n",
    "          'annotations': [{\n",
    "              'x': Average_Gini,\n",
    "              'y': len(VM) + 0.1,\n",
    "              'text': f\"Average Gini Coefficient: {Average_Gini:.4f}\",\n",
    "              'showarrow': False,\n",
    "              'font': {'size': 16, 'color': 'black'}}],\n",
    "          'xaxis': {'range': [0.53, 0.62],\n",
    "                    'title': 'Gini Coefficients'}\n",
    "              }\n",
    "      fig = go.Figure(data=data, layout=layout)\n",
    "\n",
    "  elif 'Luzon' in checklist and 'Visayas' in checklist and 'Mindanao' in checklist and len(checklist) == 3:\n",
    "      L_Index = []\n",
    "      for key in region_dict:\n",
    "        if key in L_Keys:\n",
    "          L_Index.append(region_dict[key])\n",
    "      L = sorted[L_Index]\n",
    "      V_Index = []\n",
    "      for key in region_dict:\n",
    "        if key in V_Keys:\n",
    "          V_Index.append(region_dict[key])\n",
    "      V = sorted[V_Index]\n",
    "      M_Index = []\n",
    "      for key in region_dict:\n",
    "        if key in M_Keys:\n",
    "          M_Index.append(region_dict[key])\n",
    "      M = sorted[M_Index]\n",
    "      df = df.loc[sorted]\n",
    "      df_L = df.loc[L]\n",
    "      df_V = df.loc[V]\n",
    "      df_M = df.loc[M]\n",
    "      colors_L = ['#fcb97d','#fcb97d','#fcb97d','#fcb97d','#fcb97d','#fcb97d','#fcb97d','#fcb97d']\n",
    "      colors_V = ['#a0b9c6','#a0b9c6','#a0b9c6']\n",
    "      colors_M = ['#9a98b5','#9a98b5','#9a98b5','#9a98b5','#9a98b5','#9a98b5']\n",
    "      trace_1 = go.Bar(x=df_L['Gini Coefficient'],\n",
    "                      y=df_L.index,\n",
    "                      orientation='h',\n",
    "                      marker={'color':colors_L},\n",
    "                      hovertemplate='Gini Coefficient: %{x:.4f}<extra></extra>',\n",
    "                      name='Luzon')\n",
    "      trace_2 = go.Bar(x=df_V['Gini Coefficient'],\n",
    "                      y=df_V.index,\n",
    "                      orientation='h',\n",
    "                      marker={'color':colors_V},\n",
    "                      hovertemplate='Gini Coefficient: %{x:.4f}<extra></extra>',\n",
    "                      name='Visayas')\n",
    "      trace_3 = go.Bar(x=df_M['Gini Coefficient'],\n",
    "                      y=df_M.index,\n",
    "                      orientation='h',\n",
    "                      marker={'color':colors_M},\n",
    "                      hovertemplate='Gini Coefficient: %{x:.4f}<extra></extra>',\n",
    "                      name='Mindanao')\n",
    "      data = [trace_1,trace_2,trace_3]\n",
    "      layout = {\n",
    "          'title': 'Gini Coefficients for Regions in Luzon, Visayas, and Mindanao',\n",
    "          'yaxis': {'categoryorder': 'array',\n",
    "                    'categoryarray': sorted,\n",
    "                    'title': 'Regions'},\n",
    "          'shapes': [{\n",
    "              'type': 'line',\n",
    "              'x0': Average_Gini,\n",
    "              'y0': 0,\n",
    "              'x1': Average_Gini,\n",
    "              'y1': len(sorted)-1,\n",
    "              'line': {\n",
    "                  'color': 'black',\n",
    "                  'width': 2}}],\n",
    "          'annotations': [{\n",
    "              'x': Average_Gini,\n",
    "              'y': len(sorted) + 0.1,\n",
    "              'text':f\"Average Gini Coefficient: {Average_Gini:.4f}\",\n",
    "              'showarrow': False,\n",
    "              'font': {'size': 16, 'color': 'black'}}],\n",
    "          'xaxis': {'range': [0.53, 0.62],\n",
    "                    'title': 'Gini Coefficients'}\n",
    "              }\n",
    "      fig = go.Figure(data=data, layout=layout)\n",
    "\n",
    "  return fig\n",
    "\n",
    "\n",
    "\n",
    "if __name__ == '__main__':\n",
    "  page.run_server(debug=True, port = 8030)"
   ],
   "metadata": {
    "collapsed": false
   }
  },
  {
   "cell_type": "code",
   "execution_count": null,
   "outputs": [],
   "source": [],
   "metadata": {
    "collapsed": false
   }
  }
 ],
 "metadata": {
  "kernelspec": {
   "display_name": "Python 3",
   "language": "python",
   "name": "python3"
  },
  "language_info": {
   "codemirror_mode": {
    "name": "ipython",
    "version": 2
   },
   "file_extension": ".py",
   "mimetype": "text/x-python",
   "name": "python",
   "nbconvert_exporter": "python",
   "pygments_lexer": "ipython2",
   "version": "2.7.6"
  }
 },
 "nbformat": 4,
 "nbformat_minor": 0
}
