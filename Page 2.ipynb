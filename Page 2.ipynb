{
 "cells": [
  {
   "cell_type": "markdown",
   "source": [
    "# Setup"
   ],
   "metadata": {
    "collapsed": false
   }
  },
  {
   "cell_type": "code",
   "execution_count": 26,
   "id": "cb9ec092-83dc-4dfa-9186-183ac99eb7f7",
   "metadata": {
    "id": "NVxmR1QWobHX",
    "tags": []
   },
   "outputs": [],
   "source": [
    "import numpy as np\n",
    "import pandas as pd\n",
    "import plotly.graph_objects as go\n",
    "import plotly.express as px\n"
   ]
  },
  {
   "cell_type": "code",
   "execution_count": 39,
   "id": "61ccc483-0af8-49c2-8c81-fed041930279",
   "metadata": {
    "id": "f--bTRcV7sd_"
   },
   "outputs": [],
   "source": [
    "from jupyter_dash import JupyterDash\n",
    "from dash import Dash, dcc, html, Input, Output\n",
    "import dash_bootstrap_components as dbc\n",
    "import pandas as pd\n",
    "from datetime import date\n",
    "import plotly.io as pio\n",
    "pio.templates.default = \"plotly\""
   ]
  },
  {
   "cell_type": "markdown",
   "source": [
    "# Viz4"
   ],
   "metadata": {
    "collapsed": false
   }
  },
  {
   "cell_type": "code",
   "execution_count": 61,
   "outputs": [],
   "source": [
    "df = pd.read_csv('df_final.csv')\n",
    "df_2021 = df[df['Date'] == '10/1/2021']\n",
    "df_2022 = df.drop(index=df[df['Date'] == '10/1/2021'].index)"
   ],
   "metadata": {
    "collapsed": false
   }
  },
  {
   "cell_type": "code",
   "execution_count": 83,
   "outputs": [],
   "source": [
    "def Viz4(df,Year,Type,Regions):\n",
    "  L_Keys = ['REGION I - ILOCOS REGION',\n",
    "          'REGION II - CAGAYAN VALLEY',\n",
    "          'REGION III - CENTRAL LUZON',\n",
    "          'REGION IVA - CALABARZON',\n",
    "          'REGION V - BICOL REGION',\n",
    "          'NCR',\n",
    "          'CAR',\n",
    "          'MIMAROPA']\n",
    "\n",
    "  V_Keys = ['REGION VI - WESTERN VISAYAS',\n",
    "          'REGION VII - CENTRAL VISAYAS',\n",
    "          'REGION VIII - EASTERN VISAYAS']\n",
    "\n",
    "  M_Keys = ['REGION IX - ZAMBOANGA PENINSULA',\n",
    "          'REGION X - NORTHERN MINDANAO',\n",
    "          'REGION XI - DAVAO REGION',\n",
    "          'REGION XII - SOCCSKSARGEN',\n",
    "          'REGION XIII - CARAGA',\n",
    "          'BARMM']\n",
    "\n",
    "  LV_Keys = ['REGION I - ILOCOS REGION',\n",
    "          'REGION II - CAGAYAN VALLEY',\n",
    "          'REGION III - CENTRAL LUZON',\n",
    "          'REGION IVA - CALABARZON',\n",
    "          'REGION V - BICOL REGION',\n",
    "          'NCR',\n",
    "          'CAR',\n",
    "          'MIMAROPA',\n",
    "          'REGION VI - WESTERN VISAYAS',\n",
    "          'REGION VII - CENTRAL VISAYAS',\n",
    "          'REGION VIII - EASTERN VISAYAS']\n",
    "\n",
    "  LM_Keys = ['REGION I - ILOCOS REGION',\n",
    "          'REGION II - CAGAYAN VALLEY',\n",
    "          'REGION III - CENTRAL LUZON',\n",
    "          'REGION IVA - CALABARZON',\n",
    "          'REGION V - BICOL REGION',\n",
    "          'NCR',\n",
    "          'CAR',\n",
    "          'MIMAROPA',\n",
    "          'REGION IX - ZAMBOANGA PENINSULA',\n",
    "          'REGION X - NORTHERN MINDANAO',\n",
    "          'REGION XI - DAVAO REGION',\n",
    "          'REGION XII - SOCCSKSARGEN',\n",
    "          'REGION XIII - CARAGA',\n",
    "          'BARMM']\n",
    "\n",
    "  VM_Keys = ['REGION VI - WESTERN VISAYAS',\n",
    "          'REGION VII - CENTRAL VISAYAS',\n",
    "          'REGION VIII - EASTERN VISAYAS',\n",
    "          'REGION IX - ZAMBOANGA PENINSULA',\n",
    "          'REGION X - NORTHERN MINDANAO',\n",
    "          'REGION XI - DAVAO REGION',\n",
    "          'REGION XII - SOCCSKSARGEN',\n",
    "          'REGION XIII - CARAGA',\n",
    "          'BARMM']\n",
    "\n",
    "  colors_LD = ['#fcb97d','#fcb97d','#fcb97d','#fcb97d','#fcb97d','#fcb97d','#fcb97d','#fcb97d']\n",
    "  colors_VD = ['#a0b9c6','#a0b9c6','#a0b9c6']\n",
    "  colors_MD = ['#9a98b5','#9a98b5','#9a98b5','#9a98b5','#9a98b5','#9a98b5']\n",
    "\n",
    "  colors_LL = ['#ffeede','#ffeede','#ffeede','#ffeede','#ffeede','#ffeede','#ffeede','#ffeede']\n",
    "  colors_VL = ['#c9dee9','#c9dee9','#c9dee9']\n",
    "  colors_ML = ['#d2d0e9','#d2d0e9','#d2d0e9','#d2d0e9','#d2d0e9','#d2d0e9']\n",
    "\n",
    "  if Year == 2021:\n",
    "    df = df[df['Date'] == '10/1/2021']\n",
    "    df_final = df_2021.groupby(by='Region').mean();\n",
    "    df_final_noPH = df_final[df_final.index != 'Philippines']\n",
    "    sorted = df_final_noPH.sort_values(by='Labor_Force_Participation_E').index\n",
    "    region_dict = dict(zip(sorted,range(0,len(sorted))))\n",
    "\n",
    "  elif Year == 2022:\n",
    "    df = df.drop(index=df[df['Date'] == '10/1/2021'].index)\n",
    "    df_final = df_2022.groupby(by='Region').mean();\n",
    "    df_final_noPH = df_final[df_final.index != 'Philippines']\n",
    "    sorted = df_final_noPH.sort_values(by='Labor_Force_Participation_E').index\n",
    "    region_dict = dict(zip(sorted,range(0,len(sorted))))\n",
    "\n",
    "  if Type == 'Labor Force':\n",
    "    Average_Labor_Force = df_final_noPH['Labor_Force_Participation_E'].mean()\n",
    "\n",
    "    if Regions == 'Luzon':\n",
    "        L_Index = []\n",
    "        for key in region_dict:\n",
    "          if key in L_Keys:\n",
    "            L_Index.append(region_dict[key])\n",
    "        L = sorted[L_Index]\n",
    "        df_final_noPH = df_final_noPH.loc[L]\n",
    "\n",
    "        trace_1 = go.Bar(x=df_final_noPH['Labor_Force_Participation_E'],\n",
    "                        y=df_final_noPH.index,\n",
    "                        orientation='h',\n",
    "                        marker={'color':colors_LD},\n",
    "                        hovertemplate='Labor Force Participation: %{x:.2f}<extra></extra>',\n",
    "                        name='Luzon')\n",
    "        data = [trace_1]\n",
    "        layout = {\n",
    "          'title': f\"{Type} for {Regions}\",\n",
    "          'yaxis': {'categoryorder': 'array',\n",
    "                    'categoryarray': L,\n",
    "                    'title': 'Regions'},\n",
    "          'shapes': [{\n",
    "              'type': 'line',\n",
    "              'x0': Average_Labor_Force,\n",
    "              'y0': 0,\n",
    "              'x1': Average_Labor_Force,\n",
    "              'y1': len(L)-1,\n",
    "              'line': {\n",
    "                  'color': 'black',\n",
    "                  'width': 2}}],\n",
    "          'annotations': [{\n",
    "              'x': Average_Labor_Force,\n",
    "              'y': len(L) + 0.1,\n",
    "              'text': f\"Average Labor Force Participation: {int(Average_Labor_Force)}\",\n",
    "              'showarrow': False,\n",
    "              'font': {'size': 16, 'color': 'black'}}],\n",
    "          'xaxis': {'title': f\"{Type}\"\n",
    "              }}\n",
    "        fig = go.Figure(data=data, layout=layout)\n",
    "\n",
    "    elif Regions == 'Visayas':\n",
    "        V_Index = []\n",
    "        for key in region_dict:\n",
    "          if key in V_Keys:\n",
    "            V_Index.append(region_dict[key])\n",
    "        V = sorted[V_Index]\n",
    "        df_final_noPH = df_final_noPH.loc[V]\n",
    "        trace_1 = go.Bar(x=df_final_noPH['Labor_Force_Participation_E'],\n",
    "                        y=df_final_noPH.index,\n",
    "                        orientation='h',\n",
    "                        marker={'color':colors_VD},\n",
    "                        hovertemplate='Labor Force Participation: %{x:.2f}<extra></extra>',\n",
    "                        name='Visayas')\n",
    "        data = [trace_1]\n",
    "        layout = {\n",
    "            'title': f\"{Type} for {Regions}\",\n",
    "            'yaxis': {'categoryorder': 'array',\n",
    "                      'categoryarray': V,\n",
    "                      'title': 'Regions'},\n",
    "            'shapes': [{\n",
    "                'type': 'line',\n",
    "                'x0': Average_Labor_Force,\n",
    "                'y0': 0,\n",
    "                'x1': Average_Labor_Force,\n",
    "                'y1': len(V)-1,\n",
    "                'line': {\n",
    "                    'color': 'black',\n",
    "                    'width': 2}}],\n",
    "            'annotations': [{\n",
    "                'x': Average_Labor_Force,\n",
    "                'y': len(V) + 0.1,\n",
    "                'text': f\"Average Labor Force Participation: {int(Average_Labor_Force)}\",\n",
    "                'showarrow': False,\n",
    "                'font': {'size': 16, 'color': 'black'}}],\n",
    "            'xaxis': {'title': f\"{Type}\"\n",
    "                  }}\n",
    "        fig = go.Figure(data=data, layout=layout)\n",
    "\n",
    "    elif Regions == 'Mindanao':\n",
    "        M_Index = []\n",
    "        for key in region_dict:\n",
    "          if key in M_Keys:\n",
    "            M_Index.append(region_dict[key])\n",
    "        M = sorted[M_Index]\n",
    "        df_final_noPH = df_final_noPH.loc[M]\n",
    "        trace_1 = go.Bar(x=df_final_noPH['Labor_Force_Participation_E'],\n",
    "                        y=df_final_noPH.index,\n",
    "                        orientation='h',\n",
    "                        marker={'color':colors_MD},\n",
    "                        hovertemplate='Labor Force Participation: %{x:.2f}<extra></extra>',\n",
    "                        name='Mindanao')\n",
    "        data = [trace_1]\n",
    "        layout = {\n",
    "            'title': f\"{Type} for {Regions}\",\n",
    "            'yaxis': {'categoryorder': 'array',\n",
    "                      'categoryarray': M,\n",
    "                      'title': 'Regions'},\n",
    "            'shapes': [{\n",
    "                'type': 'line',\n",
    "                'x0': Average_Labor_Force,\n",
    "                'y0': 0,\n",
    "                'x1': Average_Labor_Force,\n",
    "                'y1': len(M)-1,\n",
    "                'line': {\n",
    "                    'color': 'black',\n",
    "                    'width': 2}}],\n",
    "            'annotations': [{\n",
    "                'x': Average_Labor_Force,\n",
    "                'y': len(M) + 0.1,\n",
    "                'text': f\"Average Labor Force Participation: {int(Average_Labor_Force)}\",\n",
    "                'showarrow': False,\n",
    "                'font': {'size': 16, 'color': 'black'}}],\n",
    "            'xaxis': {'title': f\"{Type}\"}\n",
    "                  }\n",
    "        fig = go.Figure(data=data, layout=layout)\n",
    "\n",
    "    elif Regions == 'Luzon and Visayas':\n",
    "        LV_Index = []\n",
    "        for key in region_dict:\n",
    "          if key in LV_Keys:\n",
    "            LV_Index.append(region_dict[key])\n",
    "        LV = sorted[LV_Index]\n",
    "        L_Index = []\n",
    "        for key in region_dict:\n",
    "          if key in L_Keys:\n",
    "            L_Index.append(region_dict[key])\n",
    "        L = sorted[L_Index]\n",
    "        V_Index = []\n",
    "        for key in region_dict:\n",
    "          if key in V_Keys:\n",
    "            V_Index.append(region_dict[key])\n",
    "        V = sorted[V_Index]\n",
    "        df_final_noPH = df_final_noPH.loc[LV]\n",
    "        df_final_noPH_L = df_final_noPH.loc[L]\n",
    "        df_final_noPH_V = df_final_noPH.loc[V]\n",
    "        trace_1 = go.Bar(x=df_final_noPH_L['Labor_Force_Participation_E'],\n",
    "                        y=df_final_noPH_L.index,\n",
    "                        orientation='h',\n",
    "                        marker={'color':colors_LD},\n",
    "                        hovertemplate='Labor Force Participation: %{x:.2f}<extra></extra>',\n",
    "                        name='Luzon')\n",
    "        trace_2 = go.Bar(x=df_final_noPH_V['Labor_Force_Participation_E'],\n",
    "                        y=df_final_noPH_V.index,\n",
    "                        orientation='h',\n",
    "                        marker={'color':colors_VD},\n",
    "                        hovertemplate='Labor Force Participation: %{x:.2f}<extra></extra>',\n",
    "                        name='Visayas')\n",
    "\n",
    "        data = [trace_1,trace_2]\n",
    "        layout = {\n",
    "            'title':f\"{Type} for {Regions}\",\n",
    "            'yaxis': {'categoryorder': 'array',\n",
    "                      'categoryarray': LV,\n",
    "                      'title':'Regions'},\n",
    "            'shapes': [{\n",
    "                'type': 'line',\n",
    "                'x0': Average_Labor_Force,\n",
    "                'y0': 0,\n",
    "                'x1': Average_Labor_Force,\n",
    "                'y1': len(LV)-1,\n",
    "                'line': {\n",
    "                    'color': 'black',\n",
    "                    'width': 2}}],\n",
    "            'annotations': [{\n",
    "                'x': Average_Labor_Force,\n",
    "                'y': len(LV) + 0.1,\n",
    "                'text': f\"Average Labor Force Participation: {int(Average_Labor_Force)}\",\n",
    "                'showarrow': False,\n",
    "                'font': {'size': 16, 'color': 'black'}}],\n",
    "            'xaxis': {'title': f\"{Type}\"}\n",
    "                }\n",
    "        fig = go.Figure(data=data, layout=layout)\n",
    "\n",
    "    elif Regions == 'Luzon and Mindanao':\n",
    "        LM_Index = []\n",
    "        for key in region_dict:\n",
    "          if key in LM_Keys:\n",
    "            LM_Index.append(region_dict[key])\n",
    "        LM = sorted[LM_Index]\n",
    "        L_Index = []\n",
    "        for key in region_dict:\n",
    "          if key in L_Keys:\n",
    "            L_Index.append(region_dict[key])\n",
    "        L = sorted[L_Index]\n",
    "        M_Index = []\n",
    "        for key in region_dict:\n",
    "          if key in M_Keys:\n",
    "            M_Index.append(region_dict[key])\n",
    "        M = sorted[M_Index]\n",
    "        df_final_noPH = df_final_noPH.loc[LM]\n",
    "        df_final_noPH_L = df_final_noPH.loc[L]\n",
    "        df_final_noPH_M = df_final_noPH.loc[M]\n",
    "        trace_1 = go.Bar(x=df_final_noPH_L['Labor_Force_Participation_E'],\n",
    "                        y=df_final_noPH_L.index,\n",
    "                        orientation='h',\n",
    "                        marker={'color':colors_LD})\n",
    "        trace_2 = go.Bar(x=df_final_noPH_M['Labor_Force_Participation_E'],\n",
    "                        y=df_final_noPH_M.index,\n",
    "                        orientation='h',\n",
    "                        marker={'color':colors_MD})\n",
    "        data = [trace_1,trace_2]\n",
    "        layout = {\n",
    "            'yaxis': {'categoryorder': 'array',\n",
    "                      'categoryarray': LM},\n",
    "            'shapes': [{\n",
    "                'type': 'line',\n",
    "                'x0': Average_Labor_Force,\n",
    "                'y0': 0,\n",
    "                'x1': Average_Labor_Force,\n",
    "                'y1': len(LM)-1,\n",
    "                'line': {\n",
    "                    'color': 'black',\n",
    "                    'width': 2}}],\n",
    "            'annotations': [{\n",
    "                'x': Average_Labor_Force,\n",
    "                'y': len(LM) + 0.1,\n",
    "                'text': f\"Average Labor Force Participation: {int(Average_Labor_Force)}\",\n",
    "                'showarrow': False,\n",
    "                'font': {'size': 16, 'color': 'black'}}]\n",
    "                }\n",
    "        fig = go.Figure(data=data, layout=layout)\n",
    "\n",
    "    elif Regions == 'Visayas and Mindanao':\n",
    "        VM_Index = []\n",
    "        for key in region_dict:\n",
    "          if key in VM_Keys:\n",
    "            VM_Index.append(region_dict[key])\n",
    "        VM = sorted[VM_Index]\n",
    "        V_Index = []\n",
    "        for key in region_dict:\n",
    "          if key in V_Keys:\n",
    "            V_Index.append(region_dict[key])\n",
    "        V = sorted[V_Index]\n",
    "        M_Index = []\n",
    "        for key in region_dict:\n",
    "          if key in M_Keys:\n",
    "            M_Index.append(region_dict[key])\n",
    "        M = sorted[M_Index]\n",
    "        df_final_noPH = df_final_noPH.loc[VM]\n",
    "        df_final_noPH_V = df_final_noPH.loc[V]\n",
    "        df_final_noPH_M = df_final_noPH.loc[M]\n",
    "        trace_1 = go.Bar(x=df_final_noPH_V['Labor_Force_Participation_E'],\n",
    "                        y=df_final_noPH_V.index,\n",
    "                        orientation='h',\n",
    "                        marker={'color':colors_VD})\n",
    "        trace_2 = go.Bar(x=df_final_noPH_M['Labor_Force_Participation_E'],\n",
    "                        y=df_final_noPH_M.index,\n",
    "                        orientation='h',\n",
    "                        marker={'color':colors_MD})\n",
    "        data = [trace_1,trace_2]\n",
    "        layout = {\n",
    "            'yaxis': {'categoryorder': 'array',\n",
    "                      'categoryarray': VM},\n",
    "            'shapes': [{\n",
    "                'type': 'line',\n",
    "                'x0': Average_Labor_Force,\n",
    "                'y0': 0,\n",
    "                'x1': Average_Labor_Force,\n",
    "                'y1': len(VM)-1,\n",
    "                'line': {\n",
    "                    'color': 'black',\n",
    "                    'width': 2}}],\n",
    "            'annotations': [{\n",
    "                'x': Average_Labor_Force,\n",
    "                'y': len(VM) + 0.1,\n",
    "                'text': f\"Average Labor Force Participation: {int(Average_Labor_Force)}\",\n",
    "                'showarrow': False,\n",
    "                'font': {'size': 16, 'color': 'black'}}]\n",
    "                }\n",
    "        fig = go.Figure(data=data, layout=layout)\n",
    "\n",
    "    elif Regions == 'Luzon, Visayas, and Mindanao':\n",
    "        L_Index = []\n",
    "        for key in region_dict:\n",
    "          if key in L_Keys:\n",
    "            L_Index.append(region_dict[key])\n",
    "        L = sorted[L_Index]\n",
    "        V_Index = []\n",
    "        for key in region_dict:\n",
    "          if key in V_Keys:\n",
    "            V_Index.append(region_dict[key])\n",
    "        V = sorted[V_Index]\n",
    "        M_Index = []\n",
    "        for key in region_dict:\n",
    "          if key in M_Keys:\n",
    "            M_Index.append(region_dict[key])\n",
    "        M = sorted[M_Index]\n",
    "        df_final_noPH = df_final_noPH.loc[sorted]\n",
    "        df_final_noPH_L = df_final_noPH.loc[L]\n",
    "        df_final_noPH_V = df_final_noPH.loc[V]\n",
    "        df_final_noPH_M = df_final_noPH.loc[M]\n",
    "        trace_1 = go.Bar(x=df_final_noPH_L['Labor_Force_Participation_E'],\n",
    "                        y=df_final_noPH_L.index,\n",
    "                        orientation='h')\n",
    "        trace_2 = go.Bar(x=df_final_noPH_V['Labor_Force_Participation_E'],\n",
    "                        y=df_final_noPH_V.index,\n",
    "                        orientation='h')\n",
    "        trace_3 = go.Bar(x=df_final_noPH_M['Labor_Force_Participation_E'],\n",
    "                        y=df_final_noPH_M.index,\n",
    "                        orientation='h')\n",
    "        data = [trace_1,trace_2,trace_3]\n",
    "        layout = {\n",
    "            'yaxis': {'categoryorder': 'array',\n",
    "                      'categoryarray': sorted},\n",
    "            'shapes': [{\n",
    "                'type': 'line',\n",
    "                'x0': Average_Labor_Force,\n",
    "                'y0': 0,\n",
    "                'x1': Average_Labor_Force,\n",
    "                'y1': len(sorted)-1,\n",
    "                'line': {\n",
    "                    'color': 'black',\n",
    "                    'width': 2}}],\n",
    "            'annotations': [{\n",
    "                'x': Average_Labor_Force,\n",
    "                'y': len(sorted) + 0.1,\n",
    "                'text': str(Average_Labor_Force),\n",
    "                'showarrow': False,\n",
    "                'font': {'size': 16, 'color': 'black'}}]\n",
    "                }\n",
    "        fig = go.Figure(data=data, layout=layout)\n",
    "\n",
    "  elif Type == 'Labor Force and Unemployment':\n",
    "    Average_Labor_Force = df_final_noPH['Labor_Force_Participation_E'].mean()\n",
    "    Average_Unemployed = df_final_noPH['Unemployed_E'].mean()\n",
    "\n",
    "    if Regions == 'Luzon':\n",
    "        L_Index = []\n",
    "        for key in region_dict:\n",
    "          if key in L_Keys:\n",
    "            L_Index.append(region_dict[key])\n",
    "        L = sorted[L_Index]\n",
    "        df_final_noPH = df_final_noPH.loc[L]\n",
    "        trace_1 = go.Bar(x=df_final_noPH['Labor_Force_Participation_E'],\n",
    "                        y=df_final_noPH.index,\n",
    "                        orientation='h')\n",
    "        trace_2 = go.Bar(x=df_final_noPH['Unemployed_E'],\n",
    "                        y=df_final_noPH.index,\n",
    "                        orientation='h')\n",
    "        data = [trace_1,trace_2]\n",
    "        layout = {\n",
    "          'yaxis': {'categoryorder': 'array',\n",
    "                    'categoryarray': L},\n",
    "          'shapes': [{\n",
    "              'type': 'line',\n",
    "              'x0': Average_Unemployed,\n",
    "              'y0': 0,\n",
    "              'x1': Average_Unemployed,\n",
    "              'y1': len(L)-1,\n",
    "              'line': {\n",
    "                  'color': 'black',\n",
    "                  'width': 2}}],\n",
    "          'annotations': [{\n",
    "              'x': Average_Unemployed,\n",
    "              'y': len(L) + 0.1,\n",
    "              'text': str(Average_Unemployed),\n",
    "              'showarrow': False,\n",
    "              'font': {'size': 16, 'color': 'black'}}],\n",
    "          'barmode':'overlay'\n",
    "              }\n",
    "        fig = go.Figure(data=data, layout=layout)\n",
    "\n",
    "    elif Regions == 'Visayas':\n",
    "        V_Index = []\n",
    "        for key in region_dict:\n",
    "          if key in V_Keys:\n",
    "            V_Index.append(region_dict[key])\n",
    "        V = sorted[V_Index]\n",
    "        df_final_noPH = df_final_noPH.loc[V]\n",
    "        trace_1 = go.Bar(x=df_final_noPH['Labor_Force_Participation_E'],\n",
    "                        y=df_final_noPH.index,\n",
    "                        orientation='h')\n",
    "        trace_2 = go.Bar(x=df_final_noPH['Unemployed_E'],\n",
    "                        y=df_final_noPH.index,\n",
    "                        orientation='h')\n",
    "        data = [trace_1,trace_2]\n",
    "        layout = {\n",
    "          'yaxis': {'categoryorder': 'array',\n",
    "                    'categoryarray': V},\n",
    "          'shapes': [{\n",
    "              'type': 'line',\n",
    "              'x0': Average_Unemployed,\n",
    "              'y0': 0,\n",
    "              'x1': Average_Unemployed,\n",
    "              'y1': len(V)-1,\n",
    "              'line': {\n",
    "                  'color': 'black',\n",
    "                  'width': 2}}],\n",
    "          'annotations': [{\n",
    "              'x': Average_Unemployed,\n",
    "              'y': len(V) + 0.1,\n",
    "              'text': str(Average_Unemployed),\n",
    "              'showarrow': False,\n",
    "              'font': {'size': 16, 'color': 'black'}}],\n",
    "          'barmode':'overlay'\n",
    "              }\n",
    "        fig = go.Figure(data=data, layout=layout)\n",
    "\n",
    "    elif Regions == 'Mindanao':\n",
    "        M_Index = []\n",
    "        for key in region_dict:\n",
    "          if key in M_Keys:\n",
    "            M_Index.append(region_dict[key])\n",
    "        M = sorted[M_Index]\n",
    "        df_final_noPH = df_final_noPH.loc[M]\n",
    "        trace_1 = go.Bar(x=df_final_noPH['Labor_Force_Participation_E'],\n",
    "                        y=df_final_noPH.index,\n",
    "                        orientation='h')\n",
    "        trace_2 = go.Bar(x=df_final_noPH['Unemployed_E'],\n",
    "                        y=df_final_noPH.index,\n",
    "                        orientation='h')\n",
    "        data = [trace_1,trace_2]\n",
    "        layout = {\n",
    "          'yaxis': {'categoryorder': 'array',\n",
    "                    'categoryarray': M},\n",
    "          'shapes': [{\n",
    "              'type': 'line',\n",
    "              'x0': Average_Unemployed,\n",
    "              'y0': 0,\n",
    "              'x1': Average_Unemployed,\n",
    "              'y1': len(M)-1,\n",
    "              'line': {\n",
    "                  'color': 'black',\n",
    "                  'width': 2}}],\n",
    "          'annotations': [{\n",
    "              'x': Average_Unemployed,\n",
    "              'y': len(M) + 0.1,\n",
    "              'text': str(Average_Unemployed),\n",
    "              'showarrow': False,\n",
    "              'font': {'size': 16, 'color': 'black'}}],\n",
    "          'barmode':'overlay'\n",
    "              }\n",
    "        fig = go.Figure(data=data, layout=layout)\n",
    "\n",
    "    elif Regions == 'Luzon and Visayas':\n",
    "        LV_Index = []\n",
    "        for key in region_dict:\n",
    "          if key in LV_Keys:\n",
    "            LV_Index.append(region_dict[key])\n",
    "        LV = sorted[LV_Index]\n",
    "        L_Index = []\n",
    "        for key in region_dict:\n",
    "          if key in L_Keys:\n",
    "            L_Index.append(region_dict[key])\n",
    "        L = sorted[L_Index]\n",
    "        V_Index = []\n",
    "        for key in region_dict:\n",
    "          if key in V_Keys:\n",
    "            V_Index.append(region_dict[key])\n",
    "        V = sorted[V_Index]\n",
    "        df_final_noPH = df_final_noPH.loc[LV]\n",
    "        df_final_noPH_L = df_final_noPH.loc[L]\n",
    "        df_final_noPH_V = df_final_noPH.loc[V]\n",
    "        trace_1 = go.Bar(x=df_final_noPH_L['Labor_Force_Participation_E'],\n",
    "                        y=df_final_noPH_L.index,\n",
    "                        orientation='h')\n",
    "        trace_2 = go.Bar(x=df_final_noPH_L['Unemployed_E'],\n",
    "                        y=df_final_noPH_L.index,\n",
    "                        orientation='h')\n",
    "        trace_3 = go.Bar(x=df_final_noPH_V['Labor_Force_Participation_E'],\n",
    "                        y=df_final_noPH_V.index,\n",
    "                        orientation='h')\n",
    "        trace_4 = go.Bar(x=df_final_noPH_V['Unemployed_E'],\n",
    "                        y=df_final_noPH_V.index,\n",
    "                        orientation='h')\n",
    "        data = [trace_1,trace_2,trace_3,trace_4]\n",
    "        layout = {\n",
    "            'yaxis': {'categoryorder': 'array',\n",
    "                      'categoryarray': LV},\n",
    "            'shapes': [{\n",
    "                'type': 'line',\n",
    "                'x0': Average_Unemployed,\n",
    "                'y0': 0,\n",
    "                'x1': Average_Unemployed,\n",
    "                'y1': len(LV)-1,\n",
    "                'line': {\n",
    "                    'color': 'black',\n",
    "                    'width': 2}}],\n",
    "            'annotations': [{\n",
    "                'x': Average_Unemployed,\n",
    "                'y': len(LV) + 0.1,\n",
    "                'text': str(Average_Unemployed),\n",
    "                'showarrow': False,\n",
    "                'font': {'size': 16, 'color': 'black'}}],\n",
    "            'barmode':'overlay'\n",
    "                }\n",
    "        fig = go.Figure(data=data, layout=layout)\n",
    "\n",
    "    elif Regions == 'Luzon and Mindanao':\n",
    "        LM_Index = []\n",
    "        for key in region_dict:\n",
    "          if key in LM_Keys:\n",
    "            LM_Index.append(region_dict[key])\n",
    "        LM = sorted[LM_Index]\n",
    "        L_Index = []\n",
    "        for key in region_dict:\n",
    "          if key in L_Keys:\n",
    "            L_Index.append(region_dict[key])\n",
    "        L = sorted[L_Index]\n",
    "        M_Index = []\n",
    "        for key in region_dict:\n",
    "          if key in M_Keys:\n",
    "            M_Index.append(region_dict[key])\n",
    "        M = sorted[M_Index]\n",
    "        df_final_noPH = df_final_noPH.loc[LM]\n",
    "        df_final_noPH_L = df_final_noPH.loc[L]\n",
    "        df_final_noPH_M = df_final_noPH.loc[M]\n",
    "        trace_1 = go.Bar(x=df_final_noPH_L['Labor_Force_Participation_E'],\n",
    "                        y=df_final_noPH_L.index,\n",
    "                        orientation='h')\n",
    "        trace_2 = go.Bar(x=df_final_noPH_L['Unemployed_E'],\n",
    "                        y=df_final_noPH_L.index,\n",
    "                        orientation='h')\n",
    "        trace_3 = go.Bar(x=df_final_noPH_M['Labor_Force_Participation_E'],\n",
    "                        y=df_final_noPH_M.index,\n",
    "                        orientation='h')\n",
    "        trace_4 = go.Bar(x=df_final_noPH_M['Unemployed_E'],\n",
    "                        y=df_final_noPH_M.index,\n",
    "                        orientation='h')\n",
    "        data = [trace_1,trace_2,trace_3,trace_4]\n",
    "        layout = {\n",
    "            'yaxis': {'categoryorder': 'array',\n",
    "                      'categoryarray': LM},\n",
    "            'shapes': [{\n",
    "                'type': 'line',\n",
    "                'x0': Average_Unemployed,\n",
    "                'y0': 0,\n",
    "                'x1': Average_Unemployed,\n",
    "                'y1': len(LM)-1,\n",
    "                'line': {\n",
    "                    'color': 'black',\n",
    "                    'width': 2}}],\n",
    "            'annotations': [{\n",
    "                'x': Average_Unemployed,\n",
    "                'y': len(LM) + 0.1,\n",
    "                'text': str(Average_Unemployed),\n",
    "                'showarrow': False,\n",
    "                'font': {'size': 16, 'color': 'black'}}],\n",
    "            'barmode':'overlay'\n",
    "                }\n",
    "        fig = go.Figure(data=data, layout=layout)\n",
    "\n",
    "    elif Regions == 'Visayas and Mindanao':\n",
    "        VM_Index = []\n",
    "        for key in region_dict:\n",
    "          if key in VM_Keys:\n",
    "            VM_Index.append(region_dict[key])\n",
    "        VM = sorted[VM_Index]\n",
    "        V_Index = []\n",
    "        for key in region_dict:\n",
    "          if key in V_Keys:\n",
    "            V_Index.append(region_dict[key])\n",
    "        V = sorted[V_Index]\n",
    "        M_Index = []\n",
    "        for key in region_dict:\n",
    "          if key in M_Keys:\n",
    "            M_Index.append(region_dict[key])\n",
    "        M = sorted[M_Index]\n",
    "        df_final_noPH = df_final_noPH.loc[VM]\n",
    "        df_final_noPH_V = df_final_noPH.loc[V]\n",
    "        df_final_noPH_M = df_final_noPH.loc[M]\n",
    "        trace_1 = go.Bar(x=df_final_noPH_V['Labor_Force_Participation_E'],\n",
    "                        y=df_final_noPH_V.index,\n",
    "                        orientation='h')\n",
    "        trace_2 = go.Bar(x=df_final_noPH_V['Unemployed_E'],\n",
    "                        y=df_final_noPH_V.index,\n",
    "                        orientation='h')\n",
    "        trace_3 = go.Bar(x=df_final_noPH_M['Labor_Force_Participation_E'],\n",
    "                        y=df_final_noPH_M.index,\n",
    "                        orientation='h')\n",
    "        trace_4 = go.Bar(x=df_final_noPH_M['Unemployed_E'],\n",
    "                        y=df_final_noPH_M.index,\n",
    "                        orientation='h')\n",
    "        data = [trace_1,trace_2,trace_3,trace_4]\n",
    "        layout = {\n",
    "            'yaxis': {'categoryorder': 'array',\n",
    "                      'categoryarray': VM},\n",
    "            'shapes': [{\n",
    "                'type': 'line',\n",
    "                'x0': Average_Unemployed,\n",
    "                'y0': 0,\n",
    "                'x1': Average_Unemployed,\n",
    "                'y1': len(VM)-1,\n",
    "                'line': {\n",
    "                    'color': 'black',\n",
    "                    'width': 2}}],\n",
    "            'annotations': [{\n",
    "                'x': Average_Unemployed,\n",
    "                'y': len(VM) + 0.1,\n",
    "                'text': str(Average_Unemployed),\n",
    "                'showarrow': False,\n",
    "                'font': {'size': 16, 'color': 'black'}}],\n",
    "            'barmode':'overlay'\n",
    "                }\n",
    "        fig = go.Figure(data=data, layout=layout)\n",
    "\n",
    "    elif Regions == 'Luzon, Visayas, and Mindanao':\n",
    "        L_Index = []\n",
    "        for key in region_dict:\n",
    "          if key in L_Keys:\n",
    "            L_Index.append(region_dict[key])\n",
    "        L = sorted[L_Index]\n",
    "        V_Index = []\n",
    "        for key in region_dict:\n",
    "          if key in V_Keys:\n",
    "            V_Index.append(region_dict[key])\n",
    "        V = sorted[V_Index]\n",
    "        M_Index = []\n",
    "        for key in region_dict:\n",
    "          if key in M_Keys:\n",
    "            M_Index.append(region_dict[key])\n",
    "        M = sorted[M_Index]\n",
    "        df_final_noPH = df_final_noPH.loc[sorted]\n",
    "        df_final_noPH_L = df_final_noPH.loc[L]\n",
    "        df_final_noPH_V = df_final_noPH.loc[V]\n",
    "        df_final_noPH_M = df_final_noPH.loc[M]\n",
    "        trace_1 = go.Bar(x=df_final_noPH_L['Labor_Force_Participation_E'],\n",
    "                        y=df_final_noPH_L.index,\n",
    "                        orientation='h')\n",
    "        trace_2 = go.Bar(x=df_final_noPH_L['Unemployed_E'],\n",
    "                        y=df_final_noPH_L.index,\n",
    "                        orientation='h')\n",
    "        trace_3 = go.Bar(x=df_final_noPH_V['Labor_Force_Participation_E'],\n",
    "                        y=df_final_noPH_V.index,\n",
    "                        orientation='h')\n",
    "        trace_4 = go.Bar(x=df_final_noPH_V['Unemployed_E'],\n",
    "                        y=df_final_noPH_V.index,\n",
    "                        orientation='h')\n",
    "        trace_5 = go.Bar(x=df_final_noPH_M['Labor_Force_Participation_E'],\n",
    "                        y=df_final_noPH_M.index,\n",
    "                        orientation='h')\n",
    "        trace_6 = go.Bar(x=df_final_noPH_M['Unemployed_E'],\n",
    "                        y=df_final_noPH_M.index,\n",
    "                        orientation='h')\n",
    "        data = [trace_1,trace_2,trace_3,trace_4,trace_5,trace_6]\n",
    "        layout = {\n",
    "            'yaxis': {'categoryorder': 'array',\n",
    "                      'categoryarray': sorted},\n",
    "            'shapes': [{\n",
    "                'type': 'line',\n",
    "                'x0': Average_Unemployed,\n",
    "                'y0': 0,\n",
    "                'x1': Average_Unemployed,\n",
    "                'y1': len(sorted)-1,\n",
    "                'line': {\n",
    "                    'color': 'black',\n",
    "                    'width': 2}}],\n",
    "            'annotations': [{\n",
    "                'x': Average_Unemployed,\n",
    "                'y': len(sorted) + 0.1,\n",
    "                'text': str(Average_Unemployed),\n",
    "                'showarrow': False,\n",
    "                'font': {'size': 16, 'color': 'black'}}],\n",
    "            'barmode':'overlay'\n",
    "                }\n",
    "        fig = go.Figure(data=data, layout=layout)\n",
    "\n",
    "  elif Type == 'Labor Force and Employment':\n",
    "    Average_Labor_Force = df_final_noPH['Labor_Force_Participation_E'].mean()\n",
    "    Average_Employed = df_final_noPH['Employed_E'].mean()\n",
    "\n",
    "    if Regions == 'Luzon':\n",
    "        L_Index = []\n",
    "        for key in region_dict:\n",
    "          if key in L_Keys:\n",
    "            L_Index.append(region_dict[key])\n",
    "        L = sorted[L_Index]\n",
    "        df_final_noPH = df_final_noPH.loc[L]\n",
    "        trace_1 = go.Bar(x=df_final_noPH['Labor_Force_Participation_E'],\n",
    "                        y=df_final_noPH.index,\n",
    "                        orientation='h')\n",
    "        trace_2 = go.Bar(x=df_final_noPH['Employed_E'],\n",
    "                        y=df_final_noPH.index,\n",
    "                        orientation='h')\n",
    "        data = [trace_1,trace_2]\n",
    "        layout = {\n",
    "          'yaxis': {'categoryorder': 'array',\n",
    "                    'categoryarray': L},\n",
    "          'shapes': [{\n",
    "              'type': 'line',\n",
    "              'x0': Average_Employed,\n",
    "              'y0': 0,\n",
    "              'x1': Average_Employed,\n",
    "              'y1': len(L)-1,\n",
    "              'line': {\n",
    "                  'color': 'black',\n",
    "                  'width': 2}}],\n",
    "          'annotations': [{\n",
    "              'x': Average_Employed,\n",
    "              'y': len(L) + 0.1,\n",
    "              'text': str(Average_Employed),\n",
    "              'showarrow': False,\n",
    "              'font': {'size': 16, 'color': 'black'}}],\n",
    "          'barmode':'overlay'\n",
    "              }\n",
    "        fig = go.Figure(data=data, layout=layout)\n",
    "\n",
    "    elif Regions == 'Visayas':\n",
    "        V_Index = []\n",
    "        for key in region_dict:\n",
    "          if key in V_Keys:\n",
    "            V_Index.append(region_dict[key])\n",
    "        V = sorted[V_Index]\n",
    "        df_final_noPH = df_final_noPH.loc[V]\n",
    "        trace_1 = go.Bar(x=df_final_noPH['Labor_Force_Participation_E'],\n",
    "                        y=df_final_noPH.index,\n",
    "                        orientation='h')\n",
    "        trace_2 = go.Bar(x=df_final_noPH['Employed_E'],\n",
    "                        y=df_final_noPH.index,\n",
    "                        orientation='h')\n",
    "        data = [trace_1,trace_2]\n",
    "        layout = {\n",
    "          'yaxis': {'categoryorder': 'array',\n",
    "                    'categoryarray': V},\n",
    "          'shapes': [{\n",
    "              'type': 'line',\n",
    "              'x0': Average_Employed,\n",
    "              'y0': 0,\n",
    "              'x1': Average_Employed,\n",
    "              'y1': len(V)-1,\n",
    "              'line': {\n",
    "                  'color': 'black',\n",
    "                  'width': 2}}],\n",
    "          'annotations': [{\n",
    "              'x': Average_Employed,\n",
    "              'y': len(V) + 0.1,\n",
    "              'text': str(Average_Employed),\n",
    "              'showarrow': False,\n",
    "              'font': {'size': 16, 'color': 'black'}}],\n",
    "          'barmode':'overlay'\n",
    "              }\n",
    "        fig = go.Figure(data=data, layout=layout)\n",
    "\n",
    "    elif Regions == 'Mindanao':\n",
    "        M_Index = []\n",
    "        for key in region_dict:\n",
    "          if key in M_Keys:\n",
    "            M_Index.append(region_dict[key])\n",
    "        M = sorted[M_Index]\n",
    "        df_final_noPH = df_final_noPH.loc[M]\n",
    "        trace_1 = go.Bar(x=df_final_noPH['Labor_Force_Participation_E'],\n",
    "                        y=df_final_noPH.index,\n",
    "                        orientation='h')\n",
    "        trace_2 = go.Bar(x=df_final_noPH['Employed_E'],\n",
    "                        y=df_final_noPH.index,\n",
    "                        orientation='h')\n",
    "        data = [trace_1,trace_2]\n",
    "        layout = {\n",
    "          'yaxis': {'categoryorder': 'array',\n",
    "                    'categoryarray': M},\n",
    "          'shapes': [{\n",
    "              'type': 'line',\n",
    "              'x0': Average_Employed,\n",
    "              'y0': 0,\n",
    "              'x1': Average_Employed,\n",
    "              'y1': len(M)-1,\n",
    "              'line': {\n",
    "                  'color': 'black',\n",
    "                  'width': 2}}],\n",
    "          'annotations': [{\n",
    "              'x': Average_Employed,\n",
    "              'y': len(M) + 0.1,\n",
    "              'text': str(Average_Employed),\n",
    "              'showarrow': False,\n",
    "              'font': {'size': 16, 'color': 'black'}}],\n",
    "          'barmode':'overlay'\n",
    "              }\n",
    "        fig = go.Figure(data=data, layout=layout)\n",
    "\n",
    "    elif Regions == 'Luzon and Visayas':\n",
    "        LV_Index = []\n",
    "        for key in region_dict:\n",
    "          if key in LV_Keys:\n",
    "            LV_Index.append(region_dict[key])\n",
    "        LV = sorted[LV_Index]\n",
    "        L_Index = []\n",
    "        for key in region_dict:\n",
    "          if key in L_Keys:\n",
    "            L_Index.append(region_dict[key])\n",
    "        L = sorted[L_Index]\n",
    "        V_Index = []\n",
    "        for key in region_dict:\n",
    "          if key in V_Keys:\n",
    "            V_Index.append(region_dict[key])\n",
    "        V = sorted[V_Index]\n",
    "        df_final_noPH = df_final_noPH.loc[LV]\n",
    "        df_final_noPH_L = df_final_noPH.loc[L]\n",
    "        df_final_noPH_V = df_final_noPH.loc[V]\n",
    "        trace_1 = go.Bar(x=df_final_noPH_L['Labor_Force_Participation_E'],\n",
    "                        y=df_final_noPH_L.index,\n",
    "                        orientation='h')\n",
    "        trace_2 = go.Bar(x=df_final_noPH_L['Employed_E'],\n",
    "                        y=df_final_noPH_L.index,\n",
    "                        orientation='h')\n",
    "        trace_3 = go.Bar(x=df_final_noPH_V['Labor_Force_Participation_E'],\n",
    "                        y=df_final_noPH_V.index,\n",
    "                        orientation='h')\n",
    "        trace_4 = go.Bar(x=df_final_noPH_V['Employed_E'],\n",
    "                        y=df_final_noPH_V.index,\n",
    "                        orientation='h')\n",
    "        data = [trace_1,trace_2,trace_3,trace_4]\n",
    "        layout = {\n",
    "            'yaxis': {'categoryorder': 'array',\n",
    "                      'categoryarray': LV},\n",
    "            'shapes': [{\n",
    "                'type': 'line',\n",
    "                'x0': Average_Employed,\n",
    "                'y0': 0,\n",
    "                'x1': Average_Employed,\n",
    "                'y1': len(LV)-1,\n",
    "                'line': {\n",
    "                    'color': 'black',\n",
    "                    'width': 2}}],\n",
    "            'annotations': [{\n",
    "                'x': Average_Employed,\n",
    "                'y': len(LV) + 0.1,\n",
    "                'text': str(Average_Employed),\n",
    "                'showarrow': False,\n",
    "                'font': {'size': 16, 'color': 'black'}}],\n",
    "            'barmode':'overlay'\n",
    "                }\n",
    "        fig = go.Figure(data=data, layout=layout)\n",
    "\n",
    "    elif Regions == 'Luzon and Mindanao':\n",
    "        LM_Index = []\n",
    "        for key in region_dict:\n",
    "          if key in LM_Keys:\n",
    "            LM_Index.append(region_dict[key])\n",
    "        LM = sorted[LM_Index]\n",
    "        L_Index = []\n",
    "        for key in region_dict:\n",
    "          if key in L_Keys:\n",
    "            L_Index.append(region_dict[key])\n",
    "        L = sorted[L_Index]\n",
    "        M_Index = []\n",
    "        for key in region_dict:\n",
    "          if key in M_Keys:\n",
    "            M_Index.append(region_dict[key])\n",
    "        M = sorted[M_Index]\n",
    "        df_final_noPH = df_final_noPH.loc[LM]\n",
    "        df_final_noPH_L = df_final_noPH.loc[L]\n",
    "        df_final_noPH_M = df_final_noPH.loc[M]\n",
    "        trace_1 = go.Bar(x=df_final_noPH_L['Labor_Force_Participation_E'],\n",
    "                        y=df_final_noPH_L.index,\n",
    "                        orientation='h')\n",
    "        trace_2 = go.Bar(x=df_final_noPH_L['Employed_E'],\n",
    "                        y=df_final_noPH_L.index,\n",
    "                        orientation='h')\n",
    "        trace_3 = go.Bar(x=df_final_noPH_M['Labor_Force_Participation_E'],\n",
    "                        y=df_final_noPH_M.index,\n",
    "                        orientation='h')\n",
    "        trace_4 = go.Bar(x=df_final_noPH_M['Employed_E'],\n",
    "                        y=df_final_noPH_M.index,\n",
    "                        orientation='h')\n",
    "        data = [trace_1,trace_2,trace_3,trace_4]\n",
    "        layout = {\n",
    "            'yaxis': {'categoryorder': 'array',\n",
    "                      'categoryarray': LM},\n",
    "            'shapes': [{\n",
    "                'type': 'line',\n",
    "                'x0': Average_Employed,\n",
    "                'y0': 0,\n",
    "                'x1': Average_Employed,\n",
    "                'y1': len(LM)-1,\n",
    "                'line': {\n",
    "                    'color': 'black',\n",
    "                    'width': 2}}],\n",
    "            'annotations': [{\n",
    "                'x': Average_Employed,\n",
    "                'y': len(LM) + 0.1,\n",
    "                'text': str(Average_Employed),\n",
    "                'showarrow': False,\n",
    "                'font': {'size': 16, 'color': 'black'}}],\n",
    "            'barmode':'overlay'\n",
    "                }\n",
    "        fig = go.Figure(data=data, layout=layout)\n",
    "\n",
    "    elif Regions == 'Visayas and Mindanao':\n",
    "        VM_Index = []\n",
    "        for key in region_dict:\n",
    "          if key in VM_Keys:\n",
    "            VM_Index.append(region_dict[key])\n",
    "        VM = sorted[VM_Index]\n",
    "        V_Index = []\n",
    "        for key in region_dict:\n",
    "          if key in V_Keys:\n",
    "            V_Index.append(region_dict[key])\n",
    "        V = sorted[V_Index]\n",
    "        M_Index = []\n",
    "        for key in region_dict:\n",
    "          if key in M_Keys:\n",
    "            M_Index.append(region_dict[key])\n",
    "        M = sorted[M_Index]\n",
    "        df_final_noPH = df_final_noPH.loc[VM]\n",
    "        df_final_noPH_V = df_final_noPH.loc[V]\n",
    "        df_final_noPH_M = df_final_noPH.loc[M]\n",
    "        trace_1 = go.Bar(x=df_final_noPH_V['Labor_Force_Participation_E'],\n",
    "                        y=df_final_noPH_V.index,\n",
    "                        orientation='h')\n",
    "        trace_2 = go.Bar(x=df_final_noPH_V['Employed_E'],\n",
    "                        y=df_final_noPH_V.index,\n",
    "                        orientation='h')\n",
    "        trace_3 = go.Bar(x=df_final_noPH_M['Labor_Force_Participation_E'],\n",
    "                        y=df_final_noPH_M.index,\n",
    "                        orientation='h')\n",
    "        trace_4 = go.Bar(x=df_final_noPH_M['Employed_E'],\n",
    "                        y=df_final_noPH_M.index,\n",
    "                        orientation='h')\n",
    "        data = [trace_1,trace_2,trace_3,trace_4]\n",
    "        layout = {\n",
    "            'yaxis': {'categoryorder': 'array',\n",
    "                      'categoryarray': VM},\n",
    "            'shapes': [{\n",
    "                'type': 'line',\n",
    "                'x0': Average_Employed,\n",
    "                'y0': 0,\n",
    "                'x1': Average_Employed,\n",
    "                'y1': len(VM)-1,\n",
    "                'line': {\n",
    "                    'color': 'black',\n",
    "                    'width': 2}}],\n",
    "            'annotations': [{\n",
    "                'x': Average_Employed,\n",
    "                'y': len(VM) + 0.1,\n",
    "                'text': str(Average_Employed),\n",
    "                'showarrow': False,\n",
    "                'font': {'size': 16, 'color': 'black'}}],\n",
    "            'barmode':'overlay'\n",
    "                }\n",
    "        fig = go.Figure(data=data, layout=layout)\n",
    "\n",
    "    elif Regions == 'Luzon, Visayas, and Mindanao':\n",
    "        L_Index = []\n",
    "        for key in region_dict:\n",
    "          if key in L_Keys:\n",
    "            L_Index.append(region_dict[key])\n",
    "        L = sorted[L_Index]\n",
    "        V_Index = []\n",
    "        for key in region_dict:\n",
    "          if key in V_Keys:\n",
    "            V_Index.append(region_dict[key])\n",
    "        V = sorted[V_Index]\n",
    "        M_Index = []\n",
    "        for key in region_dict:\n",
    "          if key in M_Keys:\n",
    "            M_Index.append(region_dict[key])\n",
    "        M = sorted[M_Index]\n",
    "        df_final_noPH = df_final_noPH.loc[sorted]\n",
    "        df_final_noPH_L = df_final_noPH.loc[L]\n",
    "        df_final_noPH_V = df_final_noPH.loc[V]\n",
    "        df_final_noPH_M = df_final_noPH.loc[M]\n",
    "\n",
    "        trace_1 = go.Bar(x=df_final_noPH_L['Labor_Force_Participation_E'],\n",
    "                        y=df_final_noPH_L.index,\n",
    "                        orientation='h',\n",
    "                        marker={'color':colors_LD},\n",
    "                        hovertemplate='Labor Force Participation: %{x:.2f}<extra></extra>',\n",
    "                        name='Luzon Labor Force Participation')\n",
    "        trace_2 = go.Bar(x=df_final_noPH_L['Employed_E'],\n",
    "                        y=df_final_noPH_L.index,\n",
    "                        orientation='h',\n",
    "                        marker={'color':colors_LL},\n",
    "                        hovertemplate='No. of Employed: %{x:.2f}<extra></extra>',\n",
    "                        name='Luzon No. of Employed')\n",
    "        trace_3 = go.Bar(x=df_final_noPH_V['Labor_Force_Participation_E'],\n",
    "                        y=df_final_noPH_V.index,\n",
    "                        orientation='h',\n",
    "                        marker={'color':colors_VD},\n",
    "                        hovertemplate='Labor Force Participation: %{x:.2f}<extra></extra>',\n",
    "                        name='Visayas Labor Force Participation')\n",
    "        trace_4 = go.Bar(x=df_final_noPH_V['Employed_E'],\n",
    "                        y=df_final_noPH_V.index,\n",
    "                        orientation='h',\n",
    "                        marker={'color':colors_VL},\n",
    "                        hovertemplate='No. of Employed: %{x:.2f}<extra></extra>',\n",
    "                        name='Visayas No. of Employed')\n",
    "        trace_5 = go.Bar(x=df_final_noPH_M['Labor_Force_Participation_E'],\n",
    "                        y=df_final_noPH_M.index,\n",
    "                        orientation='h',\n",
    "                        marker={'color':colors_MD},\n",
    "                        hovertemplate='Labor Force Participation: %{x:.2f}<extra></extra>',\n",
    "                        name='Mindanao Labor Force Participation')\n",
    "        trace_6 = go.Bar(x=df_final_noPH_M['Employed_E'],\n",
    "                        y=df_final_noPH_M.index,\n",
    "                        orientation='h',\n",
    "                        marker={'color':colors_ML},\n",
    "                        hovertemplate='No. of Employed: %{x:.2f}<extra></extra>',\n",
    "                        name='Mindanao No. of Employed')\n",
    "        data = [trace_1,trace_2,trace_3,trace_4,trace_5,trace_6]\n",
    "        layout = {\n",
    "            'title':f\"{Type} for {Regions}\",\n",
    "            'yaxis': {'categoryorder': 'array',\n",
    "                      'categoryarray': sorted,\n",
    "                      'title':'Regions'},\n",
    "            'shapes': [{\n",
    "                'type': 'line',\n",
    "                'x0': Average_Employed,\n",
    "                'y0': 0,\n",
    "                'x1': Average_Employed,\n",
    "                'y1': len(sorted)-1,\n",
    "                'line': {\n",
    "                    'color': 'black',\n",
    "                    'width': 2}}],\n",
    "            'annotations': [{\n",
    "                'x': Average_Employed,\n",
    "                'y': len(sorted) + 0.1,\n",
    "                'text': f\"Average No. of Employed: {int(Average_Employed)}\",\n",
    "                'showarrow': False,\n",
    "                'font': {'size': 16, 'color': 'black'}}],\n",
    "            'barmode':'overlay',\n",
    "            'xaxis': {'title': f\"{Type}\"}\n",
    "                  }\n",
    "        fig = go.Figure(data=data, layout=layout)\n",
    "\n",
    "  return fig.show()"
   ],
   "metadata": {
    "collapsed": false
   }
  },
  {
   "cell_type": "code",
   "execution_count": 84,
   "outputs": [
    {
     "data": {
      "application/vnd.plotly.v1+json": {
       "data": [
        {
         "hovertemplate": "Labor Force Participation: %{x:.2f}<extra></extra>",
         "marker": {
          "color": [
           "#fcb97d",
           "#fcb97d",
           "#fcb97d",
           "#fcb97d",
           "#fcb97d",
           "#fcb97d",
           "#fcb97d",
           "#fcb97d"
          ]
         },
         "name": "Luzon",
         "orientation": "h",
         "x": [
          839612.75,
          1348602.25,
          1643469.5,
          2371636.25,
          2454793.25,
          5524151.0,
          6209123.5,
          7475319.75
         ],
         "y": [
          "CAR",
          "MIMAROPA",
          "REGION II - CAGAYAN VALLEY",
          "REGION I - ILOCOS REGION",
          "REGION V - BICOL REGION",
          "REGION III - CENTRAL LUZON",
          "NCR",
          "REGION IVA - CALABARZON"
         ],
         "type": "bar"
        },
        {
         "hovertemplate": "Labor Force Participation: %{x:.2f}<extra></extra>",
         "marker": {
          "color": [
           "#a0b9c6",
           "#a0b9c6",
           "#a0b9c6"
          ]
         },
         "name": "Visayas",
         "orientation": "h",
         "x": [
          2004843.25,
          3539829.75,
          3653438.0
         ],
         "y": [
          "REGION VIII - EASTERN VISAYAS",
          "REGION VI - WESTERN VISAYAS",
          "REGION VII - CENTRAL VISAYAS"
         ],
         "type": "bar"
        }
       ],
       "layout": {
        "annotations": [
         {
          "font": {
           "color": "black",
           "size": 16
          },
          "showarrow": false,
          "text": "Average Labor Force Participation: 2848546",
          "x": 2848546.029411765,
          "y": 11.1
         }
        ],
        "shapes": [
         {
          "line": {
           "color": "black",
           "width": 2
          },
          "type": "line",
          "x0": 2848546.029411765,
          "x1": 2848546.029411765,
          "y0": 0,
          "y1": 10
         }
        ],
        "title": {
         "text": "Labor Force for Luzon and Visayas"
        },
        "xaxis": {
         "title": {
          "text": "Labor Force"
         }
        },
        "yaxis": {
         "categoryarray": [
          "CAR",
          "MIMAROPA",
          "REGION II - CAGAYAN VALLEY",
          "REGION VIII - EASTERN VISAYAS",
          "REGION I - ILOCOS REGION",
          "REGION V - BICOL REGION",
          "REGION VI - WESTERN VISAYAS",
          "REGION VII - CENTRAL VISAYAS",
          "REGION III - CENTRAL LUZON",
          "NCR",
          "REGION IVA - CALABARZON"
         ],
         "categoryorder": "array",
         "title": {
          "text": "Regions"
         }
        },
        "template": {
         "data": {
          "bar": [
           {
            "error_x": {
             "color": "#2a3f5f"
            },
            "error_y": {
             "color": "#2a3f5f"
            },
            "marker": {
             "line": {
              "color": "#E5ECF6",
              "width": 0.5
             },
             "pattern": {
              "fillmode": "overlay",
              "size": 10,
              "solidity": 0.2
             }
            },
            "type": "bar"
           }
          ],
          "barpolar": [
           {
            "marker": {
             "line": {
              "color": "#E5ECF6",
              "width": 0.5
             },
             "pattern": {
              "fillmode": "overlay",
              "size": 10,
              "solidity": 0.2
             }
            },
            "type": "barpolar"
           }
          ],
          "carpet": [
           {
            "aaxis": {
             "endlinecolor": "#2a3f5f",
             "gridcolor": "white",
             "linecolor": "white",
             "minorgridcolor": "white",
             "startlinecolor": "#2a3f5f"
            },
            "baxis": {
             "endlinecolor": "#2a3f5f",
             "gridcolor": "white",
             "linecolor": "white",
             "minorgridcolor": "white",
             "startlinecolor": "#2a3f5f"
            },
            "type": "carpet"
           }
          ],
          "choropleth": [
           {
            "colorbar": {
             "outlinewidth": 0,
             "ticks": ""
            },
            "type": "choropleth"
           }
          ],
          "contour": [
           {
            "colorbar": {
             "outlinewidth": 0,
             "ticks": ""
            },
            "colorscale": [
             [
              0.0,
              "#0d0887"
             ],
             [
              0.1111111111111111,
              "#46039f"
             ],
             [
              0.2222222222222222,
              "#7201a8"
             ],
             [
              0.3333333333333333,
              "#9c179e"
             ],
             [
              0.4444444444444444,
              "#bd3786"
             ],
             [
              0.5555555555555556,
              "#d8576b"
             ],
             [
              0.6666666666666666,
              "#ed7953"
             ],
             [
              0.7777777777777778,
              "#fb9f3a"
             ],
             [
              0.8888888888888888,
              "#fdca26"
             ],
             [
              1.0,
              "#f0f921"
             ]
            ],
            "type": "contour"
           }
          ],
          "contourcarpet": [
           {
            "colorbar": {
             "outlinewidth": 0,
             "ticks": ""
            },
            "type": "contourcarpet"
           }
          ],
          "heatmap": [
           {
            "colorbar": {
             "outlinewidth": 0,
             "ticks": ""
            },
            "colorscale": [
             [
              0.0,
              "#0d0887"
             ],
             [
              0.1111111111111111,
              "#46039f"
             ],
             [
              0.2222222222222222,
              "#7201a8"
             ],
             [
              0.3333333333333333,
              "#9c179e"
             ],
             [
              0.4444444444444444,
              "#bd3786"
             ],
             [
              0.5555555555555556,
              "#d8576b"
             ],
             [
              0.6666666666666666,
              "#ed7953"
             ],
             [
              0.7777777777777778,
              "#fb9f3a"
             ],
             [
              0.8888888888888888,
              "#fdca26"
             ],
             [
              1.0,
              "#f0f921"
             ]
            ],
            "type": "heatmap"
           }
          ],
          "heatmapgl": [
           {
            "colorbar": {
             "outlinewidth": 0,
             "ticks": ""
            },
            "colorscale": [
             [
              0.0,
              "#0d0887"
             ],
             [
              0.1111111111111111,
              "#46039f"
             ],
             [
              0.2222222222222222,
              "#7201a8"
             ],
             [
              0.3333333333333333,
              "#9c179e"
             ],
             [
              0.4444444444444444,
              "#bd3786"
             ],
             [
              0.5555555555555556,
              "#d8576b"
             ],
             [
              0.6666666666666666,
              "#ed7953"
             ],
             [
              0.7777777777777778,
              "#fb9f3a"
             ],
             [
              0.8888888888888888,
              "#fdca26"
             ],
             [
              1.0,
              "#f0f921"
             ]
            ],
            "type": "heatmapgl"
           }
          ],
          "histogram": [
           {
            "marker": {
             "pattern": {
              "fillmode": "overlay",
              "size": 10,
              "solidity": 0.2
             }
            },
            "type": "histogram"
           }
          ],
          "histogram2d": [
           {
            "colorbar": {
             "outlinewidth": 0,
             "ticks": ""
            },
            "colorscale": [
             [
              0.0,
              "#0d0887"
             ],
             [
              0.1111111111111111,
              "#46039f"
             ],
             [
              0.2222222222222222,
              "#7201a8"
             ],
             [
              0.3333333333333333,
              "#9c179e"
             ],
             [
              0.4444444444444444,
              "#bd3786"
             ],
             [
              0.5555555555555556,
              "#d8576b"
             ],
             [
              0.6666666666666666,
              "#ed7953"
             ],
             [
              0.7777777777777778,
              "#fb9f3a"
             ],
             [
              0.8888888888888888,
              "#fdca26"
             ],
             [
              1.0,
              "#f0f921"
             ]
            ],
            "type": "histogram2d"
           }
          ],
          "histogram2dcontour": [
           {
            "colorbar": {
             "outlinewidth": 0,
             "ticks": ""
            },
            "colorscale": [
             [
              0.0,
              "#0d0887"
             ],
             [
              0.1111111111111111,
              "#46039f"
             ],
             [
              0.2222222222222222,
              "#7201a8"
             ],
             [
              0.3333333333333333,
              "#9c179e"
             ],
             [
              0.4444444444444444,
              "#bd3786"
             ],
             [
              0.5555555555555556,
              "#d8576b"
             ],
             [
              0.6666666666666666,
              "#ed7953"
             ],
             [
              0.7777777777777778,
              "#fb9f3a"
             ],
             [
              0.8888888888888888,
              "#fdca26"
             ],
             [
              1.0,
              "#f0f921"
             ]
            ],
            "type": "histogram2dcontour"
           }
          ],
          "mesh3d": [
           {
            "colorbar": {
             "outlinewidth": 0,
             "ticks": ""
            },
            "type": "mesh3d"
           }
          ],
          "parcoords": [
           {
            "line": {
             "colorbar": {
              "outlinewidth": 0,
              "ticks": ""
             }
            },
            "type": "parcoords"
           }
          ],
          "pie": [
           {
            "automargin": true,
            "type": "pie"
           }
          ],
          "scatter": [
           {
            "marker": {
             "colorbar": {
              "outlinewidth": 0,
              "ticks": ""
             }
            },
            "type": "scatter"
           }
          ],
          "scatter3d": [
           {
            "line": {
             "colorbar": {
              "outlinewidth": 0,
              "ticks": ""
             }
            },
            "marker": {
             "colorbar": {
              "outlinewidth": 0,
              "ticks": ""
             }
            },
            "type": "scatter3d"
           }
          ],
          "scattercarpet": [
           {
            "marker": {
             "colorbar": {
              "outlinewidth": 0,
              "ticks": ""
             }
            },
            "type": "scattercarpet"
           }
          ],
          "scattergeo": [
           {
            "marker": {
             "colorbar": {
              "outlinewidth": 0,
              "ticks": ""
             }
            },
            "type": "scattergeo"
           }
          ],
          "scattergl": [
           {
            "marker": {
             "colorbar": {
              "outlinewidth": 0,
              "ticks": ""
             }
            },
            "type": "scattergl"
           }
          ],
          "scattermapbox": [
           {
            "marker": {
             "colorbar": {
              "outlinewidth": 0,
              "ticks": ""
             }
            },
            "type": "scattermapbox"
           }
          ],
          "scatterpolar": [
           {
            "marker": {
             "colorbar": {
              "outlinewidth": 0,
              "ticks": ""
             }
            },
            "type": "scatterpolar"
           }
          ],
          "scatterpolargl": [
           {
            "marker": {
             "colorbar": {
              "outlinewidth": 0,
              "ticks": ""
             }
            },
            "type": "scatterpolargl"
           }
          ],
          "scatterternary": [
           {
            "marker": {
             "colorbar": {
              "outlinewidth": 0,
              "ticks": ""
             }
            },
            "type": "scatterternary"
           }
          ],
          "surface": [
           {
            "colorbar": {
             "outlinewidth": 0,
             "ticks": ""
            },
            "colorscale": [
             [
              0.0,
              "#0d0887"
             ],
             [
              0.1111111111111111,
              "#46039f"
             ],
             [
              0.2222222222222222,
              "#7201a8"
             ],
             [
              0.3333333333333333,
              "#9c179e"
             ],
             [
              0.4444444444444444,
              "#bd3786"
             ],
             [
              0.5555555555555556,
              "#d8576b"
             ],
             [
              0.6666666666666666,
              "#ed7953"
             ],
             [
              0.7777777777777778,
              "#fb9f3a"
             ],
             [
              0.8888888888888888,
              "#fdca26"
             ],
             [
              1.0,
              "#f0f921"
             ]
            ],
            "type": "surface"
           }
          ],
          "table": [
           {
            "cells": {
             "fill": {
              "color": "#EBF0F8"
             },
             "line": {
              "color": "white"
             }
            },
            "header": {
             "fill": {
              "color": "#C8D4E3"
             },
             "line": {
              "color": "white"
             }
            },
            "type": "table"
           }
          ]
         },
         "layout": {
          "annotationdefaults": {
           "arrowcolor": "#2a3f5f",
           "arrowhead": 0,
           "arrowwidth": 1
          },
          "autotypenumbers": "strict",
          "coloraxis": {
           "colorbar": {
            "outlinewidth": 0,
            "ticks": ""
           }
          },
          "colorscale": {
           "diverging": [
            [
             0,
             "#8e0152"
            ],
            [
             0.1,
             "#c51b7d"
            ],
            [
             0.2,
             "#de77ae"
            ],
            [
             0.3,
             "#f1b6da"
            ],
            [
             0.4,
             "#fde0ef"
            ],
            [
             0.5,
             "#f7f7f7"
            ],
            [
             0.6,
             "#e6f5d0"
            ],
            [
             0.7,
             "#b8e186"
            ],
            [
             0.8,
             "#7fbc41"
            ],
            [
             0.9,
             "#4d9221"
            ],
            [
             1,
             "#276419"
            ]
           ],
           "sequential": [
            [
             0.0,
             "#0d0887"
            ],
            [
             0.1111111111111111,
             "#46039f"
            ],
            [
             0.2222222222222222,
             "#7201a8"
            ],
            [
             0.3333333333333333,
             "#9c179e"
            ],
            [
             0.4444444444444444,
             "#bd3786"
            ],
            [
             0.5555555555555556,
             "#d8576b"
            ],
            [
             0.6666666666666666,
             "#ed7953"
            ],
            [
             0.7777777777777778,
             "#fb9f3a"
            ],
            [
             0.8888888888888888,
             "#fdca26"
            ],
            [
             1.0,
             "#f0f921"
            ]
           ],
           "sequentialminus": [
            [
             0.0,
             "#0d0887"
            ],
            [
             0.1111111111111111,
             "#46039f"
            ],
            [
             0.2222222222222222,
             "#7201a8"
            ],
            [
             0.3333333333333333,
             "#9c179e"
            ],
            [
             0.4444444444444444,
             "#bd3786"
            ],
            [
             0.5555555555555556,
             "#d8576b"
            ],
            [
             0.6666666666666666,
             "#ed7953"
            ],
            [
             0.7777777777777778,
             "#fb9f3a"
            ],
            [
             0.8888888888888888,
             "#fdca26"
            ],
            [
             1.0,
             "#f0f921"
            ]
           ]
          },
          "colorway": [
           "#636efa",
           "#EF553B",
           "#00cc96",
           "#ab63fa",
           "#FFA15A",
           "#19d3f3",
           "#FF6692",
           "#B6E880",
           "#FF97FF",
           "#FECB52"
          ],
          "font": {
           "color": "#2a3f5f"
          },
          "geo": {
           "bgcolor": "white",
           "lakecolor": "white",
           "landcolor": "#E5ECF6",
           "showlakes": true,
           "showland": true,
           "subunitcolor": "white"
          },
          "hoverlabel": {
           "align": "left"
          },
          "hovermode": "closest",
          "mapbox": {
           "style": "light"
          },
          "paper_bgcolor": "white",
          "plot_bgcolor": "#E5ECF6",
          "polar": {
           "angularaxis": {
            "gridcolor": "white",
            "linecolor": "white",
            "ticks": ""
           },
           "bgcolor": "#E5ECF6",
           "radialaxis": {
            "gridcolor": "white",
            "linecolor": "white",
            "ticks": ""
           }
          },
          "scene": {
           "xaxis": {
            "backgroundcolor": "#E5ECF6",
            "gridcolor": "white",
            "gridwidth": 2,
            "linecolor": "white",
            "showbackground": true,
            "ticks": "",
            "zerolinecolor": "white"
           },
           "yaxis": {
            "backgroundcolor": "#E5ECF6",
            "gridcolor": "white",
            "gridwidth": 2,
            "linecolor": "white",
            "showbackground": true,
            "ticks": "",
            "zerolinecolor": "white"
           },
           "zaxis": {
            "backgroundcolor": "#E5ECF6",
            "gridcolor": "white",
            "gridwidth": 2,
            "linecolor": "white",
            "showbackground": true,
            "ticks": "",
            "zerolinecolor": "white"
           }
          },
          "shapedefaults": {
           "line": {
            "color": "#2a3f5f"
           }
          },
          "ternary": {
           "aaxis": {
            "gridcolor": "white",
            "linecolor": "white",
            "ticks": ""
           },
           "baxis": {
            "gridcolor": "white",
            "linecolor": "white",
            "ticks": ""
           },
           "bgcolor": "#E5ECF6",
           "caxis": {
            "gridcolor": "white",
            "linecolor": "white",
            "ticks": ""
           }
          },
          "title": {
           "x": 0.05
          },
          "xaxis": {
           "automargin": true,
           "gridcolor": "white",
           "linecolor": "white",
           "ticks": "",
           "title": {
            "standoff": 15
           },
           "zerolinecolor": "white",
           "zerolinewidth": 2
          },
          "yaxis": {
           "automargin": true,
           "gridcolor": "white",
           "linecolor": "white",
           "ticks": "",
           "title": {
            "standoff": 15
           },
           "zerolinecolor": "white",
           "zerolinewidth": 2
          }
         }
        }
       },
       "config": {
        "plotlyServerURL": "https://plot.ly"
       }
      },
      "text/html": "<div>                            <div id=\"3d19f955-9cae-4d2c-8dfe-b291518dfc31\" class=\"plotly-graph-div\" style=\"height:525px; width:100%;\"></div>            <script type=\"text/javascript\">                require([\"plotly\"], function(Plotly) {                    window.PLOTLYENV=window.PLOTLYENV || {};                                    if (document.getElementById(\"3d19f955-9cae-4d2c-8dfe-b291518dfc31\")) {                    Plotly.newPlot(                        \"3d19f955-9cae-4d2c-8dfe-b291518dfc31\",                        [{\"hovertemplate\":\"Labor Force Participation: %{x:.2f}<extra></extra>\",\"marker\":{\"color\":[\"#fcb97d\",\"#fcb97d\",\"#fcb97d\",\"#fcb97d\",\"#fcb97d\",\"#fcb97d\",\"#fcb97d\",\"#fcb97d\"]},\"name\":\"Luzon\",\"orientation\":\"h\",\"x\":[839612.75,1348602.25,1643469.5,2371636.25,2454793.25,5524151.0,6209123.5,7475319.75],\"y\":[\"CAR\",\"MIMAROPA\",\"REGION II - CAGAYAN VALLEY\",\"REGION I - ILOCOS REGION\",\"REGION V - BICOL REGION\",\"REGION III - CENTRAL LUZON\",\"NCR\",\"REGION IVA - CALABARZON\"],\"type\":\"bar\"},{\"hovertemplate\":\"Labor Force Participation: %{x:.2f}<extra></extra>\",\"marker\":{\"color\":[\"#a0b9c6\",\"#a0b9c6\",\"#a0b9c6\"]},\"name\":\"Visayas\",\"orientation\":\"h\",\"x\":[2004843.25,3539829.75,3653438.0],\"y\":[\"REGION VIII - EASTERN VISAYAS\",\"REGION VI - WESTERN VISAYAS\",\"REGION VII - CENTRAL VISAYAS\"],\"type\":\"bar\"}],                        {\"annotations\":[{\"font\":{\"color\":\"black\",\"size\":16},\"showarrow\":false,\"text\":\"Average Labor Force Participation: 2848546\",\"x\":2848546.029411765,\"y\":11.1}],\"shapes\":[{\"line\":{\"color\":\"black\",\"width\":2},\"type\":\"line\",\"x0\":2848546.029411765,\"x1\":2848546.029411765,\"y0\":0,\"y1\":10}],\"title\":{\"text\":\"Labor Force for Luzon and Visayas\"},\"xaxis\":{\"title\":{\"text\":\"Labor Force\"}},\"yaxis\":{\"categoryarray\":[\"CAR\",\"MIMAROPA\",\"REGION II - CAGAYAN VALLEY\",\"REGION VIII - EASTERN VISAYAS\",\"REGION I - ILOCOS REGION\",\"REGION V - BICOL REGION\",\"REGION VI - WESTERN VISAYAS\",\"REGION VII - CENTRAL VISAYAS\",\"REGION III - CENTRAL LUZON\",\"NCR\",\"REGION IVA - CALABARZON\"],\"categoryorder\":\"array\",\"title\":{\"text\":\"Regions\"}},\"template\":{\"data\":{\"bar\":[{\"error_x\":{\"color\":\"#2a3f5f\"},\"error_y\":{\"color\":\"#2a3f5f\"},\"marker\":{\"line\":{\"color\":\"#E5ECF6\",\"width\":0.5},\"pattern\":{\"fillmode\":\"overlay\",\"size\":10,\"solidity\":0.2}},\"type\":\"bar\"}],\"barpolar\":[{\"marker\":{\"line\":{\"color\":\"#E5ECF6\",\"width\":0.5},\"pattern\":{\"fillmode\":\"overlay\",\"size\":10,\"solidity\":0.2}},\"type\":\"barpolar\"}],\"carpet\":[{\"aaxis\":{\"endlinecolor\":\"#2a3f5f\",\"gridcolor\":\"white\",\"linecolor\":\"white\",\"minorgridcolor\":\"white\",\"startlinecolor\":\"#2a3f5f\"},\"baxis\":{\"endlinecolor\":\"#2a3f5f\",\"gridcolor\":\"white\",\"linecolor\":\"white\",\"minorgridcolor\":\"white\",\"startlinecolor\":\"#2a3f5f\"},\"type\":\"carpet\"}],\"choropleth\":[{\"colorbar\":{\"outlinewidth\":0,\"ticks\":\"\"},\"type\":\"choropleth\"}],\"contour\":[{\"colorbar\":{\"outlinewidth\":0,\"ticks\":\"\"},\"colorscale\":[[0.0,\"#0d0887\"],[0.1111111111111111,\"#46039f\"],[0.2222222222222222,\"#7201a8\"],[0.3333333333333333,\"#9c179e\"],[0.4444444444444444,\"#bd3786\"],[0.5555555555555556,\"#d8576b\"],[0.6666666666666666,\"#ed7953\"],[0.7777777777777778,\"#fb9f3a\"],[0.8888888888888888,\"#fdca26\"],[1.0,\"#f0f921\"]],\"type\":\"contour\"}],\"contourcarpet\":[{\"colorbar\":{\"outlinewidth\":0,\"ticks\":\"\"},\"type\":\"contourcarpet\"}],\"heatmap\":[{\"colorbar\":{\"outlinewidth\":0,\"ticks\":\"\"},\"colorscale\":[[0.0,\"#0d0887\"],[0.1111111111111111,\"#46039f\"],[0.2222222222222222,\"#7201a8\"],[0.3333333333333333,\"#9c179e\"],[0.4444444444444444,\"#bd3786\"],[0.5555555555555556,\"#d8576b\"],[0.6666666666666666,\"#ed7953\"],[0.7777777777777778,\"#fb9f3a\"],[0.8888888888888888,\"#fdca26\"],[1.0,\"#f0f921\"]],\"type\":\"heatmap\"}],\"heatmapgl\":[{\"colorbar\":{\"outlinewidth\":0,\"ticks\":\"\"},\"colorscale\":[[0.0,\"#0d0887\"],[0.1111111111111111,\"#46039f\"],[0.2222222222222222,\"#7201a8\"],[0.3333333333333333,\"#9c179e\"],[0.4444444444444444,\"#bd3786\"],[0.5555555555555556,\"#d8576b\"],[0.6666666666666666,\"#ed7953\"],[0.7777777777777778,\"#fb9f3a\"],[0.8888888888888888,\"#fdca26\"],[1.0,\"#f0f921\"]],\"type\":\"heatmapgl\"}],\"histogram\":[{\"marker\":{\"pattern\":{\"fillmode\":\"overlay\",\"size\":10,\"solidity\":0.2}},\"type\":\"histogram\"}],\"histogram2d\":[{\"colorbar\":{\"outlinewidth\":0,\"ticks\":\"\"},\"colorscale\":[[0.0,\"#0d0887\"],[0.1111111111111111,\"#46039f\"],[0.2222222222222222,\"#7201a8\"],[0.3333333333333333,\"#9c179e\"],[0.4444444444444444,\"#bd3786\"],[0.5555555555555556,\"#d8576b\"],[0.6666666666666666,\"#ed7953\"],[0.7777777777777778,\"#fb9f3a\"],[0.8888888888888888,\"#fdca26\"],[1.0,\"#f0f921\"]],\"type\":\"histogram2d\"}],\"histogram2dcontour\":[{\"colorbar\":{\"outlinewidth\":0,\"ticks\":\"\"},\"colorscale\":[[0.0,\"#0d0887\"],[0.1111111111111111,\"#46039f\"],[0.2222222222222222,\"#7201a8\"],[0.3333333333333333,\"#9c179e\"],[0.4444444444444444,\"#bd3786\"],[0.5555555555555556,\"#d8576b\"],[0.6666666666666666,\"#ed7953\"],[0.7777777777777778,\"#fb9f3a\"],[0.8888888888888888,\"#fdca26\"],[1.0,\"#f0f921\"]],\"type\":\"histogram2dcontour\"}],\"mesh3d\":[{\"colorbar\":{\"outlinewidth\":0,\"ticks\":\"\"},\"type\":\"mesh3d\"}],\"parcoords\":[{\"line\":{\"colorbar\":{\"outlinewidth\":0,\"ticks\":\"\"}},\"type\":\"parcoords\"}],\"pie\":[{\"automargin\":true,\"type\":\"pie\"}],\"scatter\":[{\"marker\":{\"colorbar\":{\"outlinewidth\":0,\"ticks\":\"\"}},\"type\":\"scatter\"}],\"scatter3d\":[{\"line\":{\"colorbar\":{\"outlinewidth\":0,\"ticks\":\"\"}},\"marker\":{\"colorbar\":{\"outlinewidth\":0,\"ticks\":\"\"}},\"type\":\"scatter3d\"}],\"scattercarpet\":[{\"marker\":{\"colorbar\":{\"outlinewidth\":0,\"ticks\":\"\"}},\"type\":\"scattercarpet\"}],\"scattergeo\":[{\"marker\":{\"colorbar\":{\"outlinewidth\":0,\"ticks\":\"\"}},\"type\":\"scattergeo\"}],\"scattergl\":[{\"marker\":{\"colorbar\":{\"outlinewidth\":0,\"ticks\":\"\"}},\"type\":\"scattergl\"}],\"scattermapbox\":[{\"marker\":{\"colorbar\":{\"outlinewidth\":0,\"ticks\":\"\"}},\"type\":\"scattermapbox\"}],\"scatterpolar\":[{\"marker\":{\"colorbar\":{\"outlinewidth\":0,\"ticks\":\"\"}},\"type\":\"scatterpolar\"}],\"scatterpolargl\":[{\"marker\":{\"colorbar\":{\"outlinewidth\":0,\"ticks\":\"\"}},\"type\":\"scatterpolargl\"}],\"scatterternary\":[{\"marker\":{\"colorbar\":{\"outlinewidth\":0,\"ticks\":\"\"}},\"type\":\"scatterternary\"}],\"surface\":[{\"colorbar\":{\"outlinewidth\":0,\"ticks\":\"\"},\"colorscale\":[[0.0,\"#0d0887\"],[0.1111111111111111,\"#46039f\"],[0.2222222222222222,\"#7201a8\"],[0.3333333333333333,\"#9c179e\"],[0.4444444444444444,\"#bd3786\"],[0.5555555555555556,\"#d8576b\"],[0.6666666666666666,\"#ed7953\"],[0.7777777777777778,\"#fb9f3a\"],[0.8888888888888888,\"#fdca26\"],[1.0,\"#f0f921\"]],\"type\":\"surface\"}],\"table\":[{\"cells\":{\"fill\":{\"color\":\"#EBF0F8\"},\"line\":{\"color\":\"white\"}},\"header\":{\"fill\":{\"color\":\"#C8D4E3\"},\"line\":{\"color\":\"white\"}},\"type\":\"table\"}]},\"layout\":{\"annotationdefaults\":{\"arrowcolor\":\"#2a3f5f\",\"arrowhead\":0,\"arrowwidth\":1},\"autotypenumbers\":\"strict\",\"coloraxis\":{\"colorbar\":{\"outlinewidth\":0,\"ticks\":\"\"}},\"colorscale\":{\"diverging\":[[0,\"#8e0152\"],[0.1,\"#c51b7d\"],[0.2,\"#de77ae\"],[0.3,\"#f1b6da\"],[0.4,\"#fde0ef\"],[0.5,\"#f7f7f7\"],[0.6,\"#e6f5d0\"],[0.7,\"#b8e186\"],[0.8,\"#7fbc41\"],[0.9,\"#4d9221\"],[1,\"#276419\"]],\"sequential\":[[0.0,\"#0d0887\"],[0.1111111111111111,\"#46039f\"],[0.2222222222222222,\"#7201a8\"],[0.3333333333333333,\"#9c179e\"],[0.4444444444444444,\"#bd3786\"],[0.5555555555555556,\"#d8576b\"],[0.6666666666666666,\"#ed7953\"],[0.7777777777777778,\"#fb9f3a\"],[0.8888888888888888,\"#fdca26\"],[1.0,\"#f0f921\"]],\"sequentialminus\":[[0.0,\"#0d0887\"],[0.1111111111111111,\"#46039f\"],[0.2222222222222222,\"#7201a8\"],[0.3333333333333333,\"#9c179e\"],[0.4444444444444444,\"#bd3786\"],[0.5555555555555556,\"#d8576b\"],[0.6666666666666666,\"#ed7953\"],[0.7777777777777778,\"#fb9f3a\"],[0.8888888888888888,\"#fdca26\"],[1.0,\"#f0f921\"]]},\"colorway\":[\"#636efa\",\"#EF553B\",\"#00cc96\",\"#ab63fa\",\"#FFA15A\",\"#19d3f3\",\"#FF6692\",\"#B6E880\",\"#FF97FF\",\"#FECB52\"],\"font\":{\"color\":\"#2a3f5f\"},\"geo\":{\"bgcolor\":\"white\",\"lakecolor\":\"white\",\"landcolor\":\"#E5ECF6\",\"showlakes\":true,\"showland\":true,\"subunitcolor\":\"white\"},\"hoverlabel\":{\"align\":\"left\"},\"hovermode\":\"closest\",\"mapbox\":{\"style\":\"light\"},\"paper_bgcolor\":\"white\",\"plot_bgcolor\":\"#E5ECF6\",\"polar\":{\"angularaxis\":{\"gridcolor\":\"white\",\"linecolor\":\"white\",\"ticks\":\"\"},\"bgcolor\":\"#E5ECF6\",\"radialaxis\":{\"gridcolor\":\"white\",\"linecolor\":\"white\",\"ticks\":\"\"}},\"scene\":{\"xaxis\":{\"backgroundcolor\":\"#E5ECF6\",\"gridcolor\":\"white\",\"gridwidth\":2,\"linecolor\":\"white\",\"showbackground\":true,\"ticks\":\"\",\"zerolinecolor\":\"white\"},\"yaxis\":{\"backgroundcolor\":\"#E5ECF6\",\"gridcolor\":\"white\",\"gridwidth\":2,\"linecolor\":\"white\",\"showbackground\":true,\"ticks\":\"\",\"zerolinecolor\":\"white\"},\"zaxis\":{\"backgroundcolor\":\"#E5ECF6\",\"gridcolor\":\"white\",\"gridwidth\":2,\"linecolor\":\"white\",\"showbackground\":true,\"ticks\":\"\",\"zerolinecolor\":\"white\"}},\"shapedefaults\":{\"line\":{\"color\":\"#2a3f5f\"}},\"ternary\":{\"aaxis\":{\"gridcolor\":\"white\",\"linecolor\":\"white\",\"ticks\":\"\"},\"baxis\":{\"gridcolor\":\"white\",\"linecolor\":\"white\",\"ticks\":\"\"},\"bgcolor\":\"#E5ECF6\",\"caxis\":{\"gridcolor\":\"white\",\"linecolor\":\"white\",\"ticks\":\"\"}},\"title\":{\"x\":0.05},\"xaxis\":{\"automargin\":true,\"gridcolor\":\"white\",\"linecolor\":\"white\",\"ticks\":\"\",\"title\":{\"standoff\":15},\"zerolinecolor\":\"white\",\"zerolinewidth\":2},\"yaxis\":{\"automargin\":true,\"gridcolor\":\"white\",\"linecolor\":\"white\",\"ticks\":\"\",\"title\":{\"standoff\":15},\"zerolinecolor\":\"white\",\"zerolinewidth\":2}}}},                        {\"responsive\": true}                    ).then(function(){\n                            \nvar gd = document.getElementById('3d19f955-9cae-4d2c-8dfe-b291518dfc31');\nvar x = new MutationObserver(function (mutations, observer) {{\n        var display = window.getComputedStyle(gd).display;\n        if (!display || display === 'none') {{\n            console.log([gd, 'removed!']);\n            Plotly.purge(gd);\n            observer.disconnect();\n        }}\n}});\n\n// Listen for the removal of the full notebook cells\nvar notebookContainer = gd.closest('#notebook-container');\nif (notebookContainer) {{\n    x.observe(notebookContainer, {childList: true});\n}}\n\n// Listen for the clearing of the current output cell\nvar outputEl = gd.closest('.output');\nif (outputEl) {{\n    x.observe(outputEl, {childList: true});\n}}\n\n                        })                };                });            </script>        </div>"
     },
     "metadata": {},
     "output_type": "display_data"
    }
   ],
   "source": [
    "Viz4(df,2022,'Labor Force','Luzon and Visayas')"
   ],
   "metadata": {
    "collapsed": false
   }
  },
  {
   "cell_type": "code",
   "execution_count": 79,
   "outputs": [
    {
     "data": {
      "application/vnd.plotly.v1+json": {
       "data": [
        {
         "hovertemplate": "Labor Force Participation: %{x:.2f}<extra></extra>",
         "marker": {
          "color": [
           "#fcb97d",
           "#fcb97d",
           "#fcb97d",
           "#fcb97d",
           "#fcb97d",
           "#fcb97d",
           "#fcb97d",
           "#fcb97d"
          ]
         },
         "name": "Luzon Labor Force Participation",
         "orientation": "h",
         "x": [
          839612.75,
          1348602.25,
          1643469.5,
          2371636.25,
          2454793.25,
          5524151.0,
          6209123.5,
          7475319.75
         ],
         "y": [
          "CAR",
          "MIMAROPA",
          "REGION II - CAGAYAN VALLEY",
          "REGION I - ILOCOS REGION",
          "REGION V - BICOL REGION",
          "REGION III - CENTRAL LUZON",
          "NCR",
          "REGION IVA - CALABARZON"
         ],
         "type": "bar"
        },
        {
         "hovertemplate": "No. of Employed: %{x:.2f}<extra></extra>",
         "marker": {
          "color": [
           "#ffeede",
           "#ffeede",
           "#ffeede",
           "#ffeede",
           "#ffeede",
           "#ffeede",
           "#ffeede",
           "#ffeede"
          ]
         },
         "name": "Luzon No. of Employed",
         "orientation": "h",
         "x": [
          804325.1344999999,
          1274188.8329999999,
          1583648.95525,
          2240152.25075,
          2310091.3595000003,
          5240297.9425,
          5785530.6475,
          6986583.016
         ],
         "y": [
          "CAR",
          "MIMAROPA",
          "REGION II - CAGAYAN VALLEY",
          "REGION I - ILOCOS REGION",
          "REGION V - BICOL REGION",
          "REGION III - CENTRAL LUZON",
          "NCR",
          "REGION IVA - CALABARZON"
         ],
         "type": "bar"
        },
        {
         "hovertemplate": "Labor Force Participation: %{x:.2f}<extra></extra>",
         "marker": {
          "color": [
           "#a0b9c6",
           "#a0b9c6",
           "#a0b9c6"
          ]
         },
         "name": "Visayas Labor Force Participation",
         "orientation": "h",
         "x": [
          2004843.25,
          3539829.75,
          3653438.0
         ],
         "y": [
          "REGION VIII - EASTERN VISAYAS",
          "REGION VI - WESTERN VISAYAS",
          "REGION VII - CENTRAL VISAYAS"
         ],
         "type": "bar"
        },
        {
         "hovertemplate": "No. of Employed: %{x:.2f}<extra></extra>",
         "marker": {
          "color": [
           "#c9dee9",
           "#c9dee9",
           "#c9dee9"
          ]
         },
         "name": "Visayas No. of Employed",
         "orientation": "h",
         "x": [
          1903452.9024999999,
          3350298.0015000002,
          3439938.039
         ],
         "y": [
          "REGION VIII - EASTERN VISAYAS",
          "REGION VI - WESTERN VISAYAS",
          "REGION VII - CENTRAL VISAYAS"
         ],
         "type": "bar"
        },
        {
         "hovertemplate": "Labor Force Participation: %{x:.2f}<extra></extra>",
         "marker": {
          "color": [
           "#9a98b5",
           "#9a98b5",
           "#9a98b5",
           "#9a98b5",
           "#9a98b5",
           "#9a98b5"
          ]
         },
         "name": "Mindanao Labor Force Participation",
         "orientation": "h",
         "x": [
          1169445.75,
          1605154.5,
          1658554.5,
          2242322.75,
          2322228.0,
          2362757.75
         ],
         "y": [
          "REGION XIII - CARAGA",
          "REGION IX - ZAMBOANGA PENINSULA",
          "BARMM",
          "REGION XI - DAVAO REGION",
          "REGION XII - SOCCSKSARGEN",
          "REGION X - NORTHERN MINDANAO"
         ],
         "type": "bar"
        },
        {
         "hovertemplate": "No. of Employed: %{x:.2f}<extra></extra>",
         "marker": {
          "color": [
           "#d2d0e9",
           "#d2d0e9",
           "#d2d0e9",
           "#d2d0e9",
           "#d2d0e9",
           "#d2d0e9"
          ]
         },
         "name": "Mindanao No. of Employed",
         "orientation": "h",
         "x": [
          1122912.47175,
          1548953.622,
          1563899.0012500002,
          2158595.06325,
          2222370.4230000004,
          2255353.98975
         ],
         "y": [
          "REGION XIII - CARAGA",
          "REGION IX - ZAMBOANGA PENINSULA",
          "BARMM",
          "REGION XI - DAVAO REGION",
          "REGION XII - SOCCSKSARGEN",
          "REGION X - NORTHERN MINDANAO"
         ],
         "type": "bar"
        }
       ],
       "layout": {
        "annotations": [
         {
          "font": {
           "color": "black",
           "size": 16
          },
          "showarrow": false,
          "text": "Average No. of Employed: 2693564",
          "x": 2693564.2148823524,
          "y": 17.1
         }
        ],
        "barmode": "overlay",
        "shapes": [
         {
          "line": {
           "color": "black",
           "width": 2
          },
          "type": "line",
          "x0": 2693564.2148823524,
          "x1": 2693564.2148823524,
          "y0": 0,
          "y1": 16
         }
        ],
        "title": {
         "text": "Labor Force and Employment for Luzon, Visayas, and Mindanao"
        },
        "xaxis": {
         "title": {
          "text": "Labor Force and Employment"
         }
        },
        "yaxis": {
         "categoryarray": [
          "CAR",
          "REGION XIII - CARAGA",
          "MIMAROPA",
          "REGION IX - ZAMBOANGA PENINSULA",
          "REGION II - CAGAYAN VALLEY",
          "BARMM",
          "REGION VIII - EASTERN VISAYAS",
          "REGION XI - DAVAO REGION",
          "REGION XII - SOCCSKSARGEN",
          "REGION X - NORTHERN MINDANAO",
          "REGION I - ILOCOS REGION",
          "REGION V - BICOL REGION",
          "REGION VI - WESTERN VISAYAS",
          "REGION VII - CENTRAL VISAYAS",
          "REGION III - CENTRAL LUZON",
          "NCR",
          "REGION IVA - CALABARZON"
         ],
         "categoryorder": "array",
         "title": {
          "text": "Regions"
         }
        },
        "template": {
         "data": {
          "bar": [
           {
            "error_x": {
             "color": "#2a3f5f"
            },
            "error_y": {
             "color": "#2a3f5f"
            },
            "marker": {
             "line": {
              "color": "#E5ECF6",
              "width": 0.5
             },
             "pattern": {
              "fillmode": "overlay",
              "size": 10,
              "solidity": 0.2
             }
            },
            "type": "bar"
           }
          ],
          "barpolar": [
           {
            "marker": {
             "line": {
              "color": "#E5ECF6",
              "width": 0.5
             },
             "pattern": {
              "fillmode": "overlay",
              "size": 10,
              "solidity": 0.2
             }
            },
            "type": "barpolar"
           }
          ],
          "carpet": [
           {
            "aaxis": {
             "endlinecolor": "#2a3f5f",
             "gridcolor": "white",
             "linecolor": "white",
             "minorgridcolor": "white",
             "startlinecolor": "#2a3f5f"
            },
            "baxis": {
             "endlinecolor": "#2a3f5f",
             "gridcolor": "white",
             "linecolor": "white",
             "minorgridcolor": "white",
             "startlinecolor": "#2a3f5f"
            },
            "type": "carpet"
           }
          ],
          "choropleth": [
           {
            "colorbar": {
             "outlinewidth": 0,
             "ticks": ""
            },
            "type": "choropleth"
           }
          ],
          "contour": [
           {
            "colorbar": {
             "outlinewidth": 0,
             "ticks": ""
            },
            "colorscale": [
             [
              0.0,
              "#0d0887"
             ],
             [
              0.1111111111111111,
              "#46039f"
             ],
             [
              0.2222222222222222,
              "#7201a8"
             ],
             [
              0.3333333333333333,
              "#9c179e"
             ],
             [
              0.4444444444444444,
              "#bd3786"
             ],
             [
              0.5555555555555556,
              "#d8576b"
             ],
             [
              0.6666666666666666,
              "#ed7953"
             ],
             [
              0.7777777777777778,
              "#fb9f3a"
             ],
             [
              0.8888888888888888,
              "#fdca26"
             ],
             [
              1.0,
              "#f0f921"
             ]
            ],
            "type": "contour"
           }
          ],
          "contourcarpet": [
           {
            "colorbar": {
             "outlinewidth": 0,
             "ticks": ""
            },
            "type": "contourcarpet"
           }
          ],
          "heatmap": [
           {
            "colorbar": {
             "outlinewidth": 0,
             "ticks": ""
            },
            "colorscale": [
             [
              0.0,
              "#0d0887"
             ],
             [
              0.1111111111111111,
              "#46039f"
             ],
             [
              0.2222222222222222,
              "#7201a8"
             ],
             [
              0.3333333333333333,
              "#9c179e"
             ],
             [
              0.4444444444444444,
              "#bd3786"
             ],
             [
              0.5555555555555556,
              "#d8576b"
             ],
             [
              0.6666666666666666,
              "#ed7953"
             ],
             [
              0.7777777777777778,
              "#fb9f3a"
             ],
             [
              0.8888888888888888,
              "#fdca26"
             ],
             [
              1.0,
              "#f0f921"
             ]
            ],
            "type": "heatmap"
           }
          ],
          "heatmapgl": [
           {
            "colorbar": {
             "outlinewidth": 0,
             "ticks": ""
            },
            "colorscale": [
             [
              0.0,
              "#0d0887"
             ],
             [
              0.1111111111111111,
              "#46039f"
             ],
             [
              0.2222222222222222,
              "#7201a8"
             ],
             [
              0.3333333333333333,
              "#9c179e"
             ],
             [
              0.4444444444444444,
              "#bd3786"
             ],
             [
              0.5555555555555556,
              "#d8576b"
             ],
             [
              0.6666666666666666,
              "#ed7953"
             ],
             [
              0.7777777777777778,
              "#fb9f3a"
             ],
             [
              0.8888888888888888,
              "#fdca26"
             ],
             [
              1.0,
              "#f0f921"
             ]
            ],
            "type": "heatmapgl"
           }
          ],
          "histogram": [
           {
            "marker": {
             "pattern": {
              "fillmode": "overlay",
              "size": 10,
              "solidity": 0.2
             }
            },
            "type": "histogram"
           }
          ],
          "histogram2d": [
           {
            "colorbar": {
             "outlinewidth": 0,
             "ticks": ""
            },
            "colorscale": [
             [
              0.0,
              "#0d0887"
             ],
             [
              0.1111111111111111,
              "#46039f"
             ],
             [
              0.2222222222222222,
              "#7201a8"
             ],
             [
              0.3333333333333333,
              "#9c179e"
             ],
             [
              0.4444444444444444,
              "#bd3786"
             ],
             [
              0.5555555555555556,
              "#d8576b"
             ],
             [
              0.6666666666666666,
              "#ed7953"
             ],
             [
              0.7777777777777778,
              "#fb9f3a"
             ],
             [
              0.8888888888888888,
              "#fdca26"
             ],
             [
              1.0,
              "#f0f921"
             ]
            ],
            "type": "histogram2d"
           }
          ],
          "histogram2dcontour": [
           {
            "colorbar": {
             "outlinewidth": 0,
             "ticks": ""
            },
            "colorscale": [
             [
              0.0,
              "#0d0887"
             ],
             [
              0.1111111111111111,
              "#46039f"
             ],
             [
              0.2222222222222222,
              "#7201a8"
             ],
             [
              0.3333333333333333,
              "#9c179e"
             ],
             [
              0.4444444444444444,
              "#bd3786"
             ],
             [
              0.5555555555555556,
              "#d8576b"
             ],
             [
              0.6666666666666666,
              "#ed7953"
             ],
             [
              0.7777777777777778,
              "#fb9f3a"
             ],
             [
              0.8888888888888888,
              "#fdca26"
             ],
             [
              1.0,
              "#f0f921"
             ]
            ],
            "type": "histogram2dcontour"
           }
          ],
          "mesh3d": [
           {
            "colorbar": {
             "outlinewidth": 0,
             "ticks": ""
            },
            "type": "mesh3d"
           }
          ],
          "parcoords": [
           {
            "line": {
             "colorbar": {
              "outlinewidth": 0,
              "ticks": ""
             }
            },
            "type": "parcoords"
           }
          ],
          "pie": [
           {
            "automargin": true,
            "type": "pie"
           }
          ],
          "scatter": [
           {
            "marker": {
             "colorbar": {
              "outlinewidth": 0,
              "ticks": ""
             }
            },
            "type": "scatter"
           }
          ],
          "scatter3d": [
           {
            "line": {
             "colorbar": {
              "outlinewidth": 0,
              "ticks": ""
             }
            },
            "marker": {
             "colorbar": {
              "outlinewidth": 0,
              "ticks": ""
             }
            },
            "type": "scatter3d"
           }
          ],
          "scattercarpet": [
           {
            "marker": {
             "colorbar": {
              "outlinewidth": 0,
              "ticks": ""
             }
            },
            "type": "scattercarpet"
           }
          ],
          "scattergeo": [
           {
            "marker": {
             "colorbar": {
              "outlinewidth": 0,
              "ticks": ""
             }
            },
            "type": "scattergeo"
           }
          ],
          "scattergl": [
           {
            "marker": {
             "colorbar": {
              "outlinewidth": 0,
              "ticks": ""
             }
            },
            "type": "scattergl"
           }
          ],
          "scattermapbox": [
           {
            "marker": {
             "colorbar": {
              "outlinewidth": 0,
              "ticks": ""
             }
            },
            "type": "scattermapbox"
           }
          ],
          "scatterpolar": [
           {
            "marker": {
             "colorbar": {
              "outlinewidth": 0,
              "ticks": ""
             }
            },
            "type": "scatterpolar"
           }
          ],
          "scatterpolargl": [
           {
            "marker": {
             "colorbar": {
              "outlinewidth": 0,
              "ticks": ""
             }
            },
            "type": "scatterpolargl"
           }
          ],
          "scatterternary": [
           {
            "marker": {
             "colorbar": {
              "outlinewidth": 0,
              "ticks": ""
             }
            },
            "type": "scatterternary"
           }
          ],
          "surface": [
           {
            "colorbar": {
             "outlinewidth": 0,
             "ticks": ""
            },
            "colorscale": [
             [
              0.0,
              "#0d0887"
             ],
             [
              0.1111111111111111,
              "#46039f"
             ],
             [
              0.2222222222222222,
              "#7201a8"
             ],
             [
              0.3333333333333333,
              "#9c179e"
             ],
             [
              0.4444444444444444,
              "#bd3786"
             ],
             [
              0.5555555555555556,
              "#d8576b"
             ],
             [
              0.6666666666666666,
              "#ed7953"
             ],
             [
              0.7777777777777778,
              "#fb9f3a"
             ],
             [
              0.8888888888888888,
              "#fdca26"
             ],
             [
              1.0,
              "#f0f921"
             ]
            ],
            "type": "surface"
           }
          ],
          "table": [
           {
            "cells": {
             "fill": {
              "color": "#EBF0F8"
             },
             "line": {
              "color": "white"
             }
            },
            "header": {
             "fill": {
              "color": "#C8D4E3"
             },
             "line": {
              "color": "white"
             }
            },
            "type": "table"
           }
          ]
         },
         "layout": {
          "annotationdefaults": {
           "arrowcolor": "#2a3f5f",
           "arrowhead": 0,
           "arrowwidth": 1
          },
          "autotypenumbers": "strict",
          "coloraxis": {
           "colorbar": {
            "outlinewidth": 0,
            "ticks": ""
           }
          },
          "colorscale": {
           "diverging": [
            [
             0,
             "#8e0152"
            ],
            [
             0.1,
             "#c51b7d"
            ],
            [
             0.2,
             "#de77ae"
            ],
            [
             0.3,
             "#f1b6da"
            ],
            [
             0.4,
             "#fde0ef"
            ],
            [
             0.5,
             "#f7f7f7"
            ],
            [
             0.6,
             "#e6f5d0"
            ],
            [
             0.7,
             "#b8e186"
            ],
            [
             0.8,
             "#7fbc41"
            ],
            [
             0.9,
             "#4d9221"
            ],
            [
             1,
             "#276419"
            ]
           ],
           "sequential": [
            [
             0.0,
             "#0d0887"
            ],
            [
             0.1111111111111111,
             "#46039f"
            ],
            [
             0.2222222222222222,
             "#7201a8"
            ],
            [
             0.3333333333333333,
             "#9c179e"
            ],
            [
             0.4444444444444444,
             "#bd3786"
            ],
            [
             0.5555555555555556,
             "#d8576b"
            ],
            [
             0.6666666666666666,
             "#ed7953"
            ],
            [
             0.7777777777777778,
             "#fb9f3a"
            ],
            [
             0.8888888888888888,
             "#fdca26"
            ],
            [
             1.0,
             "#f0f921"
            ]
           ],
           "sequentialminus": [
            [
             0.0,
             "#0d0887"
            ],
            [
             0.1111111111111111,
             "#46039f"
            ],
            [
             0.2222222222222222,
             "#7201a8"
            ],
            [
             0.3333333333333333,
             "#9c179e"
            ],
            [
             0.4444444444444444,
             "#bd3786"
            ],
            [
             0.5555555555555556,
             "#d8576b"
            ],
            [
             0.6666666666666666,
             "#ed7953"
            ],
            [
             0.7777777777777778,
             "#fb9f3a"
            ],
            [
             0.8888888888888888,
             "#fdca26"
            ],
            [
             1.0,
             "#f0f921"
            ]
           ]
          },
          "colorway": [
           "#636efa",
           "#EF553B",
           "#00cc96",
           "#ab63fa",
           "#FFA15A",
           "#19d3f3",
           "#FF6692",
           "#B6E880",
           "#FF97FF",
           "#FECB52"
          ],
          "font": {
           "color": "#2a3f5f"
          },
          "geo": {
           "bgcolor": "white",
           "lakecolor": "white",
           "landcolor": "#E5ECF6",
           "showlakes": true,
           "showland": true,
           "subunitcolor": "white"
          },
          "hoverlabel": {
           "align": "left"
          },
          "hovermode": "closest",
          "mapbox": {
           "style": "light"
          },
          "paper_bgcolor": "white",
          "plot_bgcolor": "#E5ECF6",
          "polar": {
           "angularaxis": {
            "gridcolor": "white",
            "linecolor": "white",
            "ticks": ""
           },
           "bgcolor": "#E5ECF6",
           "radialaxis": {
            "gridcolor": "white",
            "linecolor": "white",
            "ticks": ""
           }
          },
          "scene": {
           "xaxis": {
            "backgroundcolor": "#E5ECF6",
            "gridcolor": "white",
            "gridwidth": 2,
            "linecolor": "white",
            "showbackground": true,
            "ticks": "",
            "zerolinecolor": "white"
           },
           "yaxis": {
            "backgroundcolor": "#E5ECF6",
            "gridcolor": "white",
            "gridwidth": 2,
            "linecolor": "white",
            "showbackground": true,
            "ticks": "",
            "zerolinecolor": "white"
           },
           "zaxis": {
            "backgroundcolor": "#E5ECF6",
            "gridcolor": "white",
            "gridwidth": 2,
            "linecolor": "white",
            "showbackground": true,
            "ticks": "",
            "zerolinecolor": "white"
           }
          },
          "shapedefaults": {
           "line": {
            "color": "#2a3f5f"
           }
          },
          "ternary": {
           "aaxis": {
            "gridcolor": "white",
            "linecolor": "white",
            "ticks": ""
           },
           "baxis": {
            "gridcolor": "white",
            "linecolor": "white",
            "ticks": ""
           },
           "bgcolor": "#E5ECF6",
           "caxis": {
            "gridcolor": "white",
            "linecolor": "white",
            "ticks": ""
           }
          },
          "title": {
           "x": 0.05
          },
          "xaxis": {
           "automargin": true,
           "gridcolor": "white",
           "linecolor": "white",
           "ticks": "",
           "title": {
            "standoff": 15
           },
           "zerolinecolor": "white",
           "zerolinewidth": 2
          },
          "yaxis": {
           "automargin": true,
           "gridcolor": "white",
           "linecolor": "white",
           "ticks": "",
           "title": {
            "standoff": 15
           },
           "zerolinecolor": "white",
           "zerolinewidth": 2
          }
         }
        }
       },
       "config": {
        "plotlyServerURL": "https://plot.ly"
       }
      },
      "text/html": "<div>                            <div id=\"f0675ce8-a611-4805-a83b-05a930abac27\" class=\"plotly-graph-div\" style=\"height:525px; width:100%;\"></div>            <script type=\"text/javascript\">                require([\"plotly\"], function(Plotly) {                    window.PLOTLYENV=window.PLOTLYENV || {};                                    if (document.getElementById(\"f0675ce8-a611-4805-a83b-05a930abac27\")) {                    Plotly.newPlot(                        \"f0675ce8-a611-4805-a83b-05a930abac27\",                        [{\"hovertemplate\":\"Labor Force Participation: %{x:.2f}<extra></extra>\",\"marker\":{\"color\":[\"#fcb97d\",\"#fcb97d\",\"#fcb97d\",\"#fcb97d\",\"#fcb97d\",\"#fcb97d\",\"#fcb97d\",\"#fcb97d\"]},\"name\":\"Luzon Labor Force Participation\",\"orientation\":\"h\",\"x\":[839612.75,1348602.25,1643469.5,2371636.25,2454793.25,5524151.0,6209123.5,7475319.75],\"y\":[\"CAR\",\"MIMAROPA\",\"REGION II - CAGAYAN VALLEY\",\"REGION I - ILOCOS REGION\",\"REGION V - BICOL REGION\",\"REGION III - CENTRAL LUZON\",\"NCR\",\"REGION IVA - CALABARZON\"],\"type\":\"bar\"},{\"hovertemplate\":\"No. of Employed: %{x:.2f}<extra></extra>\",\"marker\":{\"color\":[\"#ffeede\",\"#ffeede\",\"#ffeede\",\"#ffeede\",\"#ffeede\",\"#ffeede\",\"#ffeede\",\"#ffeede\"]},\"name\":\"Luzon No. of Employed\",\"orientation\":\"h\",\"x\":[804325.1344999999,1274188.8329999999,1583648.95525,2240152.25075,2310091.3595000003,5240297.9425,5785530.6475,6986583.016],\"y\":[\"CAR\",\"MIMAROPA\",\"REGION II - CAGAYAN VALLEY\",\"REGION I - ILOCOS REGION\",\"REGION V - BICOL REGION\",\"REGION III - CENTRAL LUZON\",\"NCR\",\"REGION IVA - CALABARZON\"],\"type\":\"bar\"},{\"hovertemplate\":\"Labor Force Participation: %{x:.2f}<extra></extra>\",\"marker\":{\"color\":[\"#a0b9c6\",\"#a0b9c6\",\"#a0b9c6\"]},\"name\":\"Visayas Labor Force Participation\",\"orientation\":\"h\",\"x\":[2004843.25,3539829.75,3653438.0],\"y\":[\"REGION VIII - EASTERN VISAYAS\",\"REGION VI - WESTERN VISAYAS\",\"REGION VII - CENTRAL VISAYAS\"],\"type\":\"bar\"},{\"hovertemplate\":\"No. of Employed: %{x:.2f}<extra></extra>\",\"marker\":{\"color\":[\"#c9dee9\",\"#c9dee9\",\"#c9dee9\"]},\"name\":\"Visayas No. of Employed\",\"orientation\":\"h\",\"x\":[1903452.9024999999,3350298.0015000002,3439938.039],\"y\":[\"REGION VIII - EASTERN VISAYAS\",\"REGION VI - WESTERN VISAYAS\",\"REGION VII - CENTRAL VISAYAS\"],\"type\":\"bar\"},{\"hovertemplate\":\"Labor Force Participation: %{x:.2f}<extra></extra>\",\"marker\":{\"color\":[\"#9a98b5\",\"#9a98b5\",\"#9a98b5\",\"#9a98b5\",\"#9a98b5\",\"#9a98b5\"]},\"name\":\"Mindanao Labor Force Participation\",\"orientation\":\"h\",\"x\":[1169445.75,1605154.5,1658554.5,2242322.75,2322228.0,2362757.75],\"y\":[\"REGION XIII - CARAGA\",\"REGION IX - ZAMBOANGA PENINSULA\",\"BARMM\",\"REGION XI - DAVAO REGION\",\"REGION XII - SOCCSKSARGEN\",\"REGION X - NORTHERN MINDANAO\"],\"type\":\"bar\"},{\"hovertemplate\":\"No. of Employed: %{x:.2f}<extra></extra>\",\"marker\":{\"color\":[\"#d2d0e9\",\"#d2d0e9\",\"#d2d0e9\",\"#d2d0e9\",\"#d2d0e9\",\"#d2d0e9\"]},\"name\":\"Mindanao No. of Employed\",\"orientation\":\"h\",\"x\":[1122912.47175,1548953.622,1563899.0012500002,2158595.06325,2222370.4230000004,2255353.98975],\"y\":[\"REGION XIII - CARAGA\",\"REGION IX - ZAMBOANGA PENINSULA\",\"BARMM\",\"REGION XI - DAVAO REGION\",\"REGION XII - SOCCSKSARGEN\",\"REGION X - NORTHERN MINDANAO\"],\"type\":\"bar\"}],                        {\"annotations\":[{\"font\":{\"color\":\"black\",\"size\":16},\"showarrow\":false,\"text\":\"Average No. of Employed: 2693564\",\"x\":2693564.2148823524,\"y\":17.1}],\"barmode\":\"overlay\",\"shapes\":[{\"line\":{\"color\":\"black\",\"width\":2},\"type\":\"line\",\"x0\":2693564.2148823524,\"x1\":2693564.2148823524,\"y0\":0,\"y1\":16}],\"title\":{\"text\":\"Labor Force and Employment for Luzon, Visayas, and Mindanao\"},\"xaxis\":{\"title\":{\"text\":\"Labor Force and Employment\"}},\"yaxis\":{\"categoryarray\":[\"CAR\",\"REGION XIII - CARAGA\",\"MIMAROPA\",\"REGION IX - ZAMBOANGA PENINSULA\",\"REGION II - CAGAYAN VALLEY\",\"BARMM\",\"REGION VIII - EASTERN VISAYAS\",\"REGION XI - DAVAO REGION\",\"REGION XII - SOCCSKSARGEN\",\"REGION X - NORTHERN MINDANAO\",\"REGION I - ILOCOS REGION\",\"REGION V - BICOL REGION\",\"REGION VI - WESTERN VISAYAS\",\"REGION VII - CENTRAL VISAYAS\",\"REGION III - CENTRAL LUZON\",\"NCR\",\"REGION IVA - CALABARZON\"],\"categoryorder\":\"array\",\"title\":{\"text\":\"Regions\"}},\"template\":{\"data\":{\"bar\":[{\"error_x\":{\"color\":\"#2a3f5f\"},\"error_y\":{\"color\":\"#2a3f5f\"},\"marker\":{\"line\":{\"color\":\"#E5ECF6\",\"width\":0.5},\"pattern\":{\"fillmode\":\"overlay\",\"size\":10,\"solidity\":0.2}},\"type\":\"bar\"}],\"barpolar\":[{\"marker\":{\"line\":{\"color\":\"#E5ECF6\",\"width\":0.5},\"pattern\":{\"fillmode\":\"overlay\",\"size\":10,\"solidity\":0.2}},\"type\":\"barpolar\"}],\"carpet\":[{\"aaxis\":{\"endlinecolor\":\"#2a3f5f\",\"gridcolor\":\"white\",\"linecolor\":\"white\",\"minorgridcolor\":\"white\",\"startlinecolor\":\"#2a3f5f\"},\"baxis\":{\"endlinecolor\":\"#2a3f5f\",\"gridcolor\":\"white\",\"linecolor\":\"white\",\"minorgridcolor\":\"white\",\"startlinecolor\":\"#2a3f5f\"},\"type\":\"carpet\"}],\"choropleth\":[{\"colorbar\":{\"outlinewidth\":0,\"ticks\":\"\"},\"type\":\"choropleth\"}],\"contour\":[{\"colorbar\":{\"outlinewidth\":0,\"ticks\":\"\"},\"colorscale\":[[0.0,\"#0d0887\"],[0.1111111111111111,\"#46039f\"],[0.2222222222222222,\"#7201a8\"],[0.3333333333333333,\"#9c179e\"],[0.4444444444444444,\"#bd3786\"],[0.5555555555555556,\"#d8576b\"],[0.6666666666666666,\"#ed7953\"],[0.7777777777777778,\"#fb9f3a\"],[0.8888888888888888,\"#fdca26\"],[1.0,\"#f0f921\"]],\"type\":\"contour\"}],\"contourcarpet\":[{\"colorbar\":{\"outlinewidth\":0,\"ticks\":\"\"},\"type\":\"contourcarpet\"}],\"heatmap\":[{\"colorbar\":{\"outlinewidth\":0,\"ticks\":\"\"},\"colorscale\":[[0.0,\"#0d0887\"],[0.1111111111111111,\"#46039f\"],[0.2222222222222222,\"#7201a8\"],[0.3333333333333333,\"#9c179e\"],[0.4444444444444444,\"#bd3786\"],[0.5555555555555556,\"#d8576b\"],[0.6666666666666666,\"#ed7953\"],[0.7777777777777778,\"#fb9f3a\"],[0.8888888888888888,\"#fdca26\"],[1.0,\"#f0f921\"]],\"type\":\"heatmap\"}],\"heatmapgl\":[{\"colorbar\":{\"outlinewidth\":0,\"ticks\":\"\"},\"colorscale\":[[0.0,\"#0d0887\"],[0.1111111111111111,\"#46039f\"],[0.2222222222222222,\"#7201a8\"],[0.3333333333333333,\"#9c179e\"],[0.4444444444444444,\"#bd3786\"],[0.5555555555555556,\"#d8576b\"],[0.6666666666666666,\"#ed7953\"],[0.7777777777777778,\"#fb9f3a\"],[0.8888888888888888,\"#fdca26\"],[1.0,\"#f0f921\"]],\"type\":\"heatmapgl\"}],\"histogram\":[{\"marker\":{\"pattern\":{\"fillmode\":\"overlay\",\"size\":10,\"solidity\":0.2}},\"type\":\"histogram\"}],\"histogram2d\":[{\"colorbar\":{\"outlinewidth\":0,\"ticks\":\"\"},\"colorscale\":[[0.0,\"#0d0887\"],[0.1111111111111111,\"#46039f\"],[0.2222222222222222,\"#7201a8\"],[0.3333333333333333,\"#9c179e\"],[0.4444444444444444,\"#bd3786\"],[0.5555555555555556,\"#d8576b\"],[0.6666666666666666,\"#ed7953\"],[0.7777777777777778,\"#fb9f3a\"],[0.8888888888888888,\"#fdca26\"],[1.0,\"#f0f921\"]],\"type\":\"histogram2d\"}],\"histogram2dcontour\":[{\"colorbar\":{\"outlinewidth\":0,\"ticks\":\"\"},\"colorscale\":[[0.0,\"#0d0887\"],[0.1111111111111111,\"#46039f\"],[0.2222222222222222,\"#7201a8\"],[0.3333333333333333,\"#9c179e\"],[0.4444444444444444,\"#bd3786\"],[0.5555555555555556,\"#d8576b\"],[0.6666666666666666,\"#ed7953\"],[0.7777777777777778,\"#fb9f3a\"],[0.8888888888888888,\"#fdca26\"],[1.0,\"#f0f921\"]],\"type\":\"histogram2dcontour\"}],\"mesh3d\":[{\"colorbar\":{\"outlinewidth\":0,\"ticks\":\"\"},\"type\":\"mesh3d\"}],\"parcoords\":[{\"line\":{\"colorbar\":{\"outlinewidth\":0,\"ticks\":\"\"}},\"type\":\"parcoords\"}],\"pie\":[{\"automargin\":true,\"type\":\"pie\"}],\"scatter\":[{\"marker\":{\"colorbar\":{\"outlinewidth\":0,\"ticks\":\"\"}},\"type\":\"scatter\"}],\"scatter3d\":[{\"line\":{\"colorbar\":{\"outlinewidth\":0,\"ticks\":\"\"}},\"marker\":{\"colorbar\":{\"outlinewidth\":0,\"ticks\":\"\"}},\"type\":\"scatter3d\"}],\"scattercarpet\":[{\"marker\":{\"colorbar\":{\"outlinewidth\":0,\"ticks\":\"\"}},\"type\":\"scattercarpet\"}],\"scattergeo\":[{\"marker\":{\"colorbar\":{\"outlinewidth\":0,\"ticks\":\"\"}},\"type\":\"scattergeo\"}],\"scattergl\":[{\"marker\":{\"colorbar\":{\"outlinewidth\":0,\"ticks\":\"\"}},\"type\":\"scattergl\"}],\"scattermapbox\":[{\"marker\":{\"colorbar\":{\"outlinewidth\":0,\"ticks\":\"\"}},\"type\":\"scattermapbox\"}],\"scatterpolar\":[{\"marker\":{\"colorbar\":{\"outlinewidth\":0,\"ticks\":\"\"}},\"type\":\"scatterpolar\"}],\"scatterpolargl\":[{\"marker\":{\"colorbar\":{\"outlinewidth\":0,\"ticks\":\"\"}},\"type\":\"scatterpolargl\"}],\"scatterternary\":[{\"marker\":{\"colorbar\":{\"outlinewidth\":0,\"ticks\":\"\"}},\"type\":\"scatterternary\"}],\"surface\":[{\"colorbar\":{\"outlinewidth\":0,\"ticks\":\"\"},\"colorscale\":[[0.0,\"#0d0887\"],[0.1111111111111111,\"#46039f\"],[0.2222222222222222,\"#7201a8\"],[0.3333333333333333,\"#9c179e\"],[0.4444444444444444,\"#bd3786\"],[0.5555555555555556,\"#d8576b\"],[0.6666666666666666,\"#ed7953\"],[0.7777777777777778,\"#fb9f3a\"],[0.8888888888888888,\"#fdca26\"],[1.0,\"#f0f921\"]],\"type\":\"surface\"}],\"table\":[{\"cells\":{\"fill\":{\"color\":\"#EBF0F8\"},\"line\":{\"color\":\"white\"}},\"header\":{\"fill\":{\"color\":\"#C8D4E3\"},\"line\":{\"color\":\"white\"}},\"type\":\"table\"}]},\"layout\":{\"annotationdefaults\":{\"arrowcolor\":\"#2a3f5f\",\"arrowhead\":0,\"arrowwidth\":1},\"autotypenumbers\":\"strict\",\"coloraxis\":{\"colorbar\":{\"outlinewidth\":0,\"ticks\":\"\"}},\"colorscale\":{\"diverging\":[[0,\"#8e0152\"],[0.1,\"#c51b7d\"],[0.2,\"#de77ae\"],[0.3,\"#f1b6da\"],[0.4,\"#fde0ef\"],[0.5,\"#f7f7f7\"],[0.6,\"#e6f5d0\"],[0.7,\"#b8e186\"],[0.8,\"#7fbc41\"],[0.9,\"#4d9221\"],[1,\"#276419\"]],\"sequential\":[[0.0,\"#0d0887\"],[0.1111111111111111,\"#46039f\"],[0.2222222222222222,\"#7201a8\"],[0.3333333333333333,\"#9c179e\"],[0.4444444444444444,\"#bd3786\"],[0.5555555555555556,\"#d8576b\"],[0.6666666666666666,\"#ed7953\"],[0.7777777777777778,\"#fb9f3a\"],[0.8888888888888888,\"#fdca26\"],[1.0,\"#f0f921\"]],\"sequentialminus\":[[0.0,\"#0d0887\"],[0.1111111111111111,\"#46039f\"],[0.2222222222222222,\"#7201a8\"],[0.3333333333333333,\"#9c179e\"],[0.4444444444444444,\"#bd3786\"],[0.5555555555555556,\"#d8576b\"],[0.6666666666666666,\"#ed7953\"],[0.7777777777777778,\"#fb9f3a\"],[0.8888888888888888,\"#fdca26\"],[1.0,\"#f0f921\"]]},\"colorway\":[\"#636efa\",\"#EF553B\",\"#00cc96\",\"#ab63fa\",\"#FFA15A\",\"#19d3f3\",\"#FF6692\",\"#B6E880\",\"#FF97FF\",\"#FECB52\"],\"font\":{\"color\":\"#2a3f5f\"},\"geo\":{\"bgcolor\":\"white\",\"lakecolor\":\"white\",\"landcolor\":\"#E5ECF6\",\"showlakes\":true,\"showland\":true,\"subunitcolor\":\"white\"},\"hoverlabel\":{\"align\":\"left\"},\"hovermode\":\"closest\",\"mapbox\":{\"style\":\"light\"},\"paper_bgcolor\":\"white\",\"plot_bgcolor\":\"#E5ECF6\",\"polar\":{\"angularaxis\":{\"gridcolor\":\"white\",\"linecolor\":\"white\",\"ticks\":\"\"},\"bgcolor\":\"#E5ECF6\",\"radialaxis\":{\"gridcolor\":\"white\",\"linecolor\":\"white\",\"ticks\":\"\"}},\"scene\":{\"xaxis\":{\"backgroundcolor\":\"#E5ECF6\",\"gridcolor\":\"white\",\"gridwidth\":2,\"linecolor\":\"white\",\"showbackground\":true,\"ticks\":\"\",\"zerolinecolor\":\"white\"},\"yaxis\":{\"backgroundcolor\":\"#E5ECF6\",\"gridcolor\":\"white\",\"gridwidth\":2,\"linecolor\":\"white\",\"showbackground\":true,\"ticks\":\"\",\"zerolinecolor\":\"white\"},\"zaxis\":{\"backgroundcolor\":\"#E5ECF6\",\"gridcolor\":\"white\",\"gridwidth\":2,\"linecolor\":\"white\",\"showbackground\":true,\"ticks\":\"\",\"zerolinecolor\":\"white\"}},\"shapedefaults\":{\"line\":{\"color\":\"#2a3f5f\"}},\"ternary\":{\"aaxis\":{\"gridcolor\":\"white\",\"linecolor\":\"white\",\"ticks\":\"\"},\"baxis\":{\"gridcolor\":\"white\",\"linecolor\":\"white\",\"ticks\":\"\"},\"bgcolor\":\"#E5ECF6\",\"caxis\":{\"gridcolor\":\"white\",\"linecolor\":\"white\",\"ticks\":\"\"}},\"title\":{\"x\":0.05},\"xaxis\":{\"automargin\":true,\"gridcolor\":\"white\",\"linecolor\":\"white\",\"ticks\":\"\",\"title\":{\"standoff\":15},\"zerolinecolor\":\"white\",\"zerolinewidth\":2},\"yaxis\":{\"automargin\":true,\"gridcolor\":\"white\",\"linecolor\":\"white\",\"ticks\":\"\",\"title\":{\"standoff\":15},\"zerolinecolor\":\"white\",\"zerolinewidth\":2}}}},                        {\"responsive\": true}                    ).then(function(){\n                            \nvar gd = document.getElementById('f0675ce8-a611-4805-a83b-05a930abac27');\nvar x = new MutationObserver(function (mutations, observer) {{\n        var display = window.getComputedStyle(gd).display;\n        if (!display || display === 'none') {{\n            console.log([gd, 'removed!']);\n            Plotly.purge(gd);\n            observer.disconnect();\n        }}\n}});\n\n// Listen for the removal of the full notebook cells\nvar notebookContainer = gd.closest('#notebook-container');\nif (notebookContainer) {{\n    x.observe(notebookContainer, {childList: true});\n}}\n\n// Listen for the clearing of the current output cell\nvar outputEl = gd.closest('.output');\nif (outputEl) {{\n    x.observe(outputEl, {childList: true});\n}}\n\n                        })                };                });            </script>        </div>"
     },
     "metadata": {},
     "output_type": "display_data"
    }
   ],
   "source": [
    "Viz4(df,2022,'Labor Force and Employment','Luzon, Visayas, and Mindanao')\n"
   ],
   "metadata": {
    "collapsed": false
   }
  },
  {
   "cell_type": "code",
   "execution_count": 59,
   "outputs": [],
   "source": [
    "df_viz6a = pd.read_csv('viz6a.csv')\n",
    "df_viz6b = pd.read_csv('viz6b.csv')\n",
    "df_viz7 = pd.read_csv('viz7.csv')"
   ],
   "metadata": {
    "collapsed": false
   }
  },
  {
   "cell_type": "code",
   "execution_count": 60,
   "id": "ffbec572-a2c6-4fbc-8569-ee245253e9bb",
   "metadata": {},
   "outputs": [
    {
     "name": "stdout",
     "output_type": "stream",
     "text": [
      "Dash app running on http://127.0.0.1:8038/\n"
     ]
    }
   ],
   "source": [
    "# Creating the app\n",
    "page = JupyterDash(__name__, external_stylesheets=[dbc.themes.BOOTSTRAP])\n",
    "\n",
    "\n",
    "page.layout = dbc.Container([\n",
    "\n",
    "    \n",
    "    # Header\n",
    "\n",
    "    \n",
    "    html.Nav(\n",
    "    html.Ul([\n",
    "        html.Li([\n",
    "            html.A('Home', href='#', className='nav-link', style={'border': '1px solid grey'})\n",
    "        ], className='nav-item'),\n",
    "        html.Li([\n",
    "            html.A('Understanding Poverty', href='#', className='nav-link', style={'border': '1px solid grey'})\n",
    "        ], className='nav-item'),\n",
    "        html.Li([\n",
    "            html.A('Zooming in on Employment', href='#', className='nav-link', style={'border': '1px solid grey'})\n",
    "        ], className='nav-item'),\n",
    "        html.Li([\n",
    "            html.A('Finding Opportunities', href='#', className='nav-link', style={'border': '1px solid grey'})\n",
    "        ], className='nav-item')\n",
    "    ], className='nav'),\n",
    "\n",
    "),\n",
    "  \n",
    "  # Line Breaks\n",
    "\n",
    "     html.Div([\n",
    "          html.Br(), html.Br(), html.Br(), html.Br(),  html.Br(), \n",
    "     ]),\n",
    "    \n",
    "    \n",
    "  \n",
    "    # Header 2\n",
    "    html.Section([\n",
    "        html.H2(\"Zooming in on Employment\", className=\"text-center mb-3\"),\n",
    "        html.H5(\"\", className=\"text-center mb-5\"),\n",
    "    ]),\n",
    "    #Graph1\n",
    "   \n",
    "    \n",
    "      # Group \n",
    "    html.Div([\n",
    "        \n",
    "        html.Div([\n",
    "           dcc.RadioItems(id='raditem1',\n",
    "                    options = [{'label': year, 'value': year} for year in df_viz6a['Year'].unique()],\n",
    "                    value=df_viz6a['Year'].unique()[0],\n",
    "                    style={\"width\": \"50%\"}\n",
    "                ),\n",
    "            html.Div([\n",
    "                dcc.Graph(id='donut_graph1')\n",
    "        ]),\n",
    "    ], className = 'col-7'),\n",
    "        \n",
    "        html.Div([\n",
    "            html.H6(\"Intensifying programs for self-employed workers capacitates 27% of employed workers\", className=\"mb-5\"),\n",
    "            html.P(\"With the recent House of Representatives bill giving protection and incentives to freelancers, the Philippines is slowly being a hub for self-employed professionals such as social media managers, virtual assistants, and consultants. Policymakers can learn a thing or two from this segment whose 21st century skills allow them to be marketable to both local and international clientele. Besides further support for the sector, they can be tapped for collaborations to upskill other groups in society such as out-of-school youth and mothers.\", className=\"mb-5\"),\n",
    " ], className=\"page3 col-5\"\n",
    "        ),\n",
    "    ], className = \"row\"),\n",
    "\n",
    "     #Group\n",
    "    \n",
    "     html.Div([\n",
    "        \n",
    "\n",
    "        \n",
    "        html.Div([\n",
    "           html.H6(\"Still at its infancy at 2.3% share, entrepreneurship can be further accelerated for traditional businesses\", className=\"mb-5\"),\n",
    "            html.P(\"In the past years, the number of Philippine enterprises accepted to Y Combinator, the world's largest startup incubator, have grown covering cloud kitchens, health tech, edtech, fintech and other industries. There is also massive support for these enterprises, from conglomerates like Aboitiz and Globe to government agencies like the DICT. Still, these are just a fraction of the possible businesses one can open. In the Philippines, traditional businesses are the more familiar pathway for many Filipinos and policymakers can harness innovative practices from tech industries to improve business know-how of the common Juan..\", className=\"mb-5\"),\n",
    "\n",
    "            ], className=\"page3 col-5\"\n",
    "        ),\n",
    "         \n",
    "         \n",
    "          html.Div([\n",
    "       dcc.RadioItems(id='raditem2',\n",
    "                options = [{'label': year, 'value': year} for year in df_viz6b['Year'].unique()],\n",
    "                value=df_viz6b['Year'].unique()[0],\n",
    "                style={\"width\": \"30%\"}\n",
    "            ),\n",
    "    \n",
    "        html.Div([\n",
    "            dcc.Graph(id='donut_graph2')\n",
    "        ]),\n",
    "     ], className = 'col-7'),\n",
    "    ], className = \"row\"),\n",
    "   \n",
    "     # Group \n",
    "    html.Div([\n",
    "        \n",
    "        html.Div([\n",
    "           dcc.RadioItems(id='raditem',\n",
    "                options = [{'label': year, 'value': year} for year in df_viz7['Year'].unique()],\n",
    "                value=df_viz7['Year'].unique()[0],\n",
    "                style={\"width\": \"50%\"}\n",
    "            ),\n",
    "    \n",
    "    \n",
    "    html.Div([\n",
    "        dcc.Graph(id='bar_graph', animate = True)\n",
    "    ]),\n",
    "    ], className = 'col-6'),\n",
    "        \n",
    "        html.Div([\n",
    "            html.H6(\"2022 saw a decrease in the number of unemployed people, with 25-34 and 55 and above age groups as a crucial group to support\", className=\"mb-5\"),\n",
    "            html.P(\"The distribution of unemployed people is concentrated in the younger age groups. For 15 to 24 year olds, this is understandable since they are still students, but the high numbers for 25-34 year olds require more attention as financial and professional stability at this stage of life are predictors for quality of life later on. Moreover, despite their  low numbers, older age groups should not be overlooked as unexpected catastrophies such as COVID-19 or technolgoy advancement like generative AI could render them jobless without 21st century skills. The 55 and above age groups in particular may have the most difficulty in accessing this kind of learning.\", className=\"mb-5\"),\n",
    "           ], className=\"page3 col-6\"),\n",
    "    ], className = \"row\"),\n",
    "  \n",
    "  \n",
    "    \n",
    "    \n",
    "])\n",
    "@page.callback(\n",
    "    Output(\"donut_graph1\", \"figure\"), \n",
    "    [Input(\"raditem1\", \"value\")]\n",
    ")\n",
    "    \n",
    "def update_graph(my_raditem1):\n",
    "    filtered_df_viz6a = df_viz6a[df_viz6a['Year'] == my_raditem1]\n",
    "\n",
    "    custom_color_map_1 ={'Self-Employed': '#9a62a4',\n",
    "                         'Unpaid Family Worker': '#9a98b5',\n",
    "                         'Wage and Salary Workers': '#a0b9c6',\n",
    "                         'Employer': '#fcb97d'}\n",
    "\n",
    "    don1 = px.pie(filtered_df_viz6a, values='Number of Workers', names='Type of Worker', title = \"Classification of Employed Workers\", hole=.5, color= 'Type of Worker',color_discrete_map=custom_color_map_1)\n",
    "    don1.update_layout(transition_duration=500)\n",
    "\n",
    "    return don1\n",
    "\n",
    "@page.callback(\n",
    "    Output(\"donut_graph2\", \"figure\"), \n",
    "    [Input(\"raditem2\", \"value\")]\n",
    ")\n",
    "    \n",
    "def update_graph(my_raditem2):\n",
    "    filtered_df_viz6b = df_viz6b[df_viz6b['Year'] == my_raditem2]\n",
    "\n",
    "    custom_color_map_2 ={'Private Household': '#9a98b5',\n",
    "                         'Private Establishment': '#a0b9c6',\n",
    "                         'Government or Government Corporation': '#9a62a4',\n",
    "                         'Family-Operated Business': '#fcb97d'}\n",
    "    \n",
    "    don2 = px.pie(filtered_df_viz6b, values='Number of Wage and Salary Workers', names='Type of Wage and Salary Worker', title = \"Classification of Wage & Salary Workers\", hole=.5, color= 'Type of Wage and Salary Worker',color_discrete_map=custom_color_map_2)\n",
    "    don2.update_layout(transition_duration=500)\n",
    "\n",
    "    return don2\n",
    "\n",
    "@page.callback(\n",
    "    Output(\"bar_graph\", \"figure\"), \n",
    "    [Input(\"raditem\", \"value\")]\n",
    ")\n",
    "    \n",
    "def update_graph(my_raditem):\n",
    "    filtered_df_viz7 = df_viz7[df_viz7['Year'] == my_raditem]\n",
    "    bar_age = px.bar(filtered_df_viz7, x=\"Age Range\", y=\"Number of Unemployed Workers\", text=\"Number of Unemployed Workers\", title = \"Age Distribution of Unemployed Workers\",color =\"Age Range\", color_discrete_sequence=['#9a62a4'])\n",
    "    bar_age.update_traces(textposition=\"auto\")\n",
    "    bar_age.update_layout(transition_duration=500) # set the duration of the transition\n",
    " #   fig.update_layout(yaxis_tickformat = ',')\n",
    "    return bar_age\n",
    "\n",
    "\n",
    "\n",
    "if __name__ == '__main__':\n",
    "  page.run_server(debug=True, port = 8038)"
   ]
  },
  {
   "cell_type": "markdown",
   "id": "65852069-7b44-4489-96f8-5cff8c0e4456",
   "metadata": {
    "id": "8I_ufLNeqn_q",
    "tags": []
   },
   "source": [
    "# Graph Proper"
   ]
  },
  {
   "cell_type": "code",
   "execution_count": null,
   "id": "ffae1cbb-4dfb-4e42-a538-512ad00c33fb",
   "metadata": {},
   "outputs": [],
   "source": []
  },
  {
   "cell_type": "code",
   "execution_count": null,
   "id": "0d92e0df-7e26-44c5-b0c2-e8bb0eba08fe",
   "metadata": {
    "id": "_jLFqbxmph7k"
   },
   "outputs": [],
   "source": []
  },
  {
   "cell_type": "markdown",
   "id": "0ec5f9df-5c47-498e-8ad3-afad5bcaf5e1",
   "metadata": {
    "id": "hM9MZ97ipbax"
   },
   "source": [
    "#Age of Unemployed People Bar Chart"
   ]
  },
  {
   "cell_type": "code",
   "execution_count": null,
   "id": "8e8de6e0-dfd4-43cb-b4bd-4fe6083c4ca8",
   "metadata": {
    "id": "J2ATXHABpmzw"
   },
   "outputs": [],
   "source": []
  }
 ],
 "metadata": {
  "kernelspec": {
   "display_name": "Python 3 (ipykernel)",
   "language": "python",
   "name": "python3"
  },
  "language_info": {
   "codemirror_mode": {
    "name": "ipython",
    "version": 3
   },
   "file_extension": ".py",
   "mimetype": "text/x-python",
   "name": "python",
   "nbconvert_exporter": "python",
   "pygments_lexer": "ipython3",
   "version": "3.9.12"
  }
 },
 "nbformat": 4,
 "nbformat_minor": 5
}
